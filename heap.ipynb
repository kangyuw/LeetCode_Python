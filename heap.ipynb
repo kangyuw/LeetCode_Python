{
 "metadata": {
  "language_info": {
   "codemirror_mode": {
    "name": "ipython",
    "version": 3
   },
   "file_extension": ".py",
   "mimetype": "text/x-python",
   "name": "python",
   "nbconvert_exporter": "python",
   "pygments_lexer": "ipython3",
   "version": 3
  },
  "orig_nbformat": 2
 },
 "nbformat": 4,
 "nbformat_minor": 2,
 "cells": [
  {
   "source": [
    "### [347\\. Top K Frequent Elements](https://leetcode.com/problems/top-k-frequent-elements/)\n",
    "\n",
    "回傳 k 個最常出現的數字\n",
    "\n",
    "先轉換成 Counter\n",
    "\n",
    "用 nlargest 找到 K 個最常出現的數字\n",
    "\n",
    "max heap\n",
    "\n",
    "Time: O(n log n)"
   ],
   "cell_type": "markdown",
   "metadata": {}
  },
  {
   "cell_type": "code",
   "execution_count": null,
   "metadata": {},
   "outputs": [],
   "source": [
    "class Solution:\n",
    "    def topKFrequent(self, nums: List[int], k: int) -> List[int]:\n",
    "        if k == len(nums):\n",
    "            return nums\n",
    "        count = Counter(nums)\n",
    "        return heapq.nlargest(k, count.keys(), key=lambda )"
   ]
  },
  {
   "source": [
    "### [767. Reorganize String](https://leetcode.com/problems/reorganize-string/)\n",
    "\n",
    "如果輸入字串 s 可以變成交替出現的字串, 回傳交替出現的字串\n",
    "\n",
    "不行的話就回傳空字串\n",
    "\n",
    "先把字串 S 轉換成 Counter\n",
    "\n",
    "依照出現頻率放進 heap 之中, 因為 python heap 是 minheap, 要把出現次數改成 -v\n",
    "\n",
    "如果有任何一個字母出現次數 > 長度的一半: 一定會重複, 回傳空字串\n",
    "\n",
    "把最常出現的字母交替插入, 如果還有剩下一個就再插入"
   ],
   "cell_type": "markdown",
   "metadata": {}
  },
  {
   "cell_type": "code",
   "execution_count": null,
   "metadata": {},
   "outputs": [],
   "source": [
    "from heapq import heapify, heappush, heappop\n",
    "from collections import Counter\n",
    "class Solution:\n",
    "    def reorganizeString(self, S: str) -> str:\n",
    "        counter = Counter(S)\n",
    "        heap = [(-v, k) for k, v in counter.items()]\n",
    "        heapify(heap)\n",
    "        # print(heap)\n",
    "        \n",
    "        if -heap[0][0] > (len(S) + 1) // 2:\n",
    "            return \"\"\n",
    "        \n",
    "        res = \"\"\n",
    "        while len(heap) >= 2:\n",
    "            ct1, char1 = heappop(heap)\n",
    "            ct2, char2 = heappop(heap)\n",
    "            \n",
    "            res += char1 + char2\n",
    "            \n",
    "            if ct1 + 1 < 0:\n",
    "                heappush(heap, (ct1+1, char1))\n",
    "            if ct2 + 1 < 0:\n",
    "                heappush(heap, (ct2+1, char2))\n",
    "            print(heap)\n",
    "        \n",
    "        if heap:\n",
    "            res += heap[0][1]\n",
    "        \n",
    "        return res"
   ]
  },
  {
   "source": [
    "### [692. Top K Frequent Words](https://leetcode.com/problems/top-k-frequent-words/)\n",
    "\n",
    "先用 counter 計算出現頻率\n",
    "\n",
    "放進 heap 中, 順序是 (-freq, word) 先照著頻率, 再照字母順序排序\n",
    "\n",
    "最後推出 k 個回傳"
   ],
   "cell_type": "markdown",
   "metadata": {}
  },
  {
   "cell_type": "code",
   "execution_count": null,
   "metadata": {},
   "outputs": [],
   "source": [
    "from collections import Counter\n",
    "from heapq import heapify, heappop\n",
    "\n",
    "class Solution:\n",
    "    def topKFrequent(self, words: List[str], k: int) -> List[str]:\n",
    "        cnt = Counter(words)\n",
    "        heap = [(-v, k) for k, v in cnt.items()]\n",
    "        heapify(heap)\n",
    "        \n",
    "        return [heappop(heap)[1] for _ in range(k)]"
   ]
  },
  {
   "source": [
    "### [215\\. Kth Largest Element in an Array](https://leetcode.com/problems/kth-largest-element-in-an-array/)"
   ],
   "cell_type": "markdown",
   "metadata": {}
  },
  {
   "cell_type": "code",
   "execution_count": null,
   "metadata": {},
   "outputs": [],
   "source": [
    "from heapq import nlargest\n",
    "\n",
    "class Solution:\n",
    "    def findKthLargest(self, nums: List[int], k: int) -> int:\n",
    "        return nlargest(k, nums)[-1]"
   ]
  },
  {
   "source": [
    "### [295\\. Find Median from Data Stream](https://leetcode.com/problems/find-median-from-data-stream/)\n",
    "\n",
    "#### Solution: Two Heap\n",
    "\n",
    "兩個 heap 分別是 max heap 跟 min heap\n",
    "\n",
    "如果滿足以下兩個條件\n",
    "1. max heap 跟 min heap 差不多一樣長\n",
    "2. max heap 存比較小的數字, min heap 存比較大的數字\n",
    "\n",
    "那麼 max heap 跟 min heap 的第一項就是中位數\n",
    "\n",
    "Algorithm\n",
    "\n",
    "1. 建立兩個 heap, max heap lo 和 min heap hi\n",
    "2. lo 最多可以比 hi 多一個數字, 如果已經處理 k 個數字:\n",
    "    + if k = 2n + 1: lo 可以存 n + 1 個數字, hi 存 n 個數字, 中位數是 lo\\[0]\n",
    "    + if k = 2n: 各存 n 個數字, 中位數是 (hi\\[0] + lo\\[0]) / 2\n",
    "3. 加入數字:\n",
    "    + 如果數字比 lo\\[0] 還要大, 將新數字加進 hi 中, 如果 hi 長度超過, 將 hi 中最小的數字放進 lo 中\n",
    "    + 不然, 將新數字加進 lo 中, 如果 lo 長度超過, 將 lo 中最大的數字放進 hi 中\n",
    "\n",
    "Time: O(log n)"
   ],
   "cell_type": "markdown",
   "metadata": {}
  },
  {
   "cell_type": "code",
   "execution_count": null,
   "metadata": {},
   "outputs": [],
   "source": [
    "from heapq import *\n",
    "\n",
    "class MedianFinder:\n",
    "\n",
    "    def __init__(self):\n",
    "        \"\"\"\n",
    "        initialize your data structure here.\n",
    "        \"\"\"\n",
    "        self.lo = [] # max heap\n",
    "        self.hi = [] # min heap\n",
    "\n",
    "    def addNum(self, num: int) -> None:\n",
    "        if len(self.lo) == 0:\n",
    "            heappush(self.lo, -num)\n",
    "            return\n",
    "        if num > -self.lo[0]:\n",
    "            heappush(self.hi, num)\n",
    "            if len(self.hi) > len(self.lo):\n",
    "                temp = heappop(self.hi)\n",
    "                heappush(self.lo, -temp)\n",
    "        else:\n",
    "            heappush(self.lo, -num)\n",
    "            if len(self.lo) > len(self.hi) + 1:\n",
    "                temp = -heappop(self.lo)\n",
    "                heappush(self.hi, temp)\n",
    "\n",
    "    def findMedian(self) -> float:\n",
    "        if (len(self.lo) + len(self.hi)) % 2 == 0:\n",
    "            return (-self.lo[0] + self.hi[0]) / 2\n",
    "        else:\n",
    "            return -self.lo[0]\n",
    "\n",
    "# Your MedianFinder object will be instantiated and called as such:\n",
    "# obj = MedianFinder()\n",
    "# obj.addNum(num)\n",
    "# param_2 = obj.findMedian()"
   ]
  },
  {
   "source": [
    "\n",
    "**Follow up:**\n",
    "\n",
    "1.  If all integer numbers from the stream are between 0 and 100, how would you optimize it?\n",
    "\n",
    "+ 使用 hash table 紀錄 0-100 每個數字出現的次數, 中位數只要遍歷 hash table 就能得到\n",
    "\n",
    "+ Time: O(100) = O(1), Space: O(100) = O(1)\n",
    "\n",
    "2.  If 99% of all integer numbers from the stream are between 0 and 100, how would you optimize it?\n",
    "\n",
    "+ 既然有 99 % 在 0-100, 那中位數也一定在這範圍內\n",
    "\n",
    "+ 另外紀錄大於 100 的數字有幾個, 之後一樣遍歷 hash table 就可以了\n",
    "\n",
    ".."
   ],
   "cell_type": "markdown",
   "metadata": {}
  }
 ]
}