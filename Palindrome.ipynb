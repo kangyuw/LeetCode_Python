{
 "metadata": {
  "language_info": {
   "codemirror_mode": {
    "name": "ipython",
    "version": 3
   },
   "file_extension": ".py",
   "mimetype": "text/x-python",
   "name": "python",
   "nbconvert_exporter": "python",
   "pygments_lexer": "ipython3",
   "version": "3.8.3-final"
  },
  "orig_nbformat": 2,
  "kernelspec": {
   "name": "python3",
   "display_name": "Python 3"
  }
 },
 "nbformat": 4,
 "nbformat_minor": 2,
 "cells": [
  {
   "source": [
    "## [5. Longest Palindromic Substring](https://leetcode.com/problems/longest-palindromic-substring/)\n",
    "\n",
    "\n",
    "### Brute Force\n",
    "\n",
    "檢查所有子字串是不是回文\n",
    "\n",
    "檢查回文 O(N)\n",
    "\n",
    "Time: O(N^3)\n",
    "\n",
    "### DP: Expand around Center\n",
    "\n",
    "遍歷矩陣, 每次當作從中間元素開始, 向兩邊擴展\n",
    "\n",
    "如果 s\\[i:j] 是回文, s\\[i+1,j-1] 才有可能是回文\n",
    "\n",
    "雖然沒有直接用矩陣儲存結果\n",
    "\n",
    "實際上等同於使用 dp\\[i]\\[j]: 檢查 i~j 是不是回文字串\n",
    "\n",
    "dp\\[i]]\\[j] = dp\\[i+1]\\[j-1] and s\\[i] == s\\[j]\n",
    "\n",
    "Time: best O(N), worst O(N^2)\n",
    "\n",
    "."
   ],
   "cell_type": "markdown",
   "metadata": {}
  },
  {
   "cell_type": "code",
   "execution_count": null,
   "metadata": {},
   "outputs": [],
   "source": [
    "class Solution:\n",
    "    def expand(self, s: str, l: int, r: int):\n",
    "        while l >= 0 and r < len(s) and s[l] == s[r]:\n",
    "            l -= 1\n",
    "            r += 1\n",
    "        return r - l - 1\n",
    "    \n",
    "    def longestPalindrome(self, s: str) -> str:\n",
    "        if len(s) < 2 or s == s[::-1]:\n",
    "            return s\n",
    "        \n",
    "        start = maxLen = 0\n",
    "\n",
    "        for i in range(len(s)):\n",
    "            odd = self.expand(s, i, i)\n",
    "            even = self.expand(s, i, i+1)\n",
    "            curLen = max(odd, even)\n",
    "            if curLen > maxLen:\n",
    "                maxLen = curLen\n",
    "                start = i - (curLen-1) // 2\n",
    "        return s[start:start + maxLen]"
   ]
  },
  {
   "source": [
    "### [Manacher Algorithm](https://leetcode.com/problems/longest-palindromic-substring/discuss/3337/Manacher-algorithm-in-Python-O(n))\n",
    "\n",
    "在字串中插入 # 解決奇數偶數的問題\n",
    "\n",
    "使用 ^ 和 $ 標示頭尾, 避免擴展過頭\n",
    "\n",
    "矩陣 P 儲存擴展的次數, 也會是最大長度\n",
    "\n",
    "C: center, R: right edge\n",
    "\n",
    "."
   ],
   "cell_type": "markdown",
   "metadata": {}
  },
  {
   "cell_type": "code",
   "execution_count": null,
   "metadata": {},
   "outputs": [],
   "source": [
    "class Solution:\n",
    "    #Manacher algorithm\n",
    "    #http://en.wikipedia.org/wiki/Longest_palindromic_substring\n",
    "    \n",
    "    def longestPalindrome(self, s):\n",
    "        # Transform S into T.\n",
    "        # For example, S = \"abba\", T = \"^#a#b#b#a#$\".\n",
    "        # ^ and $ signs are sentinels appended to each end to avoid bounds checking\n",
    "        T = '#'.join(f'^{s}$')\n",
    "        n = len(T)\n",
    "        P = [0] * n\n",
    "        C = R = 0\n",
    "        for i in range (1, n-1):\n",
    "            P[i] = (R > i) and min(R - i, P[2*C - i]) # equals to i' = C - (i-C)\n",
    "            # Attempt to expand palindrome centered at i\n",
    "            while T[i + 1 + P[i]] == T[i - 1 - P[i]]:\n",
    "                P[i] += 1\n",
    "    \n",
    "            # If palindrome centered at i expand past R,\n",
    "            # adjust center based on expanded palindrome.\n",
    "            if i + P[i] > R:\n",
    "                C, R = i, i + P[i]\n",
    "    \n",
    "        # Find the maximum element in P.\n",
    "        maxLen, centerIndex = max((n, i) for i, n in enumerate(P))\n",
    "        return s[(centerIndex  - maxLen)//2: (centerIndex  + maxLen)//2]"
   ]
  },
  {
   "cell_type": "code",
   "execution_count": 1,
   "metadata": {},
   "outputs": [
    {
     "output_type": "execute_result",
     "data": {
      "text/plain": [
       "'^#a#b#b#a#$'"
      ]
     },
     "metadata": {},
     "execution_count": 1
    }
   ],
   "source": [
    "s = 'abba'\n",
    "T = '#'.join(f'^{s}$')\n",
    "T"
   ]
  },
  {
   "source": [
    "## [647. Palindromic Substrings](https://leetcode.com/problems/palindromic-substrings/)\n",
    "\n",
    "計算回文子字串的總數\n",
    "\n",
    "### Brute Force\n",
    "\n",
    "檢查所有子字串, 看是不是回文\n",
    "\n",
    "Time: O(N^3)\n",
    "\n",
    "### DP: Expand around Center\n",
    "\n",
    "Time: O(N^2)"
   ],
   "cell_type": "markdown",
   "metadata": {}
  },
  {
   "cell_type": "code",
   "execution_count": null,
   "metadata": {},
   "outputs": [],
   "source": [
    "class Solution:\n",
    "    def expand(self, s: str, l: int, r: int):\n",
    "        ans = 0\n",
    "        while l >= 0 and r < len(s) and s[l] == s[r]:\n",
    "            l -= 1\n",
    "            r += 1\n",
    "            ans += 1\n",
    "        return ans\n",
    "    \n",
    "    def countSubstrings(self, s: str) -> str:\n",
    "        res = 0\n",
    "\n",
    "        for i in range(len(s)):\n",
    "            res += self.expand(s, i, i)\n",
    "            res += self.expand(s, i, i+1)\n",
    "        return res"
   ]
  },
  {
   "source": [
    "## [336. Palindrome Pairs](https://leetcode.com/problems/palindrome-pairs/)\n",
    "\n",
    "找到可以合成回文的所有組合, 順序\n",
    "\n",
    "### Brute Force\n",
    "\n",
    "測試所有組合是不是回文\n",
    "\n",
    "Time: O(N^2 * k), k 最長字串的長度\n",
    "\n",
    "### Hash Table\n",
    "\n",
    "回文的組合有三種狀況\n",
    "\n",
    "1. mid 在 word1 及 word2 正中間\n",
    "    + word1 + word2\n",
    "\n",
    "2. mid 在 word2 之中, word2 較長且包含 word1 的回文\n",
    "    + word1 + palindrome + valid_suffix\n",
    "\n",
    "3. mid 在 word1 之中, 構造為 \n",
    "    + valid_prefix + palindrome + word2\n",
    "."
   ],
   "cell_type": "markdown",
   "metadata": {}
  },
  {
   "cell_type": "code",
   "execution_count": null,
   "metadata": {},
   "outputs": [],
   "source": [
    "class Solution:\n",
    "    def palindromePairs(self, words):\n",
    "\n",
    "        def all_valid_prefixes(word):\n",
    "            valid_prefixes = []\n",
    "            for i in range(len(word)):\n",
    "                if word[i:] == word[i:][::-1]:\n",
    "                    valid_prefixes.append(word[:i])\n",
    "            return valid_prefixes\n",
    "\n",
    "        def all_valid_suffixes(word):\n",
    "            valid_suffixes = []\n",
    "            for i in range(len(word)):\n",
    "                if word[:i+1] == word[:i+1][::-1]:\n",
    "                    valid_suffixes.append(word[i + 1:])\n",
    "            return valid_suffixes\n",
    "\n",
    "        word_lookup = {word: i for i, word in enumerate(words)}\n",
    "        solutions = []\n",
    "\n",
    "        for word_index, word in enumerate(words):\n",
    "            reversed_word = word[::-1]\n",
    "\n",
    "            # Build solutions of case #1. This word will be word 1.\n",
    "            if reversed_word in word_lookup and word_index != word_lookup[reversed_word]:\n",
    "                solutions.append([word_index, word_lookup[reversed_word]])\n",
    "\n",
    "            # Build solutions of case #2. This word will be word 2.\n",
    "            for suffix in all_valid_suffixes(word):\n",
    "                reversed_suffix = suffix[::-1]\n",
    "                if reversed_suffix in word_lookup:\n",
    "                    solutions.append([word_lookup[reversed_suffix], word_index])\n",
    "\n",
    "            # Build solutions of case #3. This word will be word 1.\n",
    "            for prefix in all_valid_prefixes(word):\n",
    "                reversed_prefix = prefix[::-1]\n",
    "                if reversed_prefix in word_lookup:\n",
    "                    solutions.append([word_index, word_lookup[reversed_prefix]])\n",
    "\n",
    "        return solutions\n"
   ]
  },
  {
   "source": [
    "## [125. Valid Palindrome](https://leetcode.com/problems/valid-palindrome/)\n",
    "\n",
    "### 2 pointers\n",
    "\n",
    "傳換成小寫, 忽略非字母"
   ],
   "cell_type": "markdown",
   "metadata": {}
  },
  {
   "cell_type": "code",
   "execution_count": null,
   "metadata": {},
   "outputs": [],
   "source": [
    "class Solution:\n",
    "    def isPalindrome(self, s: str) -> bool:\n",
    "        lo, hi = 0, len(s) - 1\n",
    "        while lo < hi:\n",
    "            while lo < hi and not s[lo].isalnum():\n",
    "                lo += 1\n",
    "            while lo < hi and not s[hi].isalnum():\n",
    "                hi -= 1\n",
    "            \n",
    "            if lo < hi and s[lo].lower() != s[hi].lower():\n",
    "                return False\n",
    "            \n",
    "            lo += 1\n",
    "            hi -= 1\n",
    "        \n",
    "        return True"
   ]
  },
  {
   "source": [
    "## [680. Valid Palindrome II](https://leetcode.com/problems/valid-palindrome-ii/)\n",
    "\n",
    "最多可以刪除一個字母變成回文\n",
    "\n",
    "### 2 Pointers\n",
    "\n",
    "第一次遇到不符合的狀況, 可以跳過, 然後直接檢查剩下的字串是不是回文\n",
    "\n",
    "."
   ],
   "cell_type": "markdown",
   "metadata": {}
  },
  {
   "cell_type": "code",
   "execution_count": null,
   "metadata": {},
   "outputs": [],
   "source": [
    "class Solution:\n",
    "    def validPalindrome(self, s: str) -> bool:\n",
    "        lo, hi = 0, len(s) - 1\n",
    "        \n",
    "        while lo < hi:\n",
    "            if s[lo] != s[hi]:\n",
    "                tmp1 = s[:lo] + s[lo+1:]\n",
    "                tmp2 = s[:hi] + s[hi+1:]\n",
    "                return tmp1 == tmp1[::-1] or tmp2 == tmp2[::-1]\n",
    "                \n",
    "            else:\n",
    "                lo += 1\n",
    "                hi -= 1\n",
    "        \n",
    "        return True"
   ]
  }
 ]
}