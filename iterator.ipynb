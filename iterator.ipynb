{
 "metadata": {
  "language_info": {
   "codemirror_mode": {
    "name": "ipython",
    "version": 3
   },
   "file_extension": ".py",
   "mimetype": "text/x-python",
   "name": "python",
   "nbconvert_exporter": "python",
   "pygments_lexer": "ipython3",
   "version": "3.8.3-final"
  },
  "orig_nbformat": 2,
  "kernelspec": {
   "name": "python3",
   "display_name": "Python 3",
   "language": "python"
  }
 },
 "nbformat": 4,
 "nbformat_minor": 2,
 "cells": [
  {
   "source": [
    "## [284. Peeking Iterator](https://leetcode.com/problems/peeking-iterator/)\n",
    "\n",
    "hasNext(): return true if the iteration has more elements\n",
    "\n",
    "next(): return the next element in the iteration\n",
    "\n",
    "..."
   ],
   "cell_type": "markdown",
   "metadata": {}
  },
  {
   "cell_type": "code",
   "execution_count": null,
   "metadata": {},
   "outputs": [],
   "source": [
    "class PeekingIterator:\n",
    "    def __init__(self, iterator):\n",
    "        \"\"\"\n",
    "        Initialize your data structure here.\n",
    "        :type iterator: Iterator\n",
    "        \"\"\"\n",
    "        self._iterator = iterator\n",
    "        self._next = iterator.next()\n",
    "\n",
    "    def peek(self):\n",
    "        \"\"\"\n",
    "        Returns the next element in the iteration without advancing the iterator.\n",
    "        :rtype: int\n",
    "        \"\"\"\n",
    "        return self._next\n",
    "\n",
    "    def hasNext(self):\n",
    "        \"\"\"\n",
    "        :rtype: bool\n",
    "        \"\"\"\n",
    "        if self._next:\n",
    "            return True\n",
    "        else:\n",
    "            return False\n",
    "\n",
    "    def next(self):\n",
    "        \"\"\"\n",
    "        :rtype: int\n",
    "        \"\"\"\n",
    "        if not self._next:\n",
    "            raise StopIteration()\n",
    "        res = self._next\n",
    "        if self._iterator.hasNext():\n",
    "            self._next = self._iterator.next()\n",
    "        else:\n",
    "            self._next = None\n",
    "        return res\n",
    "\n"
   ]
  },
  {
   "source": [
    "## [341. Flatten Nested List Iterator](https://leetcode.com/problems/flatten-nested-list-iterator/)\n",
    "\n",
    "Input: a list with multiple layers of other list\n",
    "\n",
    "Output: a single-layer list\n",
    "\n",
    "default function:\n",
    "\n",
    "isInteger(): return true if the NestedInteger holds a single integer\n",
    "\n",
    "* ```isinstance(x, int)``` in python\n",
    "\n",
    "getInteger(): return single integer\n",
    "\n",
    "* for loop\n",
    "\n",
    "getList(): return nested list\n",
    "\n",
    "..."
   ],
   "cell_type": "markdown",
   "metadata": {}
  },
  {
   "cell_type": "code",
   "execution_count": null,
   "metadata": {},
   "outputs": [],
   "source": [
    "class NestedIterator:\n",
    "    def __init__(self, nestedList: [NestedInteger]):\n",
    "        self._integers = []\n",
    "        self._position = -1 ## pointer to previous returned element\n",
    "\n",
    "        def flatten_list(nested_list):\n",
    "            for element in nested_list:\n",
    "                if element.isInteger():\n",
    "                    self._integers.append(element.getInteger())\n",
    "                else:\n",
    "                    flatten_list(element.getList())\n",
    "        \n",
    "        flatten_list(nestedList)\n",
    "    \n",
    "    def next(self) -> int:\n",
    "        self._position += 1\n",
    "        return self._integers[self._position]\n",
    "\n",
    "    def hasNext(self) -> bool:\n",
    "        return self._position + 1 < len(self._integers)\n"
   ]
  },
  {
   "cell_type": "code",
   "execution_count": null,
   "metadata": {},
   "outputs": [],
   "source": [
    "## using queue\n",
    "class NestedIterator:\n",
    "    def __init__(self, nestedList: [NestedInteger]):\n",
    "        self.q = collections.deque(nestedList)\n",
    "    \n",
    "    def next(self) -> int:\n",
    "        return self.q.popleft().getInteger()\n",
    "        \n",
    "    \n",
    "    def hasNext(self) -> bool:\n",
    "        while self.q:\n",
    "            if self.q[0].isInteger():\n",
    "                return True\n",
    "            tmp = self.q.popleft()\n",
    "            self.q.extendleft(tmp.getList()[::-1]) ## push element into the queue to left\n",
    "        return False"
   ]
  }
 ]
}