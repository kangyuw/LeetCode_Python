{
 "metadata": {
  "language_info": {
   "codemirror_mode": {
    "name": "ipython",
    "version": 3
   },
   "file_extension": ".py",
   "mimetype": "text/x-python",
   "name": "python",
   "nbconvert_exporter": "python",
   "pygments_lexer": "ipython3",
   "version": 3
  },
  "orig_nbformat": 2
 },
 "nbformat": 4,
 "nbformat_minor": 2,
 "cells": [
  {
   "source": [
    "## [Trapping Rain Water](https://leetcode.com/problems/trapping-rain-water/)\n",
    "\n",
    "+ Use stack to store indices of the bars\n",
    "\n",
    "+ 遍歷矩陣\n",
    "\n",
    "    + while stack and ```height[current] > height[st.top()]```\n",
    "    \n",
    "    + 計算 current 與 top 產生的面積\n",
    "\n",
    "time: O(n)\n",
    "\n",
    "space: O(n)\n",
    "..."
   ],
   "cell_type": "markdown",
   "metadata": {}
  },
  {
   "cell_type": "code",
   "execution_count": null,
   "metadata": {},
   "outputs": [],
   "source": [
    "class Solution:\n",
    "    def trap(self, height: List[int]) -> int:\n",
    "        if not height:\n",
    "            return 0\n",
    "        res = 0\n",
    "        current = 0\n",
    "        stack = []\n",
    "        while (current < len(height)):\n",
    "            while stack and height[current] > height[stack[-1]]:\n",
    "                top = stack.pop()\n",
    "                if not stack:\n",
    "                    break\n",
    "                distance = current - stack[-1] - 1\n",
    "                bounded_h = min(height[current], height[stack[-1]]) - height[top]\n",
    "                res += distance * bounded_h\n",
    "            stack.append(current)\n",
    "            current += 1\n",
    "        return res"
   ]
  },
  {
   "source": [
    "## [20. Valid Parentheses](https://leetcode.com/problems/valid-parentheses/)\n",
    "\n",
    "* Using hash table to store mapping symbol\n",
    "\n",
    "* if the current char is not the mapping symbol in the top, return False\n",
    "\n",
    "* if there is still remaining symbol in the stack after the iteration, return False"
   ],
   "cell_type": "markdown",
   "metadata": {}
  },
  {
   "cell_type": "code",
   "execution_count": null,
   "metadata": {},
   "outputs": [],
   "source": [
    "class Solution:\n",
    "    def isValid(self, s: str) -> bool:\n",
    "        table = {'(':')', '[':']', '{':'}'}\n",
    "        stack = []\n",
    "        while s:\n",
    "            cha, s = s[0], s[1:]\n",
    "            if cha in table.keys():\n",
    "                stack.append(cha)\n",
    "            else:\n",
    "                if not stack or cha != table[stack.pop()]:\n",
    "                    return False\n",
    "        if stack:\n",
    "            return False\n",
    "        return True"
   ]
  },
  {
   "source": [
    "## [394. Decode String](https://leetcode.com/problems/decode-string/)\n",
    "\n",
    "using stack to implement DFS"
   ],
   "cell_type": "markdown",
   "metadata": {}
  },
  {
   "cell_type": "code",
   "execution_count": null,
   "metadata": {},
   "outputs": [],
   "source": [
    "class Solution:\n",
    "    def decodeString(self, s: str) -> str:\n",
    "        stack = []\n",
    "        token = ''\n",
    "        repeator = 0\n",
    "        for char in s:\n",
    "            if char.isdigit():\n",
    "                repeator = repeator * 10 + int(char)\n",
    "            elif char == '[':\n",
    "                stack.append(token)\n",
    "                stack.append(repeator)\n",
    "                token = ''\n",
    "            elif char == ']':\n",
    "                num = stack.pop()\n",
    "                string = stack.pop()\n",
    "                token = string + num*token\n",
    "                repeator = 0\n",
    "            else:\n",
    "                token += char\n",
    "        return token"
   ]
  },
  {
   "source": [
    "## [1249. Minimum Remove to Make Valid Parentheses](https://leetcode.com/problems/minimum-remove-to-make-valid-parentheses/)\n",
    "\n",
    "遇到 ( 的時候+1, ) 的時候-1\n",
    "\n",
    "因為 ) 的數量永遠不應該比 ( 還要多, 任何時候當 balance < 0, \n",
    "\n",
    "使用 stack, 紀錄 index\n",
    "\n",
    "1. 移除 ): 當 stack 是空的, 避免 < 0\n",
    "\n",
    "2. 移除 (: 如果到最後它還是被留在 stack 之中\n",
    "\n",
    "..."
   ],
   "cell_type": "markdown",
   "metadata": {}
  },
  {
   "cell_type": "code",
   "execution_count": null,
   "metadata": {},
   "outputs": [],
   "source": [
    "class Solution:\n",
    "    def minRemoveToMakeValid(self, s: str) -> str:\n",
    "        remove = set()\n",
    "        stack = []\n",
    "        for i, c in enumerate(s):\n",
    "            if c == '(':\n",
    "                stack.append(i)\n",
    "            elif c == ')':\n",
    "                if not stack:\n",
    "                    remove.add(i)\n",
    "                else:\n",
    "                    stack.pop()\n",
    "        remove = remove.union(set(stack))\n",
    "        \n",
    "        ## make new string\n",
    "        new_string = []\n",
    "        for i, c in enumerate(s):\n",
    "            if i not in remove:\n",
    "                new_string.append(c)\n",
    "        \n",
    "        return \"\".join(new_string)"
   ]
  },
  {
   "source": [
    "## [224. Basic Calculator](https://leetcode.com/problems/basic-calculator/)\n",
    "\n",
    "A - B - C: 可以是 A + (-B) + (-C)\n",
    "\n",
    "possible chars: digits, '+', '-', '(', ')', and ' '\n",
    "\n",
    "1. 遇到數字要將數字累計成正確的樣子 number = (number*10) + int(current)\n",
    "\n",
    "2. 遇到 + 或 -, 首先將左側的結果算出來, 再來更新 sign\n",
    "\n",
    "3. 遇到 (: 將目前的結果跟 sign 推進 stack 中, 將目前結果歸零\n",
    "\n",
    "4. 遇到 ): 首先將左側的結果算出來, 再將結果乘上 sign 並加上括號外累計的結果\n",
    "\n",
    "5. 回傳時要將剩下的結果計算出來加上去"
   ],
   "cell_type": "markdown",
   "metadata": {}
  },
  {
   "cell_type": "code",
   "execution_count": null,
   "metadata": {},
   "outputs": [],
   "source": [
    "class Solution:\n",
    "    def calculate(self, s: str) -> int:\n",
    "        stack = []\n",
    "        number = 0\n",
    "        res = 0\n",
    "        sign = 1\n",
    "        \n",
    "        for ch in s:\n",
    "            if ch.isdigit():\n",
    "                number = (number * 10) + int(ch)\n",
    "            elif ch == '+':\n",
    "                res += sign * number\n",
    "                sign = 1\n",
    "                number = 0\n",
    "            elif ch == '-':\n",
    "                res += sign * number\n",
    "                sign = -1\n",
    "                number = 0\n",
    "            elif ch == '(':\n",
    "                stack.append(res)\n",
    "                stack.append(sign)\n",
    "                sign = 1\n",
    "                res = 0\n",
    "            elif ch == ')':\n",
    "                res += sign * number\n",
    "                res *= stack.pop() ## sign\n",
    "                res += stack.pop() ## previous result\n",
    "                number = 0\n",
    "        return res + sign * number"
   ]
  },
  {
   "source": [
    "## [227. Basic Calculator II](https://leetcode.com/problems/basic-calculator-ii/)\n",
    "\n",
    "多了 * 跟 /, 並且沒有括號\n",
    "\n",
    "1. 紀錄前一次計算的 operator, 當遇到新的 operator 或字串走完後, 將結果計算出來存進 stack 中\n",
    "\n",
    "2. / 要特別注意負數的情形\n",
    "\n",
    "3. 回傳 stack 中所有東西的總和"
   ],
   "cell_type": "markdown",
   "metadata": {}
  },
  {
   "cell_type": "code",
   "execution_count": null,
   "metadata": {},
   "outputs": [],
   "source": [
    "class Solution:\n",
    "    def calculate(self, s: str) -> int:\n",
    "        stack = []\n",
    "        number = 0\n",
    "        res = 0\n",
    "        operator = '+'\n",
    "\n",
    "        for i, ch in enumerate(s):\n",
    "            if ch.isdigit():\n",
    "                number = (number * 10) + int(ch)\n",
    "            if (not ch.isdigit() and ch != ' ') or i == len(s) - 1:\n",
    "                if operator == '+':\n",
    "                    stack.append(number)\n",
    "                elif operator == '-':\n",
    "                    stack.append(-number)\n",
    "                elif operator == '*':\n",
    "                    top = stack.pop()\n",
    "                    stack.append(top * number)\n",
    "                elif operator == '/':\n",
    "                    top = stack.pop()\n",
    "                    if top//number < 0 and top%number != 0:\n",
    "                        stack.append(top//number + 1)\n",
    "                    else:\n",
    "                        stack.append(top//number)\n",
    "                operator = ch\n",
    "                number = 0\n",
    "        while stack:\n",
    "            res += stack.pop()\n",
    "        return res"
   ]
  },
  {
   "source": [
    "## [85. Maximal Rectangle](https://leetcode.com/problems/maximal-rectangle/)\n",
    "\n",
    "回傳最大的長方形面積\n",
    "\n",
    "將每一行當成底部, 並將整個圖視作 histogram, 計算最大的面積\n",
    "\n"
   ],
   "cell_type": "markdown",
   "metadata": {}
  },
  {
   "cell_type": "code",
   "execution_count": null,
   "metadata": {},
   "outputs": [],
   "source": [
    "class Solution:\n",
    "    def largestHist(self, heights: List[int]) -> int:\n",
    "        heights.append(0) # prevent out of range\n",
    "        stack = [-1] # store index\n",
    "        res = 0\n",
    "        for i in range(len(heights)):\n",
    "            while heights[i] < heights[stack[-1]]:\n",
    "                h = heights[stack.pop()]\n",
    "                w = i - stack[-1] -1\n",
    "                res = max(res, h * w)\n",
    "            stack.append(i)\n",
    "        heights.pop()\n",
    "        return res\n",
    "        \n",
    "    def maximalRectangle(self, matrix: List[List[str]]) -> int:\n",
    "        if not matrix:\n",
    "            return 0\n",
    "        m, n = len(matrix), len(matrix[0])\n",
    "        hist = [0 for j in range(n)]\n",
    "        res = 0\n",
    "        for i in range(m):\n",
    "            for j in range(n):\n",
    "                if matrix[i][j] == \"1\":\n",
    "                    hist[j] += 1\n",
    "                else:\n",
    "                    hist[j] = 0\n",
    "            res = max(res, self.largestHist(hist))\n",
    "        return res"
   ]
  },
  {
   "source": [
    "## [1047. Remove All Adjacent Duplicates In String](https://leetcode.com/problems/remove-all-adjacent-duplicates-in-string/)\n",
    "\n",
    "移除所有相鄰的重複字元, 直到不能做為止\n",
    "\n",
    "使用 stack 來記錄, 遇到與 top 重複的字元就將 top 推出"
   ],
   "cell_type": "markdown",
   "metadata": {}
  },
  {
   "cell_type": "code",
   "execution_count": null,
   "metadata": {},
   "outputs": [],
   "source": [
    "class Solution:\n",
    "    def removeDuplicates(self, S: str) -> str:\n",
    "        stack = []\n",
    "        for ch in S:\n",
    "            if stack and ch == stack[-1]:\n",
    "                stack.pop()\n",
    "            else:\n",
    "                stack.append(ch)\n",
    "        return \"\".join(stack)"
   ]
  },
  {
   "source": [
    "## [1209. Remove All Adjacent Duplicates in String II](https://leetcode.com/problems/remove-all-adjacent-duplicates-in-string-ii/)\n",
    "\n",
    "移除 k 個連續的重複字元, 上一題的 k = 2\n",
    "\n",
    "stack 紀錄每個字母連續出現的次數\n",
    "\n",
    "當 top == k, 移除該區間 (i-k ~ i), 座標重新設定為 i-k\n",
    "\n",
    "..."
   ],
   "cell_type": "markdown",
   "metadata": {}
  },
  {
   "cell_type": "code",
   "execution_count": null,
   "metadata": {},
   "outputs": [],
   "source": [
    "class Solution:\n",
    "    def removeDuplicates(self, s: str, k: int) -> str:\n",
    "        stack = []\n",
    "        i = 0\n",
    "        while i < len(s):\n",
    "            if i == 0 or s[i-1] != s[i]:\n",
    "                stack.append(1)\n",
    "            else:\n",
    "                stack[-1] += 1\n",
    "            if stack[-1] == k:\n",
    "                stack.pop()\n",
    "                s = s[:i-k+1] + s[i+1:]\n",
    "                i = i - k\n",
    "            i += 1\n",
    "        return s"
   ]
  },
  {
   "source": [
    "## [155. Min Stack](https://leetcode.com/problems/min-stack/)\n",
    "\n",
    "使用 stack((x,min)) 紀錄, 前者是數字, 後者是最小值"
   ],
   "cell_type": "markdown",
   "metadata": {}
  },
  {
   "cell_type": "code",
   "execution_count": null,
   "metadata": {},
   "outputs": [],
   "source": [
    "class MinStack:\n",
    "\n",
    "    def __init__(self):\n",
    "        \"\"\"\n",
    "        initialize your data structure here.\n",
    "        \"\"\"\n",
    "        self.stack = []\n",
    "\n",
    "    def push(self, x: int) -> None:\n",
    "        if not self.stack:\n",
    "            self.stack.append((x,x))\n",
    "        else:\n",
    "            cur_min = self.stack[-1][1]\n",
    "            self.stack.append((x, min(x, cur_min)))\n",
    "\n",
    "    def pop(self) -> None:\n",
    "        self.stack.pop()\n",
    "\n",
    "    def top(self) -> int:\n",
    "        return self.stack[-1][0]\n",
    "\n",
    "    def getMin(self) -> int:\n",
    "        return self.stack[-1][1]"
   ]
  }
 ]
}