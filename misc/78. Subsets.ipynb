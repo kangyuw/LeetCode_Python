{
 "cells": [
  {
   "cell_type": "markdown",
   "metadata": {},
   "source": [
    "### [78\\. Subsets](https://leetcode.com/problems/subsets/)\n",
    "\n",
    "Difficulty: **Medium**\n",
    "\n",
    "\n",
    "Given a set of **distinct** integers, _nums_, return all possible subsets (the power set).\n",
    "\n",
    "**Note:** The solution set must not contain duplicate subsets.\n",
    "\n",
    "**Example:**\n",
    "\n",
    "```\n",
    "Input: nums = [1,2,3]\n",
    "Output:\n",
    "[\n",
    "  [3],\n",
    "  [1],\n",
    "  [2],\n",
    "  [1,2,3],\n",
    "  [1,3],\n",
    "  [2,3],\n",
    "  [1,2],\n",
    "  []\n",
    "]\n",
    "```"
   ]
  },
  {
   "cell_type": "markdown",
   "metadata": {},
   "source": [
    "Solution: Backtracking\n",
    "\n",
    "窮舉所有的組合\n",
    "\n",
    "Choice: 要不要加入這個數字\n",
    "\n",
    "Constrain: 沒有數字可以選了\n",
    "\n",
    "Goal: 遍歷完所有數字"
   ]
  },
  {
   "cell_type": "code",
   "execution_count": 1,
   "metadata": {},
   "outputs": [],
   "source": [
    "class Solution:\n",
    "    def subsets(self, nums):\n",
    "        \n",
    "        res = []\n",
    "        if not nums:\n",
    "            return res\n",
    "        nums.sort()\n",
    "        \n",
    "        def backtracking(res, item, start):\n",
    "            res.append(item)\n",
    "            for i in range(start, len(nums)):\n",
    "                backtracking(res, item + [nums[i]], i + 1)\n",
    "        \n",
    "        backtracking(res, [], 0)\n",
    "        return res"
   ]
  },
  {
   "cell_type": "code",
   "execution_count": 2,
   "metadata": {},
   "outputs": [
    {
     "output_type": "execute_result",
     "data": {
      "text/plain": "[[], [1], [1, 2], [1, 2, 3], [1, 3], [2], [2, 3], [3]]"
     },
     "metadata": {},
     "execution_count": 2
    }
   ],
   "source": [
    "Solution.subsets(_, [1,2,3])"
   ]
  }
 ],
 "metadata": {
  "language_info": {
   "codemirror_mode": {
    "name": "ipython",
    "version": 3
   },
   "file_extension": ".py",
   "mimetype": "text/x-python",
   "name": "python",
   "nbconvert_exporter": "python",
   "pygments_lexer": "ipython3",
   "version": "3.7.4-final"
  },
  "orig_nbformat": 2,
  "kernelspec": {
   "name": "python37432bitleetcodepipenve0a86c91897b47168bafc77adf197e07",
   "display_name": "Python 3.7.4 32-bit ('LeetCode': pipenv)"
  }
 },
 "nbformat": 4,
 "nbformat_minor": 2
}