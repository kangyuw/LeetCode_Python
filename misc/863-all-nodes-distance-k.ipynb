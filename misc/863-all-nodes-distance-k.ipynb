{
 "metadata": {
  "language_info": {
   "codemirror_mode": {
    "name": "ipython",
    "version": 3
   },
   "file_extension": ".py",
   "mimetype": "text/x-python",
   "name": "python",
   "nbconvert_exporter": "python",
   "pygments_lexer": "ipython3",
   "version": 3
  },
  "orig_nbformat": 2
 },
 "nbformat": 4,
 "nbformat_minor": 2,
 "cells": [
  {
   "source": [
    "### [863\\. All Nodes Distance K in Binary Tree](https://leetcode.com/problems/all-nodes-distance-k-in-binary-tree/)\n",
    "\n",
    "Difficulty: **Medium**  \n",
    "\n",
    "Related Topics: [Tree](https://leetcode.com/tag/tree/), [Depth-first Search](https://leetcode.com/tag/depth-first-search/), [Breadth-first Search](https://leetcode.com/tag/breadth-first-search/)\n",
    "\n",
    "\n",
    "We are given a binary tree (with root node `root`), a `target` node, and an integer value `K`.\n",
    "\n",
    "Return a list of the values of all nodes that have a distance `K` from the `target` node.  The answer can be returned in any order.\n",
    "\n",
    "\n",
    "**Example 1:**\n",
    "\n",
    "```\n",
    "Input: root = [3,5,1,6,2,0,8,null,null,7,4], target = 5, K = 2\n",
    "\n",
    "Output: [7,4,1]\n",
    "\n",
    "Explanation: \n",
    "The nodes that are a distance 2 from the target node (with value 5)\n",
    "have values 7, 4, and 1.\n",
    "\n",
    "Note that the inputs \"root\" and \"target\" are actually TreeNodes.\n",
    "The descriptions of the inputs above are just serializations of these objects.\n",
    "```\n",
    "\n",
    "**Note:**\n",
    "\n",
    "1.  The given tree is non-empty.\n",
    "2.  Each node in the tree has unique values `0 <= node.val <= 500`.\n",
    "3.  The `target` node is a node in the tree.\n",
    "4.  `0 <= K <= 1000`."
   ],
   "cell_type": "markdown",
   "metadata": {}
  },
  {
   "source": [
    "### BFS\n",
    "\n",
    "[參考影片](https://youtu.be/nPtARJ2cYrg)\n",
    "\n",
    "Tree 的問題在於, 不能往回走\n",
    "\n",
    "將 tree node 存進 hash table 中, 然後對 hash table 做 bfs\n",
    "\n",
    "```table[node.val] = [node.left.val, node.right.val, node.parent.val]```\n",
    "\n",
    "找到距離 K 的那層之後, 就是答案\n",
    "\n",
    "n: # of nodes\n",
    "\n",
    "m: # of edges = n - 1\n",
    "\n",
    "Time: O(m+n) = O(n)\n",
    "\n",
    "Space: O(n)\n"
   ],
   "cell_type": "markdown",
   "metadata": {}
  }
 ]
}