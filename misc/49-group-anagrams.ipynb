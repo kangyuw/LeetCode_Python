{
 "cells": [
  {
   "cell_type": "markdown",
   "metadata": {},
   "source": [
    "### [49\\. Group Anagrams](https://leetcode.com/problems/group-anagrams/)\n",
    "\n",
    "Difficulty: **Medium**\n",
    "\n",
    "\n",
    "Given an array of strings, group anagrams together.\n",
    "\n",
    "**Example:**\n",
    "\n",
    "```\n",
    "Input: [\"eat\", \"tea\", \"tan\", \"ate\", \"nat\", \"bat\"],\n",
    "Output:\n",
    "[\n",
    "  [\"ate\",\"eat\",\"tea\"],\n",
    "  [\"nat\",\"tan\"],\n",
    "  [\"bat\"]\n",
    "]\n",
    "```\n",
    "\n",
    "**Note:**\n",
    "\n",
    "*   All inputs will be in lowercase.\n",
    "*   The order of your output does not matter."
   ]
  },
  {
   "cell_type": "markdown",
   "metadata": {},
   "source": [
    "anagrams: 用一樣字母組成的單字\n",
    "## Solution 1: dict\n",
    "遍歷字串, 根據 set 作為 key, 建立 dict"
   ]
  },
  {
   "cell_type": "code",
   "execution_count": 7,
   "metadata": {},
   "outputs": [],
   "source": [
    "class Solution:\n",
    "    def groupAnagrams(self, strs):\n",
    "        dic = {}\n",
    "        for str in strs:\n",
    "            set_ = tuple(sorted(str))\n",
    "            if set_ in dic:\n",
    "                dic[set_].append(str)\n",
    "            else:\n",
    "                dic[set_] = [str]\n",
    "        return dic.values()"
   ]
  },
  {
   "cell_type": "code",
   "execution_count": null,
   "metadata": {},
   "outputs": [],
   "source": [
    "## Solution 2:\n",
    "defaultdict 不用另外判斷存在不存在"
   ]
  },
  {
   "cell_type": "code",
   "execution_count": null,
   "metadata": {},
   "outputs": [],
   "source": [
    "class Solution:\n",
    "    def groupAnagrams(self, strs: List[str]) -> List[List[str]]:\n",
    "        if not strs:\n",
    "            return strs\n",
    "        \n",
    "        anagrams = defaultdict(list)\n",
    "        for elem in strs:\n",
    "            key = ''.join(sorted(elem))\n",
    "            anagrams[key].append(elem)\n",
    "        \n",
    "        return [\n",
    "            group for group in anagrams.values()\n",
    "        ]"
   ]
  }
 ],
 "metadata": {
  "language_info": {
   "codemirror_mode": {
    "name": "ipython",
    "version": 3
   },
   "file_extension": ".py",
   "mimetype": "text/x-python",
   "name": "python",
   "nbconvert_exporter": "python",
   "pygments_lexer": "ipython3",
   "version": "3.7.4-final"
  },
  "orig_nbformat": 2,
  "kernelspec": {
   "name": "python37432bitleetcodepipenve0a86c91897b47168bafc77adf197e07",
   "display_name": "Python 3.7.4 32-bit ('LeetCode': pipenv)"
  }
 },
 "nbformat": 4,
 "nbformat_minor": 2
}