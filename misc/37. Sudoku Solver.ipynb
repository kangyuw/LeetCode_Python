{
 "metadata": {
  "language_info": {
   "codemirror_mode": {
    "name": "ipython",
    "version": 3
   },
   "file_extension": ".py",
   "mimetype": "text/x-python",
   "name": "python",
   "nbconvert_exporter": "python",
   "pygments_lexer": "ipython3",
   "version": "3.8.3-final"
  },
  "orig_nbformat": 2,
  "kernelspec": {
   "name": "python3",
   "display_name": "Python 3"
  }
 },
 "nbformat": 4,
 "nbformat_minor": 2,
 "cells": [
  {
   "source": [
    "### [37\\. Sudoku Solver](https://leetcode.com/problems/sudoku-solver/)\n",
    "\n",
    "Choice: 1-9的數字\n",
    "\n",
    "Constrain: 符合數獨規則\n",
    "\n",
    "1. row 不能有重複\n",
    "2. column 不能有重複\n",
    "3. sub-box 不能有重複\n",
    "\n",
    "Goal: 遍歷到 board\\[8]\\[8]\n",
    "\n",
    "Time: $O(9^{81})$\n",
    "\n",
    "Space: $O(81)$"
   ],
   "cell_type": "markdown",
   "metadata": {}
  },
  {
   "cell_type": "code",
   "execution_count": null,
   "metadata": {},
   "outputs": [],
   "source": [
    "from collections import defaultdict\n",
    "class Solution:\n",
    "    def solveSudoku(self, board: List[List[str]]) -> None:\n",
    "        \"\"\"\n",
    "        Do not return anything, modify board in-place instead.\n",
    "        \"\"\"\n",
    "        # constrain: sudoku rule\n",
    "        def is_valid(row, col, val):\n",
    "            # check row\n",
    "            for c in range(9):\n",
    "                if board[row][c] == val:\n",
    "                    return False\n",
    "            \n",
    "            # check col\n",
    "            for r in range(9):\n",
    "                if board[r][col] == val:\n",
    "                    return False\n",
    "            \n",
    "            # check box\n",
    "            box_r = row - row%3\n",
    "            box_c = col - col%3\n",
    "            for r in range(box_r, box_r+3):\n",
    "                for c in range(box_c, box_c+3):\n",
    "                    if board[r][c] == val:\n",
    "                        return False\n",
    "            return True\n",
    "        \n",
    "        def find_dot():\n",
    "            for r in range(9):\n",
    "                for c in range(9):\n",
    "                    if board[r][c] == '.':\n",
    "                        return r, c\n",
    "            return -1, -1\n",
    "\n",
    "\n",
    "        def backtrack():\n",
    "            r, c = find_dot()\n",
    "            # goal: no more dots\n",
    "            if r == -1 and c == -1:\n",
    "                return True\n",
    "            \n",
    "            # choice\n",
    "            for val in ['1','2','3','4','5','6','7','8','9']:\n",
    "                if is_valid(r, c, val):\n",
    "                    board[r][c] = val\n",
    "                    # dive to next recursive\n",
    "                    if backtrack():\n",
    "                        return True\n",
    "                    # pop out current input for next recursive\n",
    "                    board[r][c] = '.'\n",
    "            return False\n",
    "        \n",
    "        backtrack()"
   ]
  },
  {
   "cell_type": "code",
   "execution_count": 10,
   "metadata": {},
   "outputs": [
    {
     "output_type": "execute_result",
     "data": {
      "text/plain": [
       "[[0, 0, 0, 1, 1, 1, 2, 2, 2],\n",
       " [0, 0, 0, 1, 1, 1, 2, 2, 2],\n",
       " [0, 0, 0, 1, 1, 1, 2, 2, 2],\n",
       " [3, 3, 3, 4, 4, 4, 5, 5, 5],\n",
       " [3, 3, 3, 4, 4, 4, 5, 5, 5],\n",
       " [3, 3, 3, 4, 4, 4, 5, 5, 5],\n",
       " [6, 6, 6, 7, 7, 7, 8, 8, 8],\n",
       " [6, 6, 6, 7, 7, 7, 8, 8, 8],\n",
       " [6, 6, 6, 7, 7, 7, 8, 8, 8]]"
      ]
     },
     "metadata": {},
     "execution_count": 10
    }
   ],
   "source": [
    "boxes = [[0]*9 for _ in range(9)]\n",
    "for r in range(9):\n",
    "    for c in range(9):\n",
    "        boxes[r][c] = (r // 3) * 3 + c // 3\n",
    "boxes"
   ]
  },
  {
   "cell_type": "code",
   "execution_count": 11,
   "metadata": {},
   "outputs": [
    {
     "output_type": "execute_result",
     "data": {
      "text/plain": [
       "['1', '2', '3', '4', '5', '6', '7', '8', '9']"
      ]
     },
     "metadata": {},
     "execution_count": 11
    }
   ],
   "source": [
    "[str(n) for n in range(1, 10)]"
   ]
  },
  {
   "cell_type": "code",
   "execution_count": null,
   "metadata": {},
   "outputs": [],
   "source": [
    "# use hash table to check\n",
    "class Solution:\n",
    "    def solveSudoku(self, board: List[List[str]]) -> None:\n",
    "        \"\"\"\n",
    "        Do not return anything, modify board in-place instead.\n",
    "        \"\"\"\n",
    "        m = len(board)\n",
    "        n = len(board[0])\n",
    "        \n",
    "        row = collections.defaultdict(set)\n",
    "        col = collections.defaultdict(set)\n",
    "        box = collections.defaultdict(set)\n",
    "\n",
    "        # initialize: store existing result in hashtable\n",
    "        for i in range(m):\n",
    "            for j in range(n):\n",
    "                row[i].add(board[i][j])\n",
    "                col[j].add(board[i][j])\n",
    "                box[i//3*3+j//3].add(board[i][j])\n",
    "        self.res = False\n",
    "        self.dfs(0,0,row,col,box,board)\n",
    "        \n",
    "        return board\n",
    "        \n",
    "        \n",
    "    def dfs(self,i,j,row,col,box,board):\n",
    "\n",
    "        # goal: finished all row, backtracking done\n",
    "        if i > 8:\n",
    "            self.res = True\n",
    "            return\n",
    "        \n",
    "        # iterative to the next row\n",
    "        if j > 8:\n",
    "            self.dfs(i+1,0,row,col,box,board)\n",
    "            return\n",
    "\n",
    "        # not empty space, next\n",
    "        if board[i][j] != '.':\n",
    "            self.dfs(i,j+1,row,col,box,board)\n",
    "\n",
    "        else:\n",
    "            # choice\n",
    "            for k in ['1','2','3','4','5','6','7','8','9']:\n",
    "                # constrain\n",
    "                if k not in row[i] and k not in col[j] and k not in box[i//3*3+j//3]:\n",
    "                    # add visited value to the hashtable\n",
    "                    row[i].add(k)\n",
    "                    col[j].add(k)\n",
    "                    box[i//3*3+j//3].add(k)\n",
    "                    board[i][j] = k\n",
    "                    # dive to the next recurrsion\n",
    "                    self.dfs(i,j+1,row,col,box,board)\n",
    "                    if self.res:\n",
    "                        return\n",
    "                    # pop out temp insert for the next recurssion\n",
    "                    row[i].remove(k)\n",
    "                    col[j].remove(k)\n",
    "                    box[i//3*3+j//3].remove(k)\n",
    "                    board[i][j] = '.'"
   ]
  }
 ]
}