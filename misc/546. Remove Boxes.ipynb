{
 "metadata": {
  "language_info": {
   "codemirror_mode": {
    "name": "ipython",
    "version": 3
   },
   "file_extension": ".py",
   "mimetype": "text/x-python",
   "name": "python",
   "nbconvert_exporter": "python",
   "pygments_lexer": "ipython3",
   "version": "3.8.3-final"
  },
  "orig_nbformat": 2,
  "kernelspec": {
   "name": "python37432bitleetcodepipenve0a86c91897b47168bafc77adf197e07",
   "display_name": "Python 3.7.4 32-bit ('LeetCode': pipenv)",
   "language": "python"
  }
 },
 "nbformat": 4,
 "nbformat_minor": 2,
 "cells": [
  {
   "source": [
    "class Solution:\n",
    "    def remove(self, boxes):\n",
    "        if not boxes:\n",
    "            return 0\n",
    "        res = 0\n",
    "        for i in range(len(boxes)):\n",
    "            j = i + 1\n",
    "            while j < len(boxes) and boxes[i] == boxes[j]:\n",
    "                j+=1\n",
    "            newBoxes = [0 for _ in range(len(boxes) - (j-i))]\n",
    "            p = 0\n",
    "            k = 0\n",
    "            while k < len(boxes):\n",
    "                if k == i:\n",
    "                    k = j\n",
    "                if k < len(boxes):\n",
    "                    newBoxes[p] = boxes[k]\n",
    "                    p += 1\n",
    "                k += 1\n",
    "            res = max(res, self.remove(newBoxes)+(j-i)*(j-i))\n",
    "        return res\n",
    "\n",
    "\n",
    "    def removeBoxes(self, boxes) -> int:\n",
    "        return self.remove(boxes)"
   ],
   "cell_type": "code",
   "metadata": {},
   "execution_count": 6,
   "outputs": []
  },
  {
   "source": [
    "### DP with memorization\n",
    "\n",
    "[link](https://leetcode.com/problems/remove-boxes/discuss/101311/Python-Fast-DP-with-Explanation)\n",
    "\n",
    "dp(i,j,k): 得到從 i 到 j 之間的分數, k 代表在 i 之前與 i 同顏色的格子\n",
    "\n",
    "1. 在 dp(i,j,k) 時, 所有 i 之前的格子都已經被移除\n",
    "\n",
    "2. 對每個 dp(i,j,k) 有兩個選擇, 移除 i 或不移除 i 格\n",
    "\n",
    "3. 如果移除 i, 得到 i 及之前 k 的分數. 進入下一次遞迴 dp(i+1,j,0)\n",
    "\n",
    "4. 如果不移除 i, k = k+1. \n",
    ".."
   ],
   "cell_type": "markdown",
   "metadata": {}
  },
  {
   "cell_type": "code",
   "execution_count": 16,
   "metadata": {},
   "outputs": [],
   "source": [
    "def removeBoxes(self, boxes):\n",
    "    N = len(boxes)\n",
    "    memo = [[[0]*N for _ in range(N) ] for _ in range(N) ]\n",
    "    \n",
    "    def dp(i, j, k):\n",
    "        if i > j:\n",
    "            return 0\n",
    "        if not memo[i][j][k]:\n",
    "            m = i\n",
    "            # from box i to m are all same color\n",
    "            while m+1 <= j and boxes[m+1] == boxes[i]:\n",
    "                m += 1\n",
    "            i = m\n",
    "            k = k + m - i\n",
    "            # choose box i\n",
    "            ans = dp(i+1, j, 0) + (k+1) ** 2\n",
    "\n",
    "            for m in range(i+1, j+1):\n",
    "                if boxes[i] == boxes[m]:\n",
    "                    # choose box i or not choose box\n",
    "                    ans = max(ans, dp(i+1, m-1, 0) + dp(m, j, k+1))\n",
    "            memo[i][j][k] = ans\n",
    "        return memo[i][j][k]\n",
    "    \n",
    "    return dp(0, N-1, 0)"
   ]
  },
  {
   "cell_type": "code",
   "execution_count": 17,
   "metadata": {},
   "outputs": [
    {
     "output_type": "execute_result",
     "data": {
      "text/plain": [
       "15"
      ]
     },
     "metadata": {},
     "execution_count": 17
    }
   ],
   "source": [
    "removeBoxes(_, [1,3,2,2,2,3,4,3,1])"
   ]
  },
  {
   "cell_type": "code",
   "execution_count": null,
   "metadata": {},
   "outputs": [],
   "source": [
    "# with LRU cache\n",
    "import functools\n",
    "class Solution:\n",
    "    def removeBoxes(self, boxes: List[int]) -> int:\n",
    "        @functools.lru_cache(None)\n",
    "        def dfs(i,j,k):\n",
    "            if i>j: return 0\n",
    "            cnt=0\n",
    "            while (i+cnt)<=j and boxes[i]==boxes[i+cnt]:\n",
    "                cnt+=1\n",
    "            i2=i+cnt\n",
    "            res=dfs(i2,j,0)+(k+cnt)**2\n",
    "            for m in range(i2,j+1):\n",
    "                if boxes[m]==boxes[i]:\n",
    "                    # choose i and not choose i\n",
    "                    res=max(res, dfs(i2,m-1,0)+dfs(m,j,k+cnt))\n",
    "            return res\n",
    "        return dfs(0,len(boxes)-1,0)"
   ]
  }
 ]
}