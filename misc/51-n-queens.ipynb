{
 "metadata": {
  "language_info": {
   "codemirror_mode": {
    "name": "ipython",
    "version": 3
   },
   "file_extension": ".py",
   "mimetype": "text/x-python",
   "name": "python",
   "nbconvert_exporter": "python",
   "pygments_lexer": "ipython3",
   "version": 3
  },
  "orig_nbformat": 2
 },
 "nbformat": 4,
 "nbformat_minor": 2,
 "cells": [
  {
   "source": [
    "### [51\\. N-Queens](https://leetcode.com/problems/n-queens/)\n",
    "\n",
    "\n",
    "\n",
    "Goal: 遍歷到最後一個 row, 當 row+1 == n \n",
    "\n",
    "Choice: 放 Queen\n",
    "\n",
    "Constrain:\n",
    "+ 每個 row 只能有一個皇后\n",
    "+ 每個 col 只能有一個皇后\n",
    "+ 每個 hill diagonal 只能有一個皇后: for all hill diagonal, row + col = const\n",
    "+ 每個 dale diagonal 只能有一個皇后: for all dale diagonal, row - col = const\n",
    "\n",
    "符合條件: backtrack(row+1)\n",
    "\n",
    "Backtrack: remove queen from \\[row]\\[col] space"
   ],
   "cell_type": "markdown",
   "metadata": {}
  },
  {
   "cell_type": "code",
   "execution_count": null,
   "metadata": {},
   "outputs": [],
   "source": [
    "class Solution:\n",
    "    def solveNQueens(self, n: int) -> List[List[str]]:\n",
    "        cols = [True] * n\n",
    "        hills = [True] * (2*n - 1)\n",
    "        dales = [True] * (2*n - 1)\n",
    "        queens = set()\n",
    "        res = []\n",
    "        \n",
    "        def is_valied(row, col):\n",
    "            return cols[col] and hills[row - col] and dales[row + col]\n",
    "        \n",
    "        def place_queen(row, col):\n",
    "            queens.add((row, col))\n",
    "            cols[col] = False\n",
    "            hills[row - col] = False\n",
    "            dales[row + col] = False\n",
    "        \n",
    "        def remove_queen(row, col):\n",
    "            queens.remove((row, col))\n",
    "            cols[col] = True\n",
    "            hills[row - col] = True\n",
    "            dales[row + col] = True\n",
    "        \n",
    "        def add_solution():\n",
    "            solution = []\n",
    "            for _, col in sorted(queens):\n",
    "                solution.append('.' * col + 'Q' + '.' * (n - col -1))\n",
    "            res.append(solution)\n",
    "        \n",
    "        def backtrack(row):\n",
    "            # choice\n",
    "            for col in range(n):\n",
    "                # constrain\n",
    "                if is_valied(row, col):\n",
    "                    place_queen(row, col)\n",
    "                # goal\n",
    "                    if row + 1 == n:\n",
    "                        add_solution()\n",
    "                    else:\n",
    "                        backtrack(row+1)\n",
    "                    remove_queen(row, col)\n",
    "        backtrack(0)\n",
    "        return res"
   ]
  }
 ]
}