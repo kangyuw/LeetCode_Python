{
 "cells": [
  {
   "cell_type": "markdown",
   "metadata": {},
   "source": [
    "### [344\\. Reverse String](https://leetcode.com/problems/reverse-string/)\n",
    "\n",
    "Difficulty: **Easy**\n",
    "\n",
    "\n",
    "Write a function that reverses a string. The input string is given as an array of characters `char[]`.\n",
    "\n",
    "Do not allocate extra space for another array, you must do this by **modifying the input array ** with O(1) extra memory.\n",
    "\n",
    "You may assume all the characters consist of .\n",
    "\n",
    "\n",
    "**Example 1:**\n",
    "\n",
    "```\n",
    "Input: [\"h\",\"e\",\"l\",\"l\",\"o\"]\n",
    "Output: [\"o\",\"l\",\"l\",\"e\",\"h\"]\n",
    "```\n",
    "\n",
    "\n",
    "**Example 2:**\n",
    "\n",
    "```\n",
    "Input: [\"H\",\"a\",\"n\",\"n\",\"a\",\"h\"]\n",
    "Output: [\"h\",\"a\",\"n\",\"n\",\"a\",\"H\"]\n",
    "```"
   ]
  },
  {
   "cell_type": "markdown",
   "metadata": {},
   "source": [
    "# Two-pointer Technique\n",
    "\n",
    "從頭尾向著中間迭代\n",
    "\n",
    "## [Reverse String](https://leetcode.com/explore/learn/card/array-and-string/205/array-two-pointer-technique/1183/)\n",
    "\n",
    "把頭跟尾交換\n",
    "\n",
    "頭往後 尾往前\n",
    "\n",
    "直到交錯"
   ]
  },
  {
   "cell_type": "code",
   "execution_count": null,
   "metadata": {},
   "outputs": [],
   "source": [
    "def reverseString(self, s):\n",
    "    \"\"\"\n",
    "    :type s: List[str]\n",
    "    :rtype: None Do not return anything, modify s in-place instead.\n",
    "    \"\"\"\n",
    "    front, back = 0, len(s) - 1\n",
    "    while front < back:\n",
    "        s[front], s[back] = s[back], s[front]\n",
    "        front += 1\n",
    "        back -= 1"
   ]
  }
 ],
 "metadata": {
  "language_info": {
   "codemirror_mode": {
    "name": "ipython",
    "version": 3
   },
   "file_extension": ".py",
   "mimetype": "text/x-python",
   "name": "python",
   "nbconvert_exporter": "python",
   "pygments_lexer": "ipython3",
   "version": 3
  },
  "orig_nbformat": 2
 },
 "nbformat": 4,
 "nbformat_minor": 2
}