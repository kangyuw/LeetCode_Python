{
 "cells": [
  {
   "cell_type": "markdown",
   "metadata": {},
   "source": [
    "# [747. Largest Number At Least Twice of Others](https://leetcode.com/explore/learn/card/array-and-string/201/introduction-to-array/1147/)\n",
    "\n",
    "Difficulty: **Easy**\n",
    "\n",
    "Array 中最大的數 是否是其他所有數字的兩倍以上\n",
    "\n",
    "比較最大的數字跟第二大的數字就好\n",
    "\n",
    "$O(N)$"
   ]
  },
  {
   "cell_type": "code",
   "execution_count": null,
   "metadata": {},
   "outputs": [],
   "source": [
    "def dominantIndex(nums):\n",
    "    \"\"\"\n",
    "    :type nums: List[int]\n",
    "    :rtype: int\n",
    "    \"\"\"\n",
    "    num_fst = 0\n",
    "    num_scd = 0\n",
    "    idx = 0\n",
    "    for i, num in enumerate(nums):\n",
    "        if num > num_fst:\n",
    "            num_scd = num_fst\n",
    "            num_fst = num\n",
    "            idx = i\n",
    "        if num < num_fst and num > num_scd:\n",
    "            num_scd = num\n",
    "    print(num_fst, num_scd)\n",
    "    if num_fst >= num_scd * 2: return idx\n",
    "    else: return -1"
   ]
  },
  {
   "cell_type": "code",
   "execution_count": null,
   "metadata": {},
   "outputs": [],
   "source": [
    "dominantIndex([0,0,3,2])"
   ]
  }
 ],
 "metadata": {
  "language_info": {
   "codemirror_mode": {
    "name": "ipython",
    "version": 3
   },
   "file_extension": ".py",
   "mimetype": "text/x-python",
   "name": "python",
   "nbconvert_exporter": "python",
   "pygments_lexer": "ipython3",
   "version": 3
  },
  "orig_nbformat": 2
 },
 "nbformat": 4,
 "nbformat_minor": 2
}