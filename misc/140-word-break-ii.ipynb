{
 "metadata": {
  "language_info": {
   "codemirror_mode": {
    "name": "ipython",
    "version": 3
   },
   "file_extension": ".py",
   "mimetype": "text/x-python",
   "name": "python",
   "nbconvert_exporter": "python",
   "pygments_lexer": "ipython3",
   "version": 3
  },
  "orig_nbformat": 2
 },
 "nbformat": 4,
 "nbformat_minor": 2,
 "cells": [
  {
   "source": [
    "[139. Word Break](https://leetcode.com/problems/word-break/)\n",
    "\n",
    "Solution: DP\n",
    "\n",
    "dp[i] 到第 i 個字能不能用 wordDict 中的字串組成\n",
    "\n",
    "Base case: dp[0] = True\n",
    "\n",
    "transition: 如果從 idx 到 j 的字串在 wordDict 中, dp[j+1] 是可以被組合出來的\n",
    "\n",
    "Time: $O(n^3)$ idx, j, wordDict"
   ],
   "cell_type": "markdown",
   "metadata": {}
  },
  {
   "cell_type": "code",
   "execution_count": null,
   "metadata": {},
   "outputs": [],
   "source": [
    "class Solution:\n",
    "    def wordBreak(self, s: str, wordDict: List[str]) -> bool:\n",
    "        if not wordDict: return False\n",
    "        dp = [False] * (len(s) + 1)\n",
    "        dp[0] = True\n",
    "        for idx in range(len(s)):\n",
    "            for j in range(idx, len(s)):\n",
    "                if dp[idx] and s[idx:j+1] in wordDict:\n",
    "                    dp[j+1] = True\n",
    "        return dp[-1]"
   ]
  },
  {
   "source": [
    "Solution: memorized recursive\n",
    "\n",
    "base case:\n",
    "\n",
    "+ 在 memo 中已經有一樣的 substring 了: 直接回傳該結果\n",
    "\n",
    "+ substring 就在字典中: 這個 substring 的結果為 True, 回傳\n",
    "\n",
    "遍歷 subS 將其分為兩塊, \n",
    "\n",
    "如果右半邊在字典中且左半邊也是 True, 這個 substring 的結果為 True, 否則為 False"
   ],
   "cell_type": "markdown",
   "metadata": {}
  },
  {
   "cell_type": "code",
   "execution_count": null,
   "metadata": {},
   "outputs": [],
   "source": [
    "class Solution:\n",
    "    def wordBreak(self, s: str, wordDict: List[str]) -> bool:\n",
    "        wdict = set(wordDict)\n",
    "        memo = {}\n",
    "        def canBreak(subS):\n",
    "            if subS in memo:\n",
    "                return memo[subS]\n",
    "            if subS in wdict:\n",
    "                memo[subS] = True\n",
    "                return True\n",
    "            \n",
    "            for i in range(1, len(subS)):\n",
    "                right = subS[i:]\n",
    "                if right in wdict and canBreak(subS[:i]):\n",
    "                    memo[subS] = True\n",
    "                    return True\n",
    "            memo[subS] = False\n",
    "            return False\n",
    "        return canBreak(s)"
   ]
  },
  {
   "source": [
    "[140. Word Break II](https://leetcode.com/problems/word-break-ii/)\n",
    "\n",
    "找出所有可能用 wordDict 將 s 組出來的方法\n",
    "\n",
    "Solution: memorized recursive\n",
    "\n",
    "Base Case:\n",
    "\n",
    "+ 在 memo 中已經有一樣的 substring 了: 直接回傳該結果\n",
    "\n",
    "+ substring 就在字典中: 作為一個 left = \"\", right = s 的特例, 直接當作結果之一\n",
    "\n",
    "\n",
    "遍歷 subS 將其分為兩塊, \n",
    "\n",
    "如果右半邊在字典中: 對左半邊也執行 getBreak 並將右半邊放進結果中"
   ],
   "cell_type": "markdown",
   "metadata": {}
  },
  {
   "cell_type": "code",
   "execution_count": null,
   "metadata": {},
   "outputs": [],
   "source": [
    "class Solution:\n",
    "    def wordBreak(self, s: str, wordDict: List[str]) -> bool:\n",
    "        wdict = set(wordDict)\n",
    "        memo = {}\n",
    "        def getBreak(subS):\n",
    "            if subS in memo:\n",
    "                return memo[subS]\n",
    "            subRes = []\n",
    "            if subS in wdict:\n",
    "                subRes.append(subS)\n",
    "            \n",
    "            for i in range(1, len(subS)):\n",
    "                right = subS[i:]\n",
    "                if right in wdict:\n",
    "                    subRes += [w + \" \" + right for w in getBreak(subS[0:i])]\n",
    "            memo[subS] = subRes\n",
    "            return memo[subS]\n",
    "        return getBreak(s)"
   ]
  }
 ]
}