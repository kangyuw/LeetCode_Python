{
 "cells": [
  {
   "cell_type": "markdown",
   "metadata": {},
   "source": [
    "### [485\\. Max Consecutive Ones](https://leetcode.com/problems/max-consecutive-ones/)\n",
    "\n",
    "Difficulty: **Easy**\n",
    "\n",
    "\n",
    "Given a binary array, find the maximum number of consecutive 1s in this array.\n",
    "\n",
    "**Example 1:**  \n",
    "\n",
    "```\n",
    "Input: [1,1,0,1,1,1]\n",
    "Output: 3\n",
    "Explanation: The first two digits or the last three digits are consecutive 1s.\n",
    "    The maximum number of consecutive 1s is 3.\n",
    "```\n",
    "\n",
    "**Note:**\n",
    "\n",
    "*   The input array will only contain `0` and `1`.\n",
    "*   The length of input array is a positive integer and will not exceed 10,000"
   ]
  },
  {
   "cell_type": "code",
   "execution_count": null,
   "metadata": {},
   "outputs": [],
   "source": [
    "# [Max Consecutive Ones](https://leetcode.com/problems/max-consecutive-ones/)\n",
    "\n",
    "找到陣列中最多連續了多少個1\n",
    "\n",
    "## 思路1\n",
    "\n",
    "遍歷陣列\n",
    "\n",
    "1: tmp+=1\n",
    "\n",
    "0: 比較 tmp 跟 res 取大的"
   ]
  },
  {
   "cell_type": "code",
   "execution_count": null,
   "metadata": {},
   "outputs": [],
   "source": [
    "def findMaxConsecutiveOnes(nums):\n",
    "    res = 0\n",
    "    tmp = 0\n",
    "    for num in nums:\n",
    "        if num == 0:\n",
    "            res = max(res, tmp)\n",
    "            tmp = 0\n",
    "        else:\n",
    "            tmp += 1\n",
    "    return max(res, tmp) #走到底如果還是1 也要比較一下"
   ]
  },
  {
   "cell_type": "code",
   "execution_count": null,
   "metadata": {},
   "outputs": [],
   "source": [
    "findMaxConsecutiveOnes([1,1,0,1,1,1])"
   ]
  }
 ],
 "metadata": {
  "language_info": {
   "codemirror_mode": {
    "name": "ipython",
    "version": 3
   },
   "file_extension": ".py",
   "mimetype": "text/x-python",
   "name": "python",
   "nbconvert_exporter": "python",
   "pygments_lexer": "ipython3",
   "version": 3
  },
  "orig_nbformat": 2
 },
 "nbformat": 4,
 "nbformat_minor": 2
}