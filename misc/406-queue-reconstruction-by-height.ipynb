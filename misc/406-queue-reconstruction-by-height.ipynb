{
 "cells": [
  {
   "cell_type": "markdown",
   "metadata": {},
   "source": [
    "### [406\\. Queue Reconstruction by Height](https://leetcode.com/problems/queue-reconstruction-by-height/)\n",
    "\n",
    "Difficulty: **Medium**\n",
    "\n",
    "\n",
    "Suppose you have a random list of people standing in a queue. Each person is described by a pair of integers `(h, k)`, where `h` is the height of the person and `k` is the number of people in front of this person who have a height greater than or equal to `h`. Write an algorithm to reconstruct the queue.\n",
    "\n",
    "**Note:**  \n",
    "The number of people is less than 1,100.\n",
    "\n",
    "**Example**\n",
    "\n",
    "```\n",
    "Input:\n",
    "[[7,0], [4,4], [7,1], [5,0], [6,1], [5,2]]\n",
    "\n",
    "Output:\n",
    "[[5,0], [7,0], [5,2], [6,1], [4,4], [7,1]]\n",
    "```"
   ]
  },
  {
   "cell_type": "markdown",
   "metadata": {},
   "source": [
    "h: 身高\n",
    "\n",
    "k: 有k個排在前面的人, 身高 $\\ge$ h\n",
    "\n",
    "將輸入的矩陣排列成正確的順序\n",
    "\n",
    "### Solution\n",
    "\n",
    "先照 h 排列, 把最高的組取出來\n",
    "\n",
    "再照著 k 插入\n"
   ]
  },
  {
   "cell_type": "code",
   "execution_count": 68,
   "metadata": {},
   "outputs": [],
   "source": [
    "class Solution:\n",
    "    def reconstructQueue(self, people):\n",
    "        if not people:\n",
    "            return []\n",
    "        res = []\n",
    "        people.sort(key= lambda x: (-x[0], x[1]))\n",
    "        max_height = people[0][0]\n",
    "        res = [x for x in people if x[0] == max_height]\n",
    "        people = [x for x in people if x[0] != max_height]\n",
    "        for p in people:\n",
    "            res.insert(p[1], p)\n",
    "        return res"
   ]
  },
  {
   "cell_type": "code",
   "execution_count": 69,
   "metadata": {
    "tags": []
   },
   "outputs": [
    {
     "output_type": "stream",
     "name": "stdout",
     "text": "[[6, 1], [5, 0], [5, 2], [4, 4]]\n"
    },
    {
     "output_type": "execute_result",
     "data": {
      "text/plain": "[[5, 0], [7, 0], [5, 2], [6, 1], [4, 4], [7, 1]]"
     },
     "metadata": {},
     "execution_count": 69
    }
   ],
   "source": [
    "array = [[7,0], [4,4], [7,1], [5,0], [6,1], [5,2]]\n",
    "Solution.reconstructQueue(_, array)"
   ]
  },
  {
   "cell_type": "markdown",
   "metadata": {},
   "source": [
    "### Consice Solution"
   ]
  },
  {
   "cell_type": "code",
   "execution_count": null,
   "metadata": {},
   "outputs": [],
   "source": [
    "def reconstructQueue(self, people):\n",
    "    people.sort(key=lambda (h, k): (-h, k))\n",
    "    res = []\n",
    "    for p in people:\n",
    "        res.insert(p[1], p)\n",
    "    return res"
   ]
  }
 ],
 "metadata": {
  "language_info": {
   "codemirror_mode": {
    "name": "ipython",
    "version": 3
   },
   "file_extension": ".py",
   "mimetype": "text/x-python",
   "name": "python",
   "nbconvert_exporter": "python",
   "pygments_lexer": "ipython3",
   "version": 3
  },
  "orig_nbformat": 2,
  "kernelspec": {
   "name": "python_defaultSpec_1594716938906",
   "display_name": "Python 3.8.3 64-bit"
  }
 },
 "nbformat": 4,
 "nbformat_minor": 2
}