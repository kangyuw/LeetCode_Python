{
 "cells": [
  {
   "cell_type": "markdown",
   "metadata": {},
   "source": [
    "# [Plus One](https://leetcode.com/explore/learn/card/array-and-string/201/introduction-to-array/1148/)\n",
    "\n",
    "把 Array 中每一塊黏在一塊 代表一個數字 \n",
    "\n",
    "這數字 + 1 之後 存回 Array 中\n",
    "\n",
    "思路1: 變回數字 +1 存回 Array 中\n",
    "\n",
    "思路2: 對最後一個數字 +1 如果超過10 再往前 +1 一直到 < 10"
   ]
  },
  {
   "cell_type": "code",
   "execution_count": null,
   "metadata": {},
   "outputs": [],
   "source": [
    "# 思路1\n",
    "## 會快一點\n",
    "def plusOne(self, digits):\n",
    "    k = -1\n",
    "    while abs(k) <= len(digits) and digits[k] == 9:\n",
    "        digits[k] = 0\n",
    "        k -= 1\n",
    "    if abs(k) > len(digits):\n",
    "        digits.append(1)\n",
    "        digits[0], digits[-1] = digits[-1], digits[0] # digit[0] = 0\n",
    "    else:\n",
    "        digits[k] += 1\n",
    "    return digits"
   ]
  },
  {
   "cell_type": "code",
   "execution_count": null,
   "metadata": {},
   "outputs": [],
   "source": [
    "# 思路2\n",
    "## 36 ms, 13.9 MB\n",
    "def plusOne(digits):\n",
    "    num = 0\n",
    "    for idx, dig in enumerate(digits):\n",
    "        num += dig * 10 ** (len(digits) - 1 - idx)\n",
    "    num += 1\n",
    "    return list(map(int, str(num)))"
   ]
  },
  {
   "cell_type": "code",
   "execution_count": null,
   "metadata": {},
   "outputs": [],
   "source": [
    "plusOne([9,9,9,9])"
   ]
  }
 ],
 "metadata": {
  "language_info": {
   "codemirror_mode": {
    "name": "ipython",
    "version": 3
   },
   "file_extension": ".py",
   "mimetype": "text/x-python",
   "name": "python",
   "nbconvert_exporter": "python",
   "pygments_lexer": "ipython3",
   "version": 3
  },
  "orig_nbformat": 2
 },
 "nbformat": 4,
 "nbformat_minor": 2
}