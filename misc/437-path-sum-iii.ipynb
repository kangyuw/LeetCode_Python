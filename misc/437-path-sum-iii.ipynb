{
 "metadata": {
  "language_info": {
   "codemirror_mode": {
    "name": "ipython",
    "version": 3
   },
   "file_extension": ".py",
   "mimetype": "text/x-python",
   "name": "python",
   "nbconvert_exporter": "python",
   "pygments_lexer": "ipython3",
   "version": 3
  },
  "orig_nbformat": 2
 },
 "nbformat": 4,
 "nbformat_minor": 2,
 "cells": [
  {
   "cell_type": "markdown",
   "metadata": {},
   "source": [
    "### [437\\. Path Sum III](https://leetcode.com/problems/path-sum-iii/)\n",
    "\n",
    "Similar to [560. Subarray Sum Equals K](https://leetcode.com/problems/subarray-sum-equals-k/)\n",
    "\n",
    "Difficulty: **Medium**  \n",
    "\n",
    "Related Topics: [Tree](https://leetcode.com/tag/tree/)\n",
    "\n",
    "\n",
    "You are given a binary tree in which each node contains an integer value.\n",
    "\n",
    "Find the number of paths that sum to a given value.\n",
    "\n",
    "The path does not need to start or end at the root or a leaf, but it must go downwards (traveling only from parent nodes to child nodes).\n",
    "\n",
    "The tree has no more than 1,000 nodes and the values are in the range -1,000,000 to 1,000,000.\n",
    "\n",
    "**Example:**\n",
    "\n",
    "```\n",
    "root = [10,5,-3,3,2,null,11,3,-2,null,1], sum = 8\n",
    "\n",
    "      10\n",
    "     /  \\\n",
    "    5   -3\n",
    "   / \\    \\\n",
    "  3   2   11\n",
    " / \\   \\\n",
    "3  -2   1\n",
    "\n",
    "Return 3\\. The paths that sum to 8 are:\n",
    "\n",
    "1\\.  5 -> 3\n",
    "2\\.  5 -> 2 -> 1\n",
    "3\\. -3 -> 11"
   ]
  },
  {
   "cell_type": "markdown",
   "metadata": {},
   "source": [
    "### 遞迴: 分拆大問題\n",
    "\n",
    "```findPath(node)``` 回傳以 node 為起點的結果, 此結果又是從 ```findPath(node.right) + findPath(node.left)```得來\n",
    "\n",
    "遍歷(dfs)針對每一個點各自做 findPath\n",
    "\n",
    "1. Base Case: 當 node 為空, 回傳 0\n",
    "\n",
    "2. 當 node.val == target 時, 結果+1\n",
    "\n",
    "然而, 這會有重複計算\n",
    "\n",
    "time complexity: $O(n^2)$\n",
    "\n",
    "22.28%"
   ]
  },
  {
   "cell_type": "code",
   "execution_count": null,
   "metadata": {},
   "outputs": [],
   "source": [
    "class Solution:\n",
    "    def dfs(self, node, target):\n",
    "        if not node:\n",
    "            return\n",
    "        self.findPath(node, target)\n",
    "        self.dfs(node.left, target)\n",
    "        self.dfs(node.right, target)\n",
    "    \n",
    "    def findPath(self, node, target):\n",
    "        if not node:\n",
    "            return\n",
    "        if target == node.val:\n",
    "            self.res += 1\n",
    "        self.findPath(node.left, target-node.val)\n",
    "        self.findPath(node.right, target-node.val)\n",
    "    \n",
    "    def pathSum(self, root: TreeNode, sum: int) -> int:\n",
    "        self.res = 0\n",
    "        self.dfs(root, sum)\n",
    "        return self.res"
   ]
  },
  {
   "cell_type": "markdown",
   "metadata": {},
   "source": [
    "### Prefix Sum\n",
    "\n",
    "將問題從求得有幾個 j 使得 ```nums[i] + ... + nums[j] = target``` 轉化為\n",
    "\n",
    "```nums[i+1] + ... + nums[j] = sum(nums[:i]) - target ```\n",
    "\n",
    "time complexity: O(n)"
   ]
  },
  {
   "cell_type": "code",
   "execution_count": null,
   "metadata": {},
   "outputs": [],
   "source": [
    "class Solution:\n",
    "    def pathSum(self, root: TreeNode, sum: int) -> int:\n",
    "        self.res = 0\n",
    "        self.cache = {0:1}\n",
    "        self.dfs(root, 0, sum)\n",
    "        return self.res\n",
    "    def dfs(self, node, currSum, target):\n",
    "        if not node:\n",
    "            return\n",
    "        currSum += node.val\n",
    "        preSum = currSum - target\n",
    "\n",
    "        if preSum in self.cache:\n",
    "            self.res += self.cache[preSum]\n",
    "        \n",
    "        if currSum in self.cache:\n",
    "            self.cache[currSum] += 1\n",
    "        else:\n",
    "            self.cache[currSum] = 1\n",
    "        \n",
    "        self.dfs(node.left, currSum, target)\n",
    "        self.dfs(node.right, currSum, target)\n",
    "        self.cache[currSum] -= 1"
   ]
  }
 ]
}