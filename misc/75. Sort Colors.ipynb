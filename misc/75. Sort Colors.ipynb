{
 "cells": [
  {
   "cell_type": "markdown",
   "metadata": {},
   "source": [
    "### [75\\. Sort Colors](https://leetcode.com/problems/sort-colors/)\n",
    "\n",
    "Difficulty: **Medium**\n",
    "\n",
    "\n",
    "Given an array with _n_ objects colored red, white or blue, sort them so that objects of the same color are adjacent, with the colors in the order red, white and blue.\n",
    "\n",
    "Here, we will use the integers 0, 1, and 2 to represent the color red, white, and blue respectively.\n",
    "\n",
    "**Note:** You are not suppose to use the library's sort function for this problem.\n",
    "\n",
    "**Example:**\n",
    "\n",
    "```\n",
    "Input: [2,0,2,1,1,0]\n",
    "Output: [0,0,1,1,2,2]\n",
    "```\n",
    "\n",
    "**Follow up:**\n",
    "\n",
    "*   A rather straight forward solution is a two-pass algorithm using counting sort.  \n",
    "    First, iterate the array counting number of 0's, 1's, and 2's, then overwrite array with total number of 0's, then 1's and followed by 2's.\n",
    "*   Could you come up with a one-pass algorithm using only constant space?"
   ]
  },
  {
   "cell_type": "markdown",
   "metadata": {},
   "source": [
    "將矩陣 inplace 整理成 0, 1, 2 的順序\n",
    "# Solution: multi pointer\n",
    "\n",
    "red: 指向最前面\n",
    "\n",
    "blue: 指向最後面\n",
    "\n",
    "遍歷矩陣, 遇到 0 丟到前面, 遇到 2 丟到後面"
   ]
  },
  {
   "cell_type": "code",
   "execution_count": null,
   "metadata": {},
   "outputs": [],
   "source": [
    "class Solution:\n",
    "    def sortColors(self, nums: List[int]) -> None:\n",
    "        \"\"\"\n",
    "        Do not return anything, modify nums in-place instead.\n",
    "        \"\"\"\n",
    "        #红色指针，蓝色指针，遍历指针\n",
    "        red, blue, p = 0, len(nums)-1, 0\n",
    "        \n",
    "        while p <= blue:\n",
    "            if nums[p] == 0:\n",
    "               nums[p],nums[red] = nums[red],nums[p]\n",
    "               red+=1\n",
    "               p+=1\n",
    "            elif nums[p] == 1:\n",
    "                p+=1\n",
    "            else:\n",
    "                nums[p],nums[blue] = nums[blue], nums[p]\n",
    "                blue-=1"
   ]
  }
 ],
 "metadata": {
  "language_info": {
   "codemirror_mode": {
    "name": "ipython",
    "version": 3
   },
   "file_extension": ".py",
   "mimetype": "text/x-python",
   "name": "python",
   "nbconvert_exporter": "python",
   "pygments_lexer": "ipython3",
   "version": 3
  },
  "orig_nbformat": 2
 },
 "nbformat": 4,
 "nbformat_minor": 2
}