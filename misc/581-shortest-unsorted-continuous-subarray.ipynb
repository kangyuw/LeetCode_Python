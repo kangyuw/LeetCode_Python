{
 "metadata": {
  "language_info": {
   "codemirror_mode": {
    "name": "ipython",
    "version": 3
   },
   "file_extension": ".py",
   "mimetype": "text/x-python",
   "name": "python",
   "nbconvert_exporter": "python",
   "pygments_lexer": "ipython3",
   "version": 3
  },
  "orig_nbformat": 2
 },
 "nbformat": 4,
 "nbformat_minor": 2,
 "cells": [
  {
   "cell_type": "markdown",
   "metadata": {},
   "source": [
    "### [581\\. Shortest Unsorted Continuous Subarray](https://leetcode.com/problems/shortest-unsorted-continuous-subarray/)\n",
    "\n",
    "Difficulty: **Easy**  \n",
    "\n",
    "Related Topics: [Array](https://leetcode.com/tag/array/)\n",
    "\n",
    "\n",
    "Given an integer array, you need to find one **continuous subarray** that if you only sort this subarray in ascending order, then the whole array will be sorted in ascending order, too.\n",
    "\n",
    "You need to find the **shortest** such subarray and output its length.\n",
    "\n",
    "**Example 1:**  \n",
    "\n",
    "```\n",
    "Input: [2, 6, 4, 8, 10, 9, 15]\n",
    "Output: 5\n",
    "Explanation: You need to sort [6, 4, 8, 10, 9] in ascending order to make the whole array sorted in ascending order.\n",
    "```\n",
    "\n",
    "**Note:**  \n",
    "\n",
    "1.  Then length of the input array is in range [1, 10,000].\n",
    "2.  The input array may contain duplicates, so ascending order here means **<=**."
   ]
  },
  {
   "cell_type": "code",
   "execution_count": null,
   "metadata": {},
   "outputs": [],
   "source": [
    "# compare with sorted array\n",
    "# time O(nlogn)\n",
    "# space O(n)\n",
    "class Solution:\n",
    "    def findUnsortedSubarray(self, nums: List[int]) -> int:\n",
    "        numsSort = nums[:]\n",
    "        numsSort.sort()\n",
    "        n = len(nums)\n",
    "        start = n\n",
    "        end = 0\n",
    "        for i in range(n):\n",
    "            if nums[i] != numsSort[i]:\n",
    "                start = min(start, i)\n",
    "                end = max(end, i)\n",
    "                \n",
    "        return end - start + 1 if end - start > 0 else 0"
   ]
  },
  {
   "cell_type": "code",
   "execution_count": null,
   "metadata": {},
   "outputs": [],
   "source": [
    "# find min max of the sector\n",
    "# time O(n)\n",
    "# space O(1)\n",
    "class Solution():\n",
    "    def findUnsortedSubarray(self, nums):\n",
    "        n = len(nums)\n",
    "        if n<=1:\n",
    "            return 0\n",
    "        bestStart, bestEnd = n-1, 0\n",
    "        for i in range(1, n):\n",
    "            if nums[i] < nums[i-1]:\n",
    "                bestStart = i-1\n",
    "                break\n",
    "                # Start to decline\n",
    "        if bestStart == n-1:\n",
    "            return 0\n",
    "        for i in range(n-2,-1,-1):\n",
    "            if nums[i] > nums[i+1]:\n",
    "                bestEnd = i+1\n",
    "                break\n",
    "                # Start to incline\n",
    "        maxValue, minValue = max(nums[bestStart:bestEnd+1]), min(nums[bestStart:bestEnd+1])\n",
    "        actualStart, actualEnd = 0, n-1\n",
    "        for i in range(bestStart+1):\n",
    "            if minValue < nums[i]:\n",
    "                # we just pass our min (this should be included in ans as start)\n",
    "                actualStart = i\n",
    "                break\n",
    "        for i in range(len(nums)-1,bestEnd-1,-1):\n",
    "            if maxValue > nums[i]:\n",
    "                # we just pass our max (this should be included in ans as end)\n",
    "                actualEnd = i\n",
    "                break\n",
    "        return actualEnd-actualStart+1"
   ]
  }
 ]
}