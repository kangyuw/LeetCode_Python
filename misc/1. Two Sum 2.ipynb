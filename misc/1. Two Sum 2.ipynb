{
 "cells": [
  {
   "cell_type": "markdown",
   "metadata": {},
   "source": [
    "# [Two Sum 2](https://leetcode.com/explore/learn/card/array-and-string/205/array-two-pointer-technique/1153/)\n",
    "\n",
    "給一個從小排到大的list\n",
    "\n",
    "從這個 list 中找到加起來等於目標數字的座標\n",
    "\n",
    "一定會有一組答案\n",
    "\n",
    "## 思路1\n",
    "單純的做兩個迴圈 => TLE\n",
    "\n",
    "沒有運用到已經排序好的特性\n",
    "\n",
    "## 思路2\n",
    "\n",
    "一個頭 一個尾 加起來\n",
    "\n",
    "如果太小 => 代表加的不夠 頭要往後\n",
    "\n",
    "如果太大 => 代表加的太多 尾要往前\n",
    "\n",
    "交錯代表沒有答案"
   ]
  },
  {
   "cell_type": "code",
   "execution_count": null,
   "metadata": {},
   "outputs": [],
   "source": [
    "def twosum_TLE(numbers, target):\n",
    "    for idx1 in range(len(numbers)):\n",
    "        for idx2 in range(idx1 + 1, len(numbers)):\n",
    "            if numbers[idx1] + numbers[idx2] == target:\n",
    "                return (idx1+1, idx2+1)\n",
    "    return"
   ]
  },
  {
   "cell_type": "code",
   "execution_count": null,
   "metadata": {},
   "outputs": [],
   "source": [
    "def twosum(numbers, target):\n",
    "    head = 0\n",
    "    tail = len(numbers) - 1\n",
    "    while(head < tail):\n",
    "        s = numbers[head] + numbers[tail]\n",
    "        if s == target:\n",
    "            return [head + 1, tail + 1]\n",
    "        elif s < target: head += 1\n",
    "        else: tail -= 1"
   ]
  },
  {
   "cell_type": "code",
   "execution_count": null,
   "metadata": {},
   "outputs": [],
   "source": [
    "numbers = [2,7,11,15]\n",
    "target = 9\n",
    "twosum(numbers, target)"
   ]
  },
  {
   "cell_type": "code",
   "execution_count": null,
   "metadata": {},
   "outputs": [],
   "source": [
    "# lookup 儲存要尋找的數字, 連計算都不需要\n",
    "def twosum(numbers, target):    \n",
    "    lookup = {}\n",
    "    for index, number in enumerate(numbers):\n",
    "        if target-number in lookup:\n",
    "            return lookup[target-number], index+1\n",
    "        else:\n",
    "            lookup[number] = index+1"
   ]
  },
  {
   "cell_type": "code",
   "execution_count": null,
   "metadata": {},
   "outputs": [],
   "source": [
    "#\n",
    "# @lc app=leetcode id=1 lang=python3\n",
    "#\n",
    "# [1] Two Sum\n",
    "#\n",
    "\n",
    "# @lc code=start\n",
    "class Solution:\n",
    "    def twoSum(self, nums: List[int], target: int) -> List[int]:\n",
    "        if len(nums) <= 1: return None\n",
    "        dict_hash = {}\n",
    "        for i in range(len(nums)):\n",
    "            if nums[i] in dict_hash:\n",
    "                return [dict_hash[nums[i]], i]\n",
    "            else:\n",
    "                dict_hash[target - nums[i]] = i\n",
    "\n",
    "# @lc code=end\n"
   ]
  }
 ],
 "metadata": {
  "language_info": {
   "codemirror_mode": {
    "name": "ipython",
    "version": 3
   },
   "file_extension": ".py",
   "mimetype": "text/x-python",
   "name": "python",
   "nbconvert_exporter": "python",
   "pygments_lexer": "ipython3",
   "version": 3
  },
  "orig_nbformat": 2
 },
 "nbformat": 4,
 "nbformat_minor": 2
}