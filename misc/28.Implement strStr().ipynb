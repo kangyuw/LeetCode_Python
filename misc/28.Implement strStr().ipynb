{
 "cells": [
  {
   "cell_type": "markdown",
   "metadata": {},
   "source": [
    "### [28\\. Implement strStr()](https://leetcode.com/problems/implement-strstr/)\n",
    "\n",
    "Difficulty: **Easy**\n",
    "\n",
    "\n",
    "Implement .\n",
    "\n",
    "Return the index of the first occurrence of needle in haystack, or **-1** if needle is not part of haystack.\n",
    "\n",
    "**Example 1:**\n",
    "\n",
    "```\n",
    "Input: haystack = \"hello\", needle = \"ll\"\n",
    "Output: 2\n",
    "```\n",
    "\n",
    "**Example 2:**\n",
    "\n",
    "```\n",
    "Input: haystack = \"aaaaa\", needle = \"bba\"\n",
    "Output: -1\n",
    "```\n",
    "\n",
    "**Clarification:**\n",
    "\n",
    "What should we return when `needle` is an empty string? This is a great question to ask during an interview.\n",
    "\n",
    "For the purpose of this problem, we will return 0 when `needle` is an empty string. This is consistent to C's  and Java's ."
   ]
  },
  {
   "cell_type": "markdown",
   "metadata": {},
   "source": [
    "#  [Implement strStr()](https://leetcode.com/explore/learn/card/array-and-string/203/introduction-to-string/1161/)\n",
    "\n",
    "strStr(str1, str2): 找出str2 在 str1 的哪個索引開始出現, 沒有出現過就回傳 -1\n",
    "\n",
    "遍歷str1 找到 跟 str2[0] 一樣的索引 str1[i]\n",
    "\n",
    "比較 str1[i+1] 跟 str2[1]\n",
    "\n",
    "一直到str2的長度做完\n",
    "\n",
    "講那麼多 用 slice 就好啦\n"
   ]
  },
  {
   "cell_type": "code",
   "execution_count": null,
   "metadata": {},
   "outputs": [],
   "source": [
    "def strStr(haystack, needle):\n",
    "    for idx in range(len(haystack) - len(needle) + 1):\n",
    "        if haystack[idx:idx+len(needle)] == needle: return idx\n",
    "    return -1"
   ]
  },
  {
   "cell_type": "code",
   "execution_count": null,
   "metadata": {},
   "outputs": [],
   "source": [
    " def strStr(self, haystack, needle):\n",
    "        if needle == \"\": return 0\n",
    "        if len(haystack)<len(needle): return -1\n",
    "        elif haystack==needle: return 0\n",
    "        else:\n",
    "            if needle in haystack:\n",
    "                #用大循环加小循环\n",
    "                j=0\n",
    "                for i in range (0, len(haystack)):\n",
    "                    if haystack[i] == needle[j]:\n",
    "                        if len(needle)==1:\n",
    "                            return i\n",
    "                        else:\n",
    "                            marker = i+1\n",
    "                            j += 1\n",
    "                            for j in range (1,len(needle)):\n",
    "                                if haystack[marker] == needle[j]:\n",
    "                                    if j<len(needle)-1:\n",
    "                                        marker +=1\n",
    "                                        j += 1\n",
    "                                    else:\n",
    "                                        return i\n",
    "                                else:\n",
    "                                    j =0\n",
    "                                    break\n",
    "            else:\n",
    "                return -1"
   ]
  }
 ],
 "metadata": {
  "language_info": {
   "codemirror_mode": {
    "name": "ipython",
    "version": 3
   },
   "file_extension": ".py",
   "mimetype": "text/x-python",
   "name": "python",
   "nbconvert_exporter": "python",
   "pygments_lexer": "ipython3",
   "version": 3
  },
  "orig_nbformat": 2
 },
 "nbformat": 4,
 "nbformat_minor": 2
}