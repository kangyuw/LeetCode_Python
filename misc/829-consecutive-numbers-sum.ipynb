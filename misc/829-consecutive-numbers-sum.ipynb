{
 "metadata": {
  "language_info": {
   "codemirror_mode": {
    "name": "ipython",
    "version": 3
   },
   "file_extension": ".py",
   "mimetype": "text/x-python",
   "name": "python",
   "nbconvert_exporter": "python",
   "pygments_lexer": "ipython3",
   "version": 3
  },
  "orig_nbformat": 2
 },
 "nbformat": 4,
 "nbformat_minor": 2,
 "cells": [
  {
   "source": [
    "### [829\\. Consecutive Numbers Sum](https://leetcode.com/problems/consecutive-numbers-sum/)\n",
    "\n",
    "Difficulty: **Hard**  \n",
    "\n",
    "Related Topics: [Math](https://leetcode.com/tag/math/)\n",
    "\n",
    "\n",
    "Given a positive integer `N`, how many ways can we write it as a sum of consecutive positive integers?\n",
    "\n",
    "**Example 1:**\n",
    "\n",
    "```\n",
    "Input: 5\n",
    "Output: 2\n",
    "Explanation: 5 = 5 = 2 + 3\n",
    "```\n",
    "\n",
    "**Example 2:**\n",
    "\n",
    "```\n",
    "Input: 9\n",
    "Output: 3\n",
    "Explanation: 9 = 9 = 4 + 5 = 2 + 3 + 4\n",
    "```\n",
    "\n",
    "**Example 3:**\n",
    "\n",
    "```\n",
    "Input: 15\n",
    "Output: 4\n",
    "Explanation: 15 = 15 = 8 + 7 = 4 + 5 + 6 = 1 + 2 + 3 + 4 + 5\n",
    "```\n",
    "\n",
    "**Note:** `1 <= N <= 10 ^ 9`."
   ],
   "cell_type": "markdown",
   "metadata": {}
  },
  {
   "source": [
    "## [Solution](https://leetcode.com/problems/consecutive-numbers-sum/discuss/128959/JavaPython-3-5-liners-O(N-0.5)-Math-method-w-explanation-and-analysis.)\n",
    "\n",
    "\n",
    "$N = k + (k+1) + ... + (k+(i-1))$\n",
    "\n",
    "$N = ki + \\frac{(i-1)i}{2}$\n",
    "\n",
    "$N - \\frac{(i-1)i}{2} = ki$\n",
    "\n",
    "遍歷所有的 i, 找到符合條件的數字+1\n",
    "\n",
    "Time: $O(\\sqrt{N})$\n",
    "\n",
    "..."
   ],
   "cell_type": "markdown",
   "metadata": {}
  },
  {
   "cell_type": "code",
   "execution_count": null,
   "metadata": {},
   "outputs": [],
   "source": [
    "class Solution:\n",
    "    def consecutiveNumbersSum(self, N: int) -> int:\n",
    "        i, ans = 1, 0\n",
    "        while N > (i-1) * i // 2:\n",
    "            if (N - (i-1) * i // 2) % i == 0:\n",
    "                ans += 1\n",
    "            i += 1\n",
    "        return ans"
   ]
  }
 ]
}