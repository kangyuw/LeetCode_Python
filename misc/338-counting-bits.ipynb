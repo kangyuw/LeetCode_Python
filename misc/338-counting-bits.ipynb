{
 "cells": [
  {
   "cell_type": "markdown",
   "metadata": {},
   "source": [
    "### [338\\. Counting Bits](https://leetcode.com/problems/counting-bits/)\n",
    "\n",
    "Difficulty: **Medium**\n",
    "\n",
    "\n",
    "Given a non negative integer number **num**. For every numbers **i** in the range **0 ≤ i ≤ num** calculate the number of 1's in their binary representation and return them as an array.\n",
    "\n",
    "**Example 1:**\n",
    "\n",
    "```\n",
    "Input: 2\n",
    "Output: [0,1,1]\n",
    "```\n",
    "\n",
    "**Example 2:**\n",
    "\n",
    "```\n",
    "Input: 5\n",
    "Output: [0,1,1,2,1,2]\n",
    "```\n",
    "\n",
    "**Follow up:**\n",
    "\n",
    "*   It is very easy to come up with a solution with run time **O(n*sizeof(integer))**. But can you do it in linear time **O(n)** /possibly in a single pass?\n",
    "*   Space complexity should be **O(n)**.\n",
    "*   Can you do it like a boss? Do it without using any builtin function like **__builtin_popcount** in c++ or in any other language.\n",
    "\n",
    "\n",
    "#### Solution\n",
    "\n",
    "Language: **Python3**\n",
    "\n",
    "```python3\n",
    "class Solution:\n",
    "    def countBits(self, num: int) -> List[int]:\n",
    "        res = [0,1]\n",
    "        if num<2:\n",
    "            return res[:num+1]\n",
    "        else:\n",
    "            i = 2\n",
    "            while i<num+1:\n",
    "                i+=len(res)\n",
    "                res+=[v+1 for v in res]\n",
    "        return res[:num+1]\n",
    "```### [338\\. Counting Bits](https://leetcode.com/problems/counting-bits/)\n",
    "\n",
    "Difficulty: **Medium**\n",
    "\n",
    "\n",
    "Given a non negative integer number **num**. For every numbers **i** in the range **0 ≤ i ≤ num** calculate the number of 1's in their binary representation and return them as an array.\n",
    "\n",
    "**Example 1:**\n",
    "\n",
    "```\n",
    "Input: 2\n",
    "Output: [0,1,1]\n",
    "```\n",
    "\n",
    "**Example 2:**\n",
    "\n",
    "```\n",
    "Input: 5\n",
    "Output: [0,1,1,2,1,2]\n",
    "```\n",
    "\n",
    "**Follow up:**\n",
    "\n",
    "*   It is very easy to come up with a solution with run time **O(n*sizeof(integer))**. But can you do it in linear time **O(n)** /possibly in a single pass?\n",
    "*   Space complexity should be **O(n)**.\n",
    "*   Can you do it like a boss? Do it without using any builtin function like **__builtin_popcount** in c++ or in any other language."
   ]
  },
  {
   "cell_type": "markdown",
   "metadata": {},
   "source": [
    "### Solution 1: Convert\n",
    "\n",
    "int -> binary -> string "
   ]
  },
  {
   "cell_type": "code",
   "execution_count": null,
   "metadata": {},
   "outputs": [],
   "source": [
    "class Solution:\n",
    "    def countBits(self, num: int) -> List[int]:\n",
    "        res = []\n",
    "        for i in range(num+1):\n",
    "            cha = str(bin(i)[2:])\n",
    "            count = 0\n",
    "            for c in cha:\n",
    "                if c == '1':\n",
    "                    count+=1\n",
    "            res.append(count)\n",
    "        return res"
   ]
  },
  {
   "cell_type": "markdown",
   "metadata": {},
   "source": [
    "### Solution2: Binary Count"
   ]
  },
  {
   "cell_type": "code",
   "execution_count": null,
   "metadata": {},
   "outputs": [],
   "source": [
    "class Solution:\n",
    "    def countBits(self, num: int) -> List[int]:\n",
    "        res = [0]*(num+1)\n",
    "        i = 0\n",
    "        while i <= num:\n",
    "            if i%2==1:\n",
    "                res[i] = res[i//2]+1\n",
    "            else:\n",
    "                res[i] = res[i//2]\n",
    "            i+=1\n",
    "        return res"
   ]
  }
 ],
 "metadata": {
  "language_info": {
   "codemirror_mode": {
    "name": "ipython",
    "version": 3
   },
   "file_extension": ".py",
   "mimetype": "text/x-python",
   "name": "python",
   "nbconvert_exporter": "python",
   "pygments_lexer": "ipython3",
   "version": 3
  },
  "orig_nbformat": 2
 },
 "nbformat": 4,
 "nbformat_minor": 2
}