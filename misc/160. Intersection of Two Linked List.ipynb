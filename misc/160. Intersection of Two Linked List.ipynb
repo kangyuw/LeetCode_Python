{
 "metadata": {
  "language_info": {
   "codemirror_mode": {
    "name": "ipython",
    "version": 3
   },
   "file_extension": ".py",
   "mimetype": "text/x-python",
   "name": "python",
   "nbconvert_exporter": "python",
   "pygments_lexer": "ipython3",
   "version": 3
  },
  "orig_nbformat": 2
 },
 "nbformat": 4,
 "nbformat_minor": 2,
 "cells": [
  {
   "cell_type": "markdown",
   "metadata": {},
   "source": [
    "### [160\\. Intersection of Two Linked Lists](https://leetcode.com/problems/intersection-of-two-linked-lists/)\n",
    "\n",
    "Difficulty: **Easy**  \n",
    "\n",
    "Related Topics: [Linked List](https://leetcode.com/tag/linked-list/)\n",
    "\n",
    "\n",
    "Write a program to find the node at which the intersection of two singly linked lists begins.\n",
    "\n",
    "For example, the following two linked lists:\n",
    "\n",
    "begin to intersect at node c1.\n",
    "\n",
    "**Example 1:**\n",
    "\n",
    "```\n",
    "Input: intersectVal = 8, listA = [4,1,8,4,5], listB = [5,6,1,8,4,5], skipA = 2, skipB = 3\n",
    "Output: Reference of the node with value = 8\n",
    "Input Explanation: The intersected node's value is 8 (note that this must not be 0 if the two lists intersect). From the head of A, it reads as [4,1,8,4,5]. From the head of B, it reads as [5,6,1,8,4,5]. There are 2 nodes before the intersected node in A; There are 3 nodes before the intersected node in B.\n",
    "```\n",
    "\n",
    "**Example 2:**\n",
    "\n",
    "```\n",
    "Input: intersectVal = 2, listA = [1,9,1,2,4], listB = [3,2,4], skipA = 3, skipB = 1\n",
    "Output: Reference of the node with value = 2\n",
    "Input Explanation: The intersected node's value is 2 (note that this must not be 0 if the two lists intersect). From the head of A, it reads as [1,9,1,2,4]. From the head of B, it reads as [3,2,4]. There are 3 nodes before the intersected node in A; There are 1 node before the intersected node in B.\n",
    "```\n",
    "\n",
    "**Example 3:**\n",
    "\n",
    "```\n",
    "Input: intersectVal = 0, listA = [2,6,4], listB = [1,5], skipA = 3, skipB = 2\n",
    "Output: null\n",
    "Input Explanation: From the head of A, it reads as [2,6,4]. From the head of B, it reads as [1,5]. Since the two lists do not intersect, intersectVal must be 0, while skipA and skipB can be arbitrary values.\n",
    "Explanation: The two lists do not intersect, so return null.\n",
    "```\n",
    "\n",
    "**Notes:**\n",
    "\n",
    "*   If the two linked lists have no intersection at all, return `null`.\n",
    "*   The linked lists must retain their original structure after the function returns.\n",
    "*   You may assume there are no cycles anywhere in the entire linked structure.\n",
    "*   Each value on each linked list is in the range `[1, 10^9]`.\n",
    "*   Your code should preferably run in O(n) time and use only O(1) memory."
   ]
  },
  {
   "cell_type": "code",
   "execution_count": null,
   "metadata": {},
   "outputs": [],
   "source": [
    "# TLE\n",
    "\n",
    "class Solution:\n",
    "    def getIntersectionNode(self, headA: ListNode, headB: ListNode) -> ListNode:\n",
    "        if not headA or not headB:\n",
    "            return None\n",
    "        ListA = []\n",
    "        while headA:\n",
    "            ListA.append(headA)\n",
    "            headA = headA.next\n",
    "        while headB:\n",
    "            if headB in ListA:\n",
    "                return headB\n",
    "            headB = headB.next\n",
    "        return None"
   ]
  },
  {
   "cell_type": "code",
   "execution_count": null,
   "metadata": {},
   "outputs": [],
   "source": [
    "# 2 pointer\n",
    "# eventually meet at intersection or None\n",
    "\n",
    "class Solution:\n",
    "    def getIntersectionNode(self, headA: ListNode, headB: ListNode) -> ListNode:\n",
    "        if not headA or not headB:\n",
    "            return None\n",
    "        pA = headA\n",
    "        pB = headB\n",
    "        while pA != pB:\n",
    "            pA = headB if not pA else pA.next\n",
    "            pB = headA if not pB else pB.next\n",
    "        \n",
    "        return pA"
   ]
  }
 ]
}