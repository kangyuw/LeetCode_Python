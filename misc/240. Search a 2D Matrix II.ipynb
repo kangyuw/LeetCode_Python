{
 "metadata": {
  "language_info": {
   "codemirror_mode": {
    "name": "ipython",
    "version": 3
   },
   "file_extension": ".py",
   "mimetype": "text/x-python",
   "name": "python",
   "nbconvert_exporter": "python",
   "pygments_lexer": "ipython3",
   "version": 3
  },
  "orig_nbformat": 2
 },
 "nbformat": 4,
 "nbformat_minor": 2,
 "cells": [
  {
   "cell_type": "markdown",
   "metadata": {},
   "source": [
    "### [240\\. Search a 2D Matrix II](https://leetcode.com/problems/search-a-2d-matrix-ii/)\n",
    "\n",
    "Difficulty: **Medium**  \n",
    "\n",
    "Related Topics: [Binary Search](https://leetcode.com/tag/binary-search/), [Divide and Conquer](https://leetcode.com/tag/divide-and-conquer/)\n",
    "\n",
    "\n",
    "Write an efficient algorithm that searches for a value in an _m_ x _n_ matrix. This matrix has the following properties:\n",
    "\n",
    "*   Integers in each row are sorted in ascending from left to right.\n",
    "*   Integers in each column are sorted in ascending from top to bottom.\n",
    "\n",
    "**Example:**\n",
    "\n",
    "Consider the following matrix:\n",
    "\n",
    "```\n",
    "[\n",
    "  [1,   4,  7, 11, 15],\n",
    "  [2,   5,  8, 12, 19],\n",
    "  [3,   6,  9, 16, 22],\n",
    "  [10, 13, 14, 17, 24],\n",
    "  [18, 21, 23, 26, 30]\n",
    "]\n",
    "```\n",
    "\n",
    "Given target = `5`, return `true`.\n",
    "\n",
    "Given target = `20`, return `false`."
   ]
  },
  {
   "cell_type": "code",
   "execution_count": null,
   "metadata": {},
   "outputs": [],
   "source": [
    "def binarySearchRecursive(self, array, left, right, target):\n",
    "    if left > right:\n",
    "        return False\n",
    "    mid = (left + right) // 2\n",
    "    if array[mid] == target:\n",
    "        return True\n",
    "    elif target < array[mid]:\n",
    "        return self.binarySearchRecursive(array, left, mid - 1, target)\n",
    "    else:\n",
    "        return self.binarySearchRecursive(array, mid + 1, right, target)"
   ]
  },
  {
   "cell_type": "code",
   "execution_count": null,
   "metadata": {},
   "outputs": [],
   "source": [
    "def binarySearchIterative(self, array, left, right, target):\n",
    "    left = 0\n",
    "    right = len(array) - 1\n",
    "    while left <= right:\n",
    "        mid = (left + right) // 2\n",
    "        if array[mid] == target:\n",
    "            return True\n",
    "        elif target < array[mid]:\n",
    "            right = mid - 1\n",
    "        else:\n",
    "            left = mid + 1\n",
    "    return False"
   ]
  },
  {
   "cell_type": "code",
   "execution_count": null,
   "metadata": {},
   "outputs": [],
   "source": [
    "# 2. 針對每個 row 做 binary Search\n",
    "class Solution:\n",
    "    def searchMatrix(self, matrix, target):\n",
    "        \"\"\"\n",
    "        :type matrix: List[List[int]]\n",
    "        :type target: int\n",
    "        :rtype: bool\n",
    "        \"\"\"\n",
    "        def binarySearch(array, target):\n",
    "            left = 0\n",
    "            right = len(array) - 1\n",
    "            while left <= right:\n",
    "                mid = (left + right) // 2\n",
    "                if target == array[mid]:\n",
    "                    return True\n",
    "                elif target < array[mid]:\n",
    "                    right = mid - 1\n",
    "                else:\n",
    "                    left = mid + 1\n",
    "            return False\n",
    "        for row in matrix:\n",
    "            if binarySearch(row, target):\n",
    "                return True\n",
    "        return False"
   ]
  },
  {
   "cell_type": "code",
   "execution_count": null,
   "metadata": {},
   "outputs": [],
   "source": [
    "# 從最左下開始\n",
    "# target 較小: 往上; target 較大: 往右\n",
    "class Solution:\n",
    "    def searchMatrix(self, matrix, target):\n",
    "        \"\"\"\n",
    "        :type matrix: List[List[int]]\n",
    "        :type target: int\n",
    "        :rtype: bool\n",
    "        \"\"\"\n",
    "        row = len(matrix) - 1\n",
    "        col = 0\n",
    "        \n",
    "        while 0 <= row < len(matrix) and 0 <= col <len(matrix[row]):\n",
    "            if target == matrix[row][col]:\n",
    "                return True\n",
    "            elif target < matrix[row][col]:\n",
    "                row -= 1\n",
    "            else:\n",
    "                col += 1\n",
    "                \n",
    "        return False"
   ]
  }
 ]
}