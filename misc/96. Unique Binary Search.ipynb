{
 "cells": [
  {
   "cell_type": "markdown",
   "metadata": {},
   "source": [
    "### [96\\. Unique Binary Search Trees](https://leetcode.com/problems/unique-binary-search-trees/)\n",
    "\n",
    "Difficulty: **Medium**\n",
    "\n",
    "\n",
    "Given _n_, how many structurally unique **BST's** (binary search trees) that store values 1 ... _n_?\n",
    "\n",
    "**Example:**\n",
    "\n",
    "```\n",
    "Input: 3\n",
    "Output: 5\n",
    "Explanation:\n",
    "Given n = 3, there are a total of 5 unique BST's:\n",
    "\n",
    "   1         3     3      2      1\n",
    "    \\       /     /      / \\      \\\n",
    "     3     2     1      1   3      2\n",
    "    /     /       \\                 \\\n",
    "   2     1         2                 3\n",
    "```\n",
    "\n",
    "1...n, 可以產生幾種 BST\n",
    "\n",
    "1. left node <= root\n",
    "\n",
    "2. right node >= root"
   ]
  },
  {
   "cell_type": "markdown",
   "metadata": {},
   "source": [
    "### Solution: DP\n",
    "\n",
    "DP 陣列儲存 n = i 會有幾種可能的結果\n",
    "\n",
    "因為BST的原則\n",
    "\n",
    "ex, n = 3\n",
    "\n",
    "```\n",
    "  1      2      3\n",
    " / \\    / \\    / \\\n",
    "0   2  1   1  2   0\n",
    "\n",
    "2 + 1 + 2 = 5\n",
    "```\n",
    "\n",
    "```\n",
    "initial:\n",
    "DP[0] = 1\n",
    "DP[1] = 1\n",
    "\n",
    "transition:\n",
    "DP[N] = DP[0] * DP[N-1] + DP[1] * DP[N-2] + ... + DP[N-1] + DP[0]\n",
    "```\n",
    "\n",
    "43.37%\n",
    "\n",
    "$O(n^2)$"
   ]
  },
  {
   "cell_type": "code",
   "execution_count": 32,
   "metadata": {},
   "outputs": [],
   "source": [
    "class Solution:\n",
    "    def numTrees(self, n):\n",
    "        if n == 0 or n == 1:\n",
    "            return 1\n",
    "        DP = [0] * (n+1)\n",
    "        DP[0], DP[1] = 1, 1\n",
    "        for i in range(2,n+1):\n",
    "            element = 0\n",
    "            for j in range(i):\n",
    "                element += DP[j] * DP[i-1-j]\n",
    "            DP[i] = element\n",
    "        return DP[-1]"
   ]
  },
  {
   "cell_type": "code",
   "execution_count": null,
   "metadata": {},
   "outputs": [],
   "source": [
    "class Solution:\n",
    "    def numTrees(self, n: int) -> int:\n",
    "        dp = [0] * (n+1)\n",
    "        \n",
    "        dp[0] = 1\n",
    "        dp[1] = 1\n",
    "        \n",
    "        for i in range(2, n+1):\n",
    "            for j in range(1, i+1):\n",
    "                dp[i] += dp[j-1] * dp[i-j]\n",
    "                \n",
    "        return dp[n]"
   ]
  }
 ],
 "metadata": {
  "language_info": {
   "codemirror_mode": {
    "name": "ipython",
    "version": 3
   },
   "file_extension": ".py",
   "mimetype": "text/x-python",
   "name": "python",
   "nbconvert_exporter": "python",
   "pygments_lexer": "ipython3",
   "version": "3.7.4-final"
  },
  "orig_nbformat": 2,
  "kernelspec": {
   "name": "python37432bitleetcodepipenve0a86c91897b47168bafc77adf197e07",
   "display_name": "Python 3.7.4 32-bit ('LeetCode': pipenv)"
  }
 },
 "nbformat": 4,
 "nbformat_minor": 2
}