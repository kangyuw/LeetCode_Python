{
 "metadata": {
  "language_info": {
   "codemirror_mode": {
    "name": "ipython",
    "version": 3
   },
   "file_extension": ".py",
   "mimetype": "text/x-python",
   "name": "python",
   "nbconvert_exporter": "python",
   "pygments_lexer": "ipython3",
   "version": "3.8.3-final"
  },
  "orig_nbformat": 2,
  "kernelspec": {
   "name": "python_defaultSpec_1597698209762",
   "display_name": "Python 3.8.3 64-bit"
  }
 },
 "nbformat": 4,
 "nbformat_minor": 2,
 "cells": [
  {
   "cell_type": "markdown",
   "metadata": {},
   "source": [
    "### [215\\. Kth Largest Element in an Array](https://leetcode.com/problems/kth-largest-element-in-an-array/)\n",
    "\n",
    "Difficulty: **Medium**  \n",
    "\n",
    "Related Topics: [Divide and Conquer](https://leetcode.com/tag/divide-and-conquer/), [Heap](https://leetcode.com/tag/heap/)\n",
    "\n",
    "\n",
    "Find the **k**th largest element in an unsorted array. Note that it is the kth largest element in the sorted order, not the kth distinct element.\n",
    "\n",
    "**Example 1:**\n",
    "\n",
    "```\n",
    "Input: [3,2,1,5,6,4] and k = 2\n",
    "Output: 5\n",
    "```\n",
    "\n",
    "**Example 2:**\n",
    "\n",
    "```\n",
    "Input: [3,2,3,1,2,4,5,5,6] and k = 4\n",
    "Output: 4\n",
    "```\n",
    "\n",
    "**Note:**  \n",
    "You may assume k is always valid, 1 ≤ k ≤ array's length."
   ]
  },
  {
   "cell_type": "code",
   "execution_count": 4,
   "metadata": {},
   "outputs": [],
   "source": [
    "# O(nlogn) time\n",
    "class Solution:\n",
    "    def findKthLargest(self, nums, k):\n",
    "        return sorted(nums)[-k]"
   ]
  },
  {
   "cell_type": "code",
   "execution_count": null,
   "metadata": {},
   "outputs": [],
   "source": [
    "# heap\n",
    "import heapq\n",
    "\n",
    "class Solution:\n",
    "    def findKthLargest(self, nums: List[int], k: int) -> int:\n",
    "        h = nums[:k]\n",
    "        heapq.heapify(h)\n",
    "        \n",
    "        for i in range(k, len(nums)):\n",
    "            if nums[i] > h[0]:\n",
    "                heapq.heappushpop(h, nums[i])\n",
    "        \n",
    "        return h[0]"
   ]
  }
 ]
}