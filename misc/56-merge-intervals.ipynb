{
 "cells": [
  {
   "cell_type": "markdown",
   "metadata": {},
   "source": [
    "### [56\\. Merge Intervals](https://leetcode.com/problems/merge-intervals/)\n",
    "\n",
    "Difficulty: **Medium**\n",
    "\n",
    "\n",
    "Given a collection of intervals, merge all overlapping intervals.\n",
    "\n",
    "**Example 1:**\n",
    "\n",
    "```\n",
    "Input: [[1,3],[2,6],[8,10],[15,18]]\n",
    "Output: [[1,6],[8,10],[15,18]]\n",
    "Explanation: Since intervals [1,3] and [2,6] overlaps, merge them into [1,6].\n",
    "```\n",
    "\n",
    "**Example 2:**\n",
    "\n",
    "```\n",
    "Input: [[1,4],[4,5]]\n",
    "Output: [[1,5]]\n",
    "Explanation: Intervals [1,4] and [4,5] are considered overlapping.\n",
    "```\n",
    "\n",
    "**NOTE:** input types have been changed on April 15, 2019\\. Please reset to default code definition to get new method signature."
   ]
  },
  {
   "cell_type": "markdown",
   "metadata": {},
   "source": [
    "每個元素都是一個範圍, 將有重疊到的範圍聯合起來\n",
    "\n",
    "## Solution 1:\n",
    "\n",
    "將範圍內所有元素放進某個 `set` 中, 整理後將連續範圍印出來\n",
    "\n",
    "### 錯!\n",
    "\n",
    "連續的範圍跟 overlapping 不同\n"
   ]
  },
  {
   "cell_type": "code",
   "execution_count": 96,
   "metadata": {},
   "outputs": [],
   "source": [
    "class Solution:\n",
    "    def merge(self, intervals):\n",
    "        if not intervals:\n",
    "            return []\n",
    "        lookup = set()\n",
    "        for inter in intervals:\n",
    "            for i in range(inter[0], inter[1] + 1):\n",
    "                lookup.add(i)\n",
    "        res = []\n",
    "        lookup = list(lookup)\n",
    "        pre = lookup[0]\n",
    "        element = []\n",
    "        for i in range(1, len(lookup)):\n",
    "            curr = lookup[i]\n",
    "            if not element:\n",
    "                element.append(pre)\n",
    "            if curr != pre + 1:\n",
    "                element.append(pre)\n",
    "                res.append(element)\n",
    "                element = []\n",
    "            pre = curr\n",
    "        element.append(lookup[-1])\n",
    "        res.append(element)\n",
    "        return res"
   ]
  },
  {
   "cell_type": "markdown",
   "metadata": {},
   "source": [
    "## Solution 2:\n",
    "遍歷 intervals, 如果範圍的開頭比之前的結束還小, 就是有重疊的 "
   ]
  },
  {
   "cell_type": "code",
   "execution_count": 148,
   "metadata": {},
   "outputs": [],
   "source": [
    "class Solution:\n",
    "    def merge(self, intervals):\n",
    "        if not intervals: return []\n",
    "        intervals = sorted(intervals)\n",
    "        res = []\n",
    "        element = []\n",
    "        pre = intervals[0]\n",
    "        for i in range(1, len(intervals)):\n",
    "            curr = intervals[i]\n",
    "            print(pre, curr)\n",
    "            if not element:\n",
    "                element.append(pre[0])\n",
    "            if curr[0] > pre[1]:\n",
    "                element.append(max(pre[1]))\n",
    "                res.append(element)\n",
    "                element = []\n",
    "            pre = curr\n",
    "        if not element:\n",
    "            res.append(intervals[-1])\n",
    "        else:\n",
    "            element.append(pre[1])\n",
    "            res.append(element)\n",
    "        return res\n"
   ]
  },
  {
   "cell_type": "markdown",
   "metadata": {},
   "source": [
    "## Solution 3:\n",
    "\n",
    "76.38%\n",
    "\n",
    "遍歷 intervals 遇到重疊的部分將其與 `res[-1]` 融合\n",
    "不然就直接新增到 `res` 之中\n",
    "\n",
    "將執行的事情另外做成 function 來考慮"
   ]
  },
  {
   "cell_type": "code",
   "execution_count": null,
   "metadata": {},
   "outputs": [],
   "source": [
    "class Solution:\n",
    "    def merge(self, intervals):\n",
    "        if not intervals: return []\n",
    "        \n",
    "        def make_merge(inter1, inter2):\n",
    "            return [min(inter1[0], inter2[0]), max(inter2[1], inter1[1])]\n",
    "        \n",
    "        intervals = sorted(intervals)\n",
    "        res = []\n",
    "        for inter in intervals:\n",
    "            if not res:\n",
    "                res.append(inter)\n",
    "            elif res[-1][1] >= inter[0]:\n",
    "                res[-1] = make_merge(res[-1], inter)\n",
    "            else:\n",
    "                res.append(inter)\n",
    "        return res\n"
   ]
  },
  {
   "cell_type": "markdown",
   "metadata": {},
   "source": [
    "Solution 4:\n"
   ]
  },
  {
   "cell_type": "code",
   "execution_count": null,
   "metadata": {},
   "outputs": [],
   "source": [
    "class Solution:\n",
    "    def merge(self, intervals: List[List[int]]) -> List[List[int]]:\n",
    "        ans = []\n",
    "        \n",
    "        intervals.sort()\n",
    "        \n",
    "        for interval in intervals:\n",
    "            if len(ans) == 0:\n",
    "                ans.append(interval)\n",
    "            elif ans[-1][1] >= interval[1]:\n",
    "                continue\n",
    "            elif ans[-1][1] >= interval[0]:\n",
    "                ans[-1][1] = interval[1]\n",
    "            else:\n",
    "                ans.append(interval)\n",
    "                \n",
    "        return ans"
   ]
  }
 ],
 "metadata": {
  "language_info": {
   "codemirror_mode": {
    "name": "ipython",
    "version": 3
   },
   "file_extension": ".py",
   "mimetype": "text/x-python",
   "name": "python",
   "nbconvert_exporter": "python",
   "pygments_lexer": "ipython3",
   "version": "3.7.4-final"
  },
  "orig_nbformat": 2,
  "kernelspec": {
   "name": "python37432bitleetcodepipenve0a86c91897b47168bafc77adf197e07",
   "display_name": "Python 3.7.4 32-bit ('LeetCode': pipenv)"
  }
 },
 "nbformat": 4,
 "nbformat_minor": 2
}