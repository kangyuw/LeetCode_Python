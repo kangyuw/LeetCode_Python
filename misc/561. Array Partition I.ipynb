{
 "cells": [
  {
   "cell_type": "markdown",
   "metadata": {},
   "source": [
    "### [561\\. Array Partition I](https://leetcode.com/problems/array-partition-i/)\n",
    "\n",
    "Difficulty: **Easy**\n",
    "\n",
    "\n",
    "Given an array of **2n** integers, your task is to group these integers into **n** pairs of integer, say (a<sub style=\"display: inline;\">1</sub>, b<sub style=\"display: inline;\">1</sub>), (a<sub style=\"display: inline;\">2</sub>, b<sub style=\"display: inline;\">2</sub>), ..., (a<sub style=\"display: inline;\">n</sub>, b<sub style=\"display: inline;\">n</sub>) which makes sum of min(a<sub style=\"display: inline;\">i</sub>, b<sub style=\"display: inline;\">i</sub>) for all i from 1 to n as large as possible.\n",
    "\n",
    "**Example 1:**  \n",
    "\n",
    "```\n",
    "Input: [1,4,3,2]\n",
    "\n",
    "Output: 4\n",
    "Explanation: n is 2, and the maximum sum of pairs is 4 = min(1, 2) + min(3, 4).\n",
    "```\n",
    "\n",
    "**Note:**  \n",
    "\n",
    "1.  **n** is a positive integer, which is in the range of [1, 10000].\n",
    "2.  All the integers in the array will be in the range of [-10000, 10000]."
   ]
  },
  {
   "cell_type": "markdown",
   "metadata": {},
   "source": [
    "## [Array Partition 1](https://leetcode.com/explore/learn/card/array-and-string/205/array-two-pointer-technique/1154/)\n",
    "\n",
    "給2n個整數, 將他們分成n組, 每組選個比較小的, 相加之後要得到最大結果的分組\n",
    "\n",
    "回傳相加之後的結果\n",
    "\n",
    "### 思路1\n",
    "\n",
    "尋找跟自己最近的數, 甚至是相同的數字\n",
    "\n",
    "ptr1: 目標數字 第一個數字\n",
    "\n",
    "ptr2: 計算跟目標數字之間的差距abs() 如果比較小 那就是新的配對, 找到一樣的數字就可以停下來了\n",
    "\n",
    "$O(N^2)$\n",
    "\n",
    "找到適當組合後, min(), 加到結果上, 從 list 中移除\n",
    "\n",
    "**問題:** 有可能, 前面的數字把後面數字的最佳組合給拿去了\n",
    "\n",
    "### 思路2\n",
    "\n",
    "排序後兩個兩個抓起來"
   ]
  },
  {
   "cell_type": "code",
   "execution_count": null,
   "metadata": {},
   "outputs": [],
   "source": [
    "def arrayPairSum_fail(nums):\n",
    "    if not nums: return\n",
    "    res = 0\n",
    "    while(nums):\n",
    "        target = nums[0]\n",
    "        gap = float('inf')\n",
    "        pair = 0\n",
    "        for idx in range(1,len(nums)):\n",
    "            if nums[idx] == target:\n",
    "                pair = idx\n",
    "                break\n",
    "            else:\n",
    "                if gap > abs(nums[idx] - target):\n",
    "                    pair = idx\n",
    "                    gap = abs(nums[idx] - target)\n",
    "        \n",
    "        res += min(nums[0], nums[pair])\n",
    "        \n",
    "        print(nums[0], nums[pair])\n",
    "        del nums[pair]\n",
    "        del nums[0]\n",
    "        print(nums)\n",
    "    \n",
    "    return res"
   ]
  },
  {
   "cell_type": "code",
   "execution_count": null,
   "metadata": {},
   "outputs": [],
   "source": [
    "nums = [7,0,6,4,9,6]\n",
    "arrayPairSum(nums)"
   ]
  },
  {
   "cell_type": "code",
   "execution_count": null,
   "metadata": {},
   "outputs": [],
   "source": [
    "def arrayPairSum(nums):\n",
    "    if not nums: return\n",
    "    nums.sort()\n",
    "    res = 0\n",
    "    while nums:\n",
    "        res += min(nums.pop(), nums.pop())\n",
    "    return res"
   ]
  },
  {
   "cell_type": "code",
   "execution_count": null,
   "metadata": {},
   "outputs": [],
   "source": [
    " def arrayPairSum(nums):\n",
    "    nums.sort()\n",
    "    return sum([i for i in nums[::2]])"
   ]
  }
 ],
 "metadata": {
  "language_info": {
   "codemirror_mode": {
    "name": "ipython",
    "version": 3
   },
   "file_extension": ".py",
   "mimetype": "text/x-python",
   "name": "python",
   "nbconvert_exporter": "python",
   "pygments_lexer": "ipython3",
   "version": 3
  },
  "orig_nbformat": 2
 },
 "nbformat": 4,
 "nbformat_minor": 2
}