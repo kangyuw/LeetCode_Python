{
 "cells": [
  {
   "cell_type": "markdown",
   "metadata": {},
   "source": [
    "### [72\\. Edit Distance](https://leetcode.com/problems/edit-distance/)\n",
    "\n",
    "Difficulty: **Hard**\n",
    "\n",
    "\n",
    "Given two words _word1_ and _word2_, find the minimum number of operations required to convert _word1_ to _word2_.\n",
    "\n",
    "You have the following 3 operations permitted on a word:\n",
    "\n",
    "1.  Insert a character\n",
    "2.  Delete a character\n",
    "3.  Replace a character\n",
    "\n",
    "**Example 1:**\n",
    "\n",
    "```\n",
    "Input: word1 = \"horse\", word2 = \"ros\"\n",
    "Output: 3\n",
    "Explanation: \n",
    "horse -> rorse (replace 'h' with 'r')\n",
    "rorse -> rose (remove 'r')\n",
    "rose -> ros (remove 'e')\n",
    "```\n",
    "\n",
    "**Example 2:**\n",
    "\n",
    "```\n",
    "Input: word1 = \"intention\", word2 = \"execution\"\n",
    "Output: 5\n",
    "Explanation: \n",
    "intention -> inention (remove 't')\n",
    "inention -> enention (replace 'i' with 'e')\n",
    "enention -> exention (replace 'n' with 'x')\n",
    "exention -> exection (replace 'n' with 'c')\n",
    "exection -> execution (insert 'u')\n",
    "```"
   ]
  },
  {
   "cell_type": "markdown",
   "metadata": {},
   "source": [
    "### 解釋\n",
    "\n",
    "比較兩字串 將字串1變成字串2需要最少幾次編輯\n",
    "\n",
    "一次編輯:\n",
    "\n",
    "1. 插入一個字\n",
    "\n",
    "2. 刪除一個字\n",
    "\n",
    "3. 取代一個字\n",
    "\n",
    "### LCS Solution: 失敗\n",
    "\n",
    "先找到最長共同子字串的長度 LCS\n",
    "\n",
    "兩邊剩下的字元為: r1, r2\n",
    "\n",
    "**錯誤答案**\n",
    "\n",
    "最少編輯次數 = 取代次數 + 刪除/插入次數\n",
    "\n",
    "res = min(len(r1), len(r2)) + abs(len(r1) - len(r2))\n",
    "\n",
    "**更正**\n",
    "\n",
    "要考慮到間格\n",
    "\n",
    "找到 LCS 後, 必須把間隔標示出來\n",
    "\n",
    "每個間隔之間多出來的字要分開套用上面的轉換式\n",
    "\n",
    "再將結果總和\n",
    "\n",
    "**失敗**: 無法保證LCS取到最短編輯距離"
   ]
  },
  {
   "cell_type": "code",
   "execution_count": 11,
   "metadata": {},
   "outputs": [],
   "source": [
    "class Solution_Fail:\n",
    "    def minDistance(self, word1: str, word2: str):\n",
    "        if not word1 or not word2:\n",
    "            return None\n",
    "        \n",
    "        m, n = len(word1), len(word2)\n",
    "        remain1 = []\n",
    "        remain2 = []\n",
    "\n",
    "        LCS = [[None] * (n+1) for _ in range(m+1)]\n",
    "\n",
    "        for i in range(m+1):\n",
    "            for j in range(n+1):\n",
    "                if i == 0 or j == 0:\n",
    "                    LCS[i][j] = 0\n",
    "                elif word1[i-1] == word2[j-1]:\n",
    "                    LCS[i][j] = LCS[i-1][j-1] + 1\n",
    "                else:\n",
    "                    LCS[i][j] = max(LCS[i-1][j], LCS[i][j-1])\n",
    "        \n",
    "        print(LCS[m][n])\n",
    "        len1 = m - LCS[m][n]\n",
    "        len2 = n - LCS[m][n]\n",
    "\n",
    "        return min(len1, len2) + abs(len1 - len2)"
   ]
  },
  {
   "cell_type": "markdown",
   "metadata": {},
   "source": [
    "[參考影片](https://www.youtube.com/watch?v=MiqoA-yF-0M)\n",
    "\n",
    "### DP Solution: Sub-string\n",
    "\n",
    "每次互相比較最後的字元\n",
    "\n",
    "字元相同: 不用編輯 \\[i-1]]\\[j-1]\n",
    "\n",
    "字元不同:\n",
    "\n",
    "1. 取代: 兩個字串都要縮短一個字元 \\[i-1]]\\[j-1]+1\n",
    "\n",
    "2. 插入: 輸出字串去掉一個字元 \\[i-1]]\\[j]+1\n",
    "\n",
    "3. 刪除: 輸入字串去掉一個字元 \\[i]]\\[j-1]+1\n",
    "\n",
    "選擇三個選項中最小的\n",
    "\n",
    "DP 表格\n",
    "```\n",
    "replace   insert\n",
    "delete    *curr*\n",
    "```\n",
    "\n",
    "Time: O(MN)\n",
    "\n",
    "Space: O(MN)"
   ]
  },
  {
   "cell_type": "code",
   "execution_count": 34,
   "metadata": {},
   "outputs": [],
   "source": [
    "class Solution:\n",
    "    def minDistance(self, word1: str, word2: str):\n",
    "        ED = [[0] * (len(word1) + 1) for _ in range(len(word2) + 1)]\n",
    "\n",
    "        for j in range(len(word1)+1):\n",
    "            ED[0][j] = j\n",
    "\n",
    "        for i in range(len(word2)+1):\n",
    "            ED[i][0] = i\n",
    "\n",
    "        for i, c in enumerate(word2):\n",
    "            for j, d in enumerate(word1):\n",
    "                if c == d:\n",
    "                    ED[i+1][j+1] = ED[i][j]\n",
    "                else:\n",
    "                    ED[i+1][j+1] = min(ED[i][j], ED[i+1][j], ED[i][j+1]) + 1\n",
    "        return ED[-1][-1]"
   ]
  },
  {
   "cell_type": "code",
   "execution_count": null,
   "metadata": {},
   "outputs": [],
   "source": [
    "### LRU_CACHE\n",
    "class Solution:\n",
    "    def minDistance(self, s1: str, s2: str) -> int:\n",
    "        @lru_cache(None)\n",
    "        def dp(i,j):\n",
    "            if i<0 or j<0: return max(i,j)+1\n",
    "            return dp(i-1,j-1) if s1[i]==s2[j] else min(dp(i-1,j),dp(i-1,j-1),dp(i,j-1))+1\n",
    "        return dp(len(s1)-1,len(s2)-1)"
   ]
  },
  {
   "cell_type": "code",
   "execution_count": null,
   "metadata": {},
   "outputs": [],
   "source": [
    "### deque\n",
    "from collections import deque\n",
    "class Solution:\n",
    "    def minDistance(self, word1: str, word2: str) -> int:\n",
    "        visit, q = set(), deque([(word1, word2, 0)])\n",
    "        \n",
    "        while q:\n",
    "            w1, w2, d = q.popleft()\n",
    "            if w1 == w2:\n",
    "                return d\n",
    "            \n",
    "            if (w1, w2) not in visit:\n",
    "                visit.add((w1, w2))\n",
    "                \n",
    "                while w1 and w2 and w1[0] == w2[0]:\n",
    "                    w1 = w1[1:]\n",
    "                    w2 = w2[1:]\n",
    "                d +=1 \n",
    "                q.extend([(w1[1:], w2[1:], d), (w1[1:], w2, d), (w1, w2[1:], d)])"
   ]
  },
  {
   "cell_type": "markdown",
   "metadata": {},
   "source": [
    "### Transform 2D to 1D\n",
    "\n",
    "[參考](https://leetcode.com/problems/edit-distance/discuss/25846/C%2B%2B-O(n)-space-DP)\n",
    "\n",
    "從轉換看來, 只需要當前這一列與前一列就夠了\n",
    "\n",
    "不過用些技巧, 可以只要一列長度為目標字串的陣列"
   ]
  },
  {
   "cell_type": "code",
   "execution_count": 51,
   "metadata": {},
   "outputs": [],
   "source": [
    "class Solution:\n",
    "    def minDistance(self, word1: str, word2: str):\n",
    "        m, n = len(word1), len(word2)\n",
    "        ED = [0] * (n+1)\n",
    "        for j in range(n+1):\n",
    "            ED[j] = j\n",
    "        for i in range(1,m+1):\n",
    "            pre = ED[0]\n",
    "            ED[0] = i\n",
    "            for j in range(1,n+1):\n",
    "                temp = ED[j]\n",
    "                if word1[i-1] == word2[j-1]:\n",
    "                    ED[j] = pre\n",
    "                else:\n",
    "                    ED[j] = min(pre, ED[j-1], ED[j]) + 1\n",
    "                pre = temp\n",
    "            print(ED)\n",
    "        return ED[n]"
   ]
  },
  {
   "cell_type": "code",
   "execution_count": 52,
   "metadata": {
    "tags": []
   },
   "outputs": [
    {
     "output_type": "stream",
     "name": "stdout",
     "text": "[1, 1, 2, 3]\n[2, 2, 1, 2]\n[3, 2, 2, 2]\n[4, 3, 3, 2]\n[5, 4, 4, 3]\n"
    },
    {
     "output_type": "execute_result",
     "data": {
      "text/plain": "3"
     },
     "metadata": {},
     "execution_count": 52
    }
   ],
   "source": [
    "Solution.minDistance(_, 'horse', 'ros')"
   ]
  },
  {
   "cell_type": "code",
   "execution_count": null,
   "metadata": {},
   "outputs": [],
   "source": []
  }
 ],
 "metadata": {
  "language_info": {
   "codemirror_mode": {
    "name": "ipython",
    "version": 3
   },
   "file_extension": ".py",
   "mimetype": "text/x-python",
   "name": "python",
   "nbconvert_exporter": "python",
   "pygments_lexer": "ipython3",
   "version": 3
  },
  "orig_nbformat": 2,
  "kernelspec": {
   "name": "python_defaultSpec_1594372797243",
   "display_name": "Python 3.8.3 64-bit"
  }
 },
 "nbformat": 4,
 "nbformat_minor": 2
}