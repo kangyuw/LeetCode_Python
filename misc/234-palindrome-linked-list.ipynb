{
 "metadata": {
  "language_info": {
   "codemirror_mode": {
    "name": "ipython",
    "version": 3
   },
   "file_extension": ".py",
   "mimetype": "text/x-python",
   "name": "python",
   "nbconvert_exporter": "python",
   "pygments_lexer": "ipython3",
   "version": 3
  },
  "orig_nbformat": 2
 },
 "nbformat": 4,
 "nbformat_minor": 2,
 "cells": [
  {
   "cell_type": "markdown",
   "metadata": {},
   "source": [
    "### [234\\. Palindrome Linked List](https://leetcode.com/problems/palindrome-linked-list/)\n",
    "\n",
    "Difficulty: **Easy**  \n",
    "\n",
    "Related Topics: [Linked List](https://leetcode.com/tag/linked-list/), [Two Pointers](https://leetcode.com/tag/two-pointers/)\n",
    "\n",
    "\n",
    "Given a singly linked list, determine if it is a palindrome.\n",
    "\n",
    "**Example 1:**\n",
    "\n",
    "```\n",
    "Input: 1->2\n",
    "Output: false\n",
    "```\n",
    "\n",
    "**Example 2:**\n",
    "\n",
    "```\n",
    "Input: 1->2->2->1\n",
    "Output: true\n",
    "```\n",
    "\n",
    "**Follow up:**  \n",
    "Could you do it in O(n) time and O(1) space?"
   ]
  },
  {
   "cell_type": "code",
   "execution_count": null,
   "metadata": {},
   "outputs": [],
   "source": [
    "# O(n) time, O(n) space\n",
    "class Solution:\n",
    "    def isPalindrome(self, head: ListNode) -> bool:\n",
    "        queue = collections.deque([])\n",
    "        while head:\n",
    "            queue.append(head)\n",
    "            head = head.next\n",
    "        while len(queue) >= 2:\n",
    "            if queue.popleft().val != queue.pop().val:\n",
    "                return False\n",
    "        return True"
   ]
  },
  {
   "cell_type": "code",
   "execution_count": null,
   "metadata": {},
   "outputs": [],
   "source": [
    "# O(n) time, O(1) space\n",
    "class Solution:\n",
    "    def isPalindrome(self, head: ListNode) -> bool:\n",
    "        # find mid point\n",
    "        fast = slow = head\n",
    "        while fast and fast.next:\n",
    "            fast = fast.next.next\n",
    "            slow = slow.next\n",
    "        \n",
    "        tail = None\n",
    "        # reverse 2nd half\n",
    "        while slow:\n",
    "            nxt = slow.next\n",
    "            slow.next = tail\n",
    "            tail = slow\n",
    "            slow = nxt\n",
    "            \n",
    "        while tail:\n",
    "            if tail.val != head.val:\n",
    "                return False\n",
    "            tail = tail.next\n",
    "            head = head.next\n",
    "        \n",
    "        return True"
   ]
  }
 ]
}