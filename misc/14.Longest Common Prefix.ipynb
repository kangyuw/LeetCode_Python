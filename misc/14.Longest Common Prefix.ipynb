{
 "cells": [
  {
   "cell_type": "markdown",
   "metadata": {},
   "source": [
    "### [14\\. Longest Common Prefix](https://leetcode.com/problems/longest-common-prefix/)\n",
    "\n",
    "Difficulty: **Easy**\n",
    "\n",
    "\n",
    "Write a function to find the longest common prefix string amongst an array of strings.\n",
    "\n",
    "If there is no common prefix, return an empty string `\"\"`.\n",
    "\n",
    "**Example 1:**\n",
    "\n",
    "```\n",
    "Input: [\"flower\",\"flow\",\"flight\"]\n",
    "Output: \"fl\"\n",
    "```\n",
    "\n",
    "**Example 2:**\n",
    "\n",
    "```\n",
    "Input: [\"dog\",\"racecar\",\"car\"]\n",
    "Output: \"\"\n",
    "Explanation: There is no common prefix among the input strings.\n",
    "```\n",
    "\n",
    "**Note:**\n",
    "\n",
    "All given inputs are in lowercase letters `a-z`."
   ]
  },
  {
   "cell_type": "markdown",
   "metadata": {},
   "source": [
    "# [Longest Common Prefix](https://leetcode.com/explore/learn/card/array-and-string/203/introduction-to-string/1162/)\n",
    "\n",
    "最長字首 從一組字串中找到最長的共同字首\n",
    "\n",
    "從 strs[0][0] 開始 一個一個比較吧\n",
    "\n",
    "只要做最短的字串長度的次數就好\n"
   ]
  },
  {
   "cell_type": "code",
   "execution_count": null,
   "metadata": {},
   "outputs": [],
   "source": [
    "def longestCommonPrefix(strs):\n",
    "    if not strs: return ''\n",
    "    res = ''\n",
    "    short = min([len(i) for i in strs])\n",
    "    for i in range(short):\n",
    "        base = strs[0][i]\n",
    "        for x in strs:\n",
    "            if x[i] != base: return res\n",
    "        res = res + base\n",
    "    return res"
   ]
  },
  {
   "cell_type": "code",
   "execution_count": null,
   "metadata": {},
   "outputs": [],
   "source": [
    "def longestCommonPrefix(self, strs):\n",
    "    \"\"\"\n",
    "    :type strs: List[str]\n",
    "    :rtype: str\n",
    "    \"\"\"\n",
    "    if not strs:\n",
    "        return \"\"\n",
    "    shortest = min(strs,key=len) # 居然有這招\n",
    "    for i, ch in enumerate(shortest):\n",
    "        # for each char in the sortest string, we compare the correspnoding char in other strings.\n",
    "        for other in strs:\n",
    "            if other[i] != ch:\n",
    "                return shortest[:i]\n",
    "    return shortest "
   ]
  }
 ],
 "metadata": {
  "language_info": {
   "codemirror_mode": {
    "name": "ipython",
    "version": 3
   },
   "file_extension": ".py",
   "mimetype": "text/x-python",
   "name": "python",
   "nbconvert_exporter": "python",
   "pygments_lexer": "ipython3",
   "version": 3
  },
  "orig_nbformat": 2
 },
 "nbformat": 4,
 "nbformat_minor": 2
}