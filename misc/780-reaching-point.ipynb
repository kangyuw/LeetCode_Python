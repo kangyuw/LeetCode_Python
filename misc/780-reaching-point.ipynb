{
 "metadata": {
  "language_info": {
   "codemirror_mode": {
    "name": "ipython",
    "version": 3
   },
   "file_extension": ".py",
   "mimetype": "text/x-python",
   "name": "python",
   "nbconvert_exporter": "python",
   "pygments_lexer": "ipython3",
   "version": 3
  },
  "orig_nbformat": 2
 },
 "nbformat": 4,
 "nbformat_minor": 2,
 "cells": [
  {
   "source": [
    "### [780\\. Reaching Points](https://leetcode.com/problems/reaching-points/)\n",
    "\n",
    "Difficulty: **Hard**  \n",
    "\n",
    "Related Topics: [Math](https://leetcode.com/tag/math/)\n",
    "\n",
    "A move consists of taking a point `(x, y)` and transforming it to either `(x, x+y)` or `(x+y, y)`.\n",
    "\n",
    "Given a starting point `(sx, sy)` and a target point `(tx, ty)`, return `True` if and only if a sequence of moves exists to transform the point `(sx, sy)` to `(tx, ty)`. Otherwise, return `False`.\n",
    "\n",
    "**x, y 會不斷變大, 所以只要超過了, 就不可能成功**\n",
    "\n",
    "```\n",
    "Examples:\n",
    "Input: sx = 1, sy = 1, tx = 3, ty = 5\n",
    "Output: True\n",
    "Explanation:\n",
    "One series of moves that transforms the starting point to the target is:\n",
    "(1, 1) -> (1, 2)\n",
    "(1, 2) -> (3, 2)\n",
    "(3, 2) -> (3, 5)\n",
    "\n",
    "Input: sx = 1, sy = 1, tx = 2, ty = 2\n",
    "Output: False\n",
    "\n",
    "Input: sx = 1, sy = 1, tx = 1, ty = 1\n",
    "Output: True\n",
    "\n",
    "```\n",
    "\n",
    "**Note:**\n",
    "\n",
    "*   `sx, sy, tx, ty` will all be integers in the range `[1, 10^9]`."
   ],
   "cell_type": "markdown",
   "metadata": {}
  },
  {
   "cell_type": "code",
   "execution_count": null,
   "metadata": {},
   "outputs": [],
   "source": [
    "# Brute Force recursive\n",
    "def reachingPoints(self, sx: int, sy: int, tx: int, ty: int) -> bool:\n",
    "    return self.reachingPoints(sx+sy, sy, tx, ty) or self.reachingPoints(sx, sx+sy, tx, ty)"
   ]
  },
  {
   "cell_type": "code",
   "execution_count": null,
   "metadata": {},
   "outputs": [],
   "source": [
    "# DP with lookup\n",
    "## Not gonna work, since there are no duplicate at all\n",
    "def reachingPoints(self, sx: int, sy: int, tx: int, ty: int) -> bool:\n",
    "    def search(x, y):\n",
    "        if (x,y) in lookup:\n",
    "            return\n",
    "        if x > tx or y > ty:\n",
    "            return\n",
    "        lookup.add((x, y))\n",
    "        search(x+y, y)\n",
    "        search(x, x+y)\n",
    "    search(sx, sy)\n",
    "    return (tx, ty) in lookup"
   ]
  },
  {
   "source": [
    "### Work Backwards\n",
    "\n",
    "Every point (x, y) has two children (x,x+y) and (x+y,y)\n",
    "\n",
    "However, every point (x,y) only have one possible parent\n",
    "\n",
    "```\n",
    "if x >= y: (x-y,y)\n",
    "else: (x, y-x)\n",
    "```\n",
    "\n",
    "We start from (tx, ty) and try to find the (sx, sy)"
   ],
   "cell_type": "markdown",
   "metadata": {}
  },
  {
   "cell_type": "code",
   "execution_count": null,
   "metadata": {},
   "outputs": [],
   "source": [
    "# Backward Naive: TLE\n",
    "def reachingPoints(self, sx: int, sy: int, tx: int, ty: int) -> bool:\n",
    "    while tx >= sx and ty >= sy:\n",
    "        if tx == sx and ty == sy:\n",
    "            return True\n",
    "        if tx > ty:\n",
    "            tx -= ty\n",
    "        else:\n",
    "            ty -= tx\n",
    "    return False"
   ]
  },
  {
   "source": [
    "### Backwards with modulo\n",
    "\n",
    "Reduce target point to ```(x, y + kx)``` or ```(x + ky, y)```\n",
    "\n",
    "When backwarding we can have faster approach:\n",
    "```\n",
    "(tx - ty, ty)\n",
    "(tx - 2ty, ty)\n",
    "(tx - 3ty, ty)\n",
    "...\n",
    "(tx % ty, ty)\n",
    "```\n",
    "\n",
    "time complexity: O(log max(tx, ty))"
   ],
   "cell_type": "markdown",
   "metadata": {}
  },
  {
   "cell_type": "code",
   "execution_count": null,
   "metadata": {},
   "outputs": [],
   "source": [
    "# Recursive\n",
    "def reachingPoints(self, sx, sy, tx, ty):\n",
    "    # 3 base cases\n",
    "    if sx > tx or sy > ty:\n",
    "        return False\n",
    "    if sx == tx:\n",
    "        return (ty - sy)%sx == 0\n",
    "    if sy == ty:\n",
    "        return (tx - sx)%sy == 0\n",
    "    \n",
    "    # keep going\n",
    "    if tx > ty:\n",
    "        return self.reachingPoints(sx, sy, tx%ty, ty)\n",
    "    else:\n",
    "        return self.reachingPoints(sx, sy, tx, ty%tx)\n",
    "    return False"
   ]
  },
  {
   "cell_type": "code",
   "execution_count": null,
   "metadata": {},
   "outputs": [],
   "source": [
    "# Iterative\n",
    "def reachingPoints(self, sx: int, sy: int, tx: int, ty: int) -> bool:\n",
    "    while tx >= sx and ty >= sy:\n",
    "        if tx == ty:\n",
    "            break\n",
    "        elif tx > ty:\n",
    "            if ty > sy:\n",
    "                tx %= ty\n",
    "            else:\n",
    "                return (tx - sx) % ty == 0\n",
    "        else:\n",
    "            if tx > sx:\n",
    "                ty %= tx\n",
    "            else:\n",
    "                return (ty - sy) % tx == 0\n",
    "\n",
    "    return tx == sx and ty == sy"
   ]
  }
 ]
}