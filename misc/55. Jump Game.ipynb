{
 "cells": [
  {
   "cell_type": "markdown",
   "metadata": {},
   "source": [
    "### [55\\. Jump Game](https://leetcode.com/problems/jump-game/)\n",
    "\n",
    "Difficulty: **Medium**\n",
    "\n",
    "\n",
    "Given an array of non-negative integers, you are initially positioned at the first index of the array.\n",
    "\n",
    "Each element in the array represents your maximum jump length at that position.\n",
    "\n",
    "Determine if you are able to reach the last index.\n",
    "\n",
    "**Example 1:**\n",
    "\n",
    "```\n",
    "Input: nums = [2,3,1,1,4]\n",
    "Output: true\n",
    "Explanation: Jump 1 step from index 0 to 1, then 3 steps to the last index.\n",
    "```\n",
    "\n",
    "**Example 2:**\n",
    "\n",
    "```\n",
    "Input: nums = [3,2,1,0,4]\n",
    "Output: false\n",
    "Explanation: You will always arrive at index 3 no matter what. Its maximum jump length is 0, which makes it impossible to reach the last index.\n",
    "```\n",
    "\n",
    "**Constraints:**\n",
    "\n",
    "*   `1 <= nums.length <= 3 * 10^4`\n",
    "*   `0 <= nums[i][j] <= 10^5`"
   ]
  },
  {
   "cell_type": "markdown",
   "metadata": {},
   "source": [
    "只要判斷能不能走到最後一格就可以了\n",
    "\n",
    "## Solution 1: Greedy\n",
    "\n",
    "43.34%\n",
    "\n",
    "順向遍歷矩陣 直到 `nums[-2]` 每次都盡量走到底"
   ]
  },
  {
   "cell_type": "code",
   "execution_count": 20,
   "metadata": {},
   "outputs": [],
   "source": [
    "class Solution:\n",
    "    def canJump(self, nums):\n",
    "        n = len(nums)\n",
    "        curr = next_ = 0\n",
    "        for i in range(n):\n",
    "            if i > next_: # 需要考慮到本身能不能走這麼遠\n",
    "                return False\n",
    "            next_ = max(next_, i + nums[i])\n",
    "        return next_ >= n - 1"
   ]
  },
  {
   "cell_type": "markdown",
   "metadata": {},
   "source": [
    "## Solution 2\n",
    "\n",
    "善用 `enumerate()`"
   ]
  },
  {
   "cell_type": "code",
   "execution_count": null,
   "metadata": {},
   "outputs": [],
   "source": [
    "class Solution:\n",
    "    def canJump(self, nums: List[int]) -> bool:\n",
    "        m = 0\n",
    "        for i, n in enumerate(nums):\n",
    "            if m < i:\n",
    "                return False\n",
    "            m = max(i+n, m)\n",
    "        return True"
   ]
  },
  {
   "cell_type": "code",
   "execution_count": 22,
   "metadata": {},
   "outputs": [
    {
     "output_type": "execute_result",
     "data": {
      "text/plain": "False"
     },
     "metadata": {},
     "execution_count": 22
    }
   ],
   "source": [
    "Solution.canJump(_, [0,2,3])"
   ]
  }
 ],
 "metadata": {
  "language_info": {
   "codemirror_mode": {
    "name": "ipython",
    "version": 3
   },
   "file_extension": ".py",
   "mimetype": "text/x-python",
   "name": "python",
   "nbconvert_exporter": "python",
   "pygments_lexer": "ipython3",
   "version": "3.7.4-final"
  },
  "orig_nbformat": 2,
  "kernelspec": {
   "name": "python37432bitleetcodepipenve0a86c91897b47168bafc77adf197e07",
   "display_name": "Python 3.7.4 32-bit ('LeetCode': pipenv)"
  }
 },
 "nbformat": 4,
 "nbformat_minor": 2
}