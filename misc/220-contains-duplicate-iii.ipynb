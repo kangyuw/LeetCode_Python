{
 "metadata": {
  "language_info": {
   "codemirror_mode": {
    "name": "ipython",
    "version": 3
   },
   "file_extension": ".py",
   "mimetype": "text/x-python",
   "name": "python",
   "nbconvert_exporter": "python",
   "pygments_lexer": "ipython3",
   "version": 3
  },
  "orig_nbformat": 2
 },
 "nbformat": 4,
 "nbformat_minor": 2,
 "cells": [
  {
   "source": [
    "# [Contains Duplicate III](https://leetcode.com/explore/learn/card/introduction-to-data-structure-binary-search-tree/142/conclusion/1013/)\n",
    "\n",
    "座標之間的差距 abs(i - j) 小於等於 k\n",
    "\n",
    "數字之間的差距 abs(list\\[i] - list\\[j]) 小於等於 t\n",
    "\n",
    "檢查 list 內有沒有這種組合\n",
    "\n",
    "## 最開始的想法\n",
    "\n",
    "針對第一項 找到符合條件 t 的組合\n",
    "\n",
    "看兩者之間 有沒有符合條件 k\n",
    "\n",
    "以此類推\n",
    "\n",
    "$O(N^2)$\n",
    "\n",
    "## [Bucket Sort](https://github.com/MisterBooo/Article#9-%E6%A1%B6%E6%8E%92%E5%BA%8F)\n",
    "\n",
    "![Bucket](https://bit.ly/3nyEyla)\n",
    "\n",
    "### 將值當作 key\n",
    "\n",
    "因為不確定數字能到多大 => 不能設定固定數量的桶子\n",
    "\n",
    "### 將座標當作 key\n",
    "\n",
    "反正只要看範圍在 k 之內的東西\n",
    "\n",
    "有沒有 差距在 t 之內的項目\n",
    "\n",
    "超過範圍: 刪掉最小的 放進新的 FIFO\n",
    "\n",
    "=> 這需要用到 OrderedDict\n",
    "\n",
    "=> 根本也不需要啊 用最快的 deque 試試看"
   ],
   "cell_type": "markdown",
   "metadata": {}
  },
  {
   "cell_type": "code",
   "execution_count": null,
   "metadata": {},
   "outputs": [],
   "source": [
    "# OrderedDict 76 ms\n",
    "## 關鍵在於: t 的範圍內 所以要除以 t \n",
    "import collections\n",
    "def containsNearbyAlmostDuplicate(nums, k, t):\n",
    "    if k < 1 or t < 0: return False\n",
    "    dic = collections.OrderedDict()\n",
    "    for num in nums: # O(N)\n",
    "        if t == 0: # 不能 // 0\n",
    "            key = num\n",
    "        else: #將數字以 t 分組, 同一組就是在差距內\n",
    "            key = num // t\n",
    "        # 隔壁組有可能也在範圍內\n",
    "        for m in (dic.get(key - 1), dic.get(key), dic.get(key + 1)):\n",
    "            if m is not None and abs(num - m) <= t: return True \n",
    "        if len(dic) == k: dic.popitem(last=False) # 超過 k 的範圍 踢掉\n",
    "        dic[key] = num\n",
    "    return False"
   ]
  },
  {
   "cell_type": "code",
   "execution_count": null,
   "metadata": {},
   "outputs": [],
   "source": [
    "# bucket\n",
    "## 其實跟上一個一樣 就是用 dict 實現\n",
    "## 64 ms\n",
    "class Solution:\n",
    "    def containsNearbyAlmostDuplicate(self, nums: List[int], k: int, t: int) -> bool:\n",
    "        buckets = {}\n",
    "        num_to_bucket = lambda x: x // t if t > 0 else x # 將數字以 t 分桶\n",
    "        \n",
    "        for i, num in enumerate(nums):\n",
    "            bucket = num_to_bucket(num) # 將座標與數字放進對應的桶子裏頭\n",
    "            for possible_bucket in (bucket-1, bucket, bucket+1):\n",
    "                if possible_bucket in buckets and abs(num-buckets[possible_bucket]) <= t:\n",
    "                    return True\n",
    "            buckets[bucket] = num\n",
    "            if i >= k:\n",
    "                del buckets[num_to_bucket(nums[i-k])]\n",
    "        return False"
   ]
  }
 ]
}