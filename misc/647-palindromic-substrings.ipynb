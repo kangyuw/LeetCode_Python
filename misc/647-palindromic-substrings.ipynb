{
 "metadata": {
  "language_info": {
   "codemirror_mode": {
    "name": "ipython",
    "version": 3
   },
   "file_extension": ".py",
   "mimetype": "text/x-python",
   "name": "python",
   "nbconvert_exporter": "python",
   "pygments_lexer": "ipython3",
   "version": "3.8.3-final"
  },
  "orig_nbformat": 2,
  "kernelspec": {
   "name": "python_defaultSpec_1597686295060",
   "display_name": "Python 3.8.3 64-bit"
  }
 },
 "nbformat": 4,
 "nbformat_minor": 2,
 "cells": [
  {
   "cell_type": "markdown",
   "metadata": {},
   "source": [
    "### [647\\. Palindromic Substrings](https://leetcode.com/problems/palindromic-substrings/)\n",
    "\n",
    "Difficulty: **Medium**  \n",
    "\n",
    "Related Topics: [String](https://leetcode.com/tag/string/), [Dynamic Programming](https://leetcode.com/tag/dynamic-programming/)\n",
    "\n",
    "\n",
    "Given a string, your task is to count how many palindromic substrings in this string.\n",
    "\n",
    "The substrings with different start indexes or end indexes are counted as different substrings even they consist of same characters.\n",
    "\n",
    "**Example 1:**\n",
    "\n",
    "```\n",
    "Input: \"abc\"\n",
    "Output: 3\n",
    "Explanation: Three palindromic strings: \"a\", \"b\", \"c\".\n",
    "```\n",
    "\n",
    "**Example 2:**\n",
    "\n",
    "```\n",
    "Input: \"aaa\"\n",
    "Output: 6\n",
    "Explanation: Six palindromic strings: \"a\", \"a\", \"a\", \"aa\", \"aa\", \"aaa\".\n",
    "```\n",
    "\n",
    "**Note:**\n",
    "\n",
    "1.  The input string length won't exceed 1000."
   ]
  },
  {
   "cell_type": "markdown",
   "metadata": {},
   "source": [
    "### Solution 1: DFS 2-D DP\n",
    "\n",
    "Similar to 5\\. Longest Palindromic Substring\n",
    "\n",
    "Iterative i reversed\n",
    "\n",
    "Iterative j from i to the end\n",
    "\n",
    "Time Complexity: $O(n^2)$, 29.96%"
   ]
  },
  {
   "cell_type": "code",
   "execution_count": null,
   "metadata": {},
   "outputs": [],
   "source": [
    "class Solution:\n",
    "    def countSubstrings(self, s: str) -> int:\n",
    "        n = len(s)\n",
    "        if n == 1 or n == 0:\n",
    "            return n\n",
    "        dp = [[0 for _ in range(n)] for _ in range(n)]\n",
    "        res = 0\n",
    "        for i in range(n-1, -1, -1):\n",
    "            for j in range(i,n):\n",
    "                if j - i < 3: # 只要檢查頭尾即可\n",
    "                    dp[i][j] = s[i] == s[j]\n",
    "                else:\n",
    "                    dp[i][j] = s[i] == s[j] and dp[i+1][j-1]\n",
    "                '''\n",
    "                # Pythonic\n",
    "                dp[i][j] = s[i] == s[j] and ( (j-i<3) or dp[i+1][j-1] )\n",
    "                '''\n",
    "                res += dp[i][j]\n",
    "        return res"
   ]
  },
  {
   "cell_type": "markdown",
   "metadata": {},
   "source": [
    "### Solution 2: Expand around Center\n",
    "\n",
    "odd: i is the center of the Palindrome\n",
    "\n",
    "even: i and i+1 is the center of the Palindrome\n",
    "\n",
    "Time Complexity: $O(n)$, 81.41%"
   ]
  },
  {
   "cell_type": "code",
   "execution_count": null,
   "metadata": {},
   "outputs": [],
   "source": [
    "class Solution:\n",
    "    def countSubstrings(self, s: str) -> int:\n",
    "        n = len(s)\n",
    "        def isPalin(index, even):\n",
    "            i = index\n",
    "            j = i + even\n",
    "            res = 0\n",
    "            while i >= 0 and j < n and s[i] == s[j]:\n",
    "                res += 1\n",
    "                i -= 1\n",
    "                j += 1\n",
    "            return res\n",
    "        evenCount = sum(isPalin(i, True) for i in range (n))\n",
    "        oddCount = sum(isPalin(i, False) for i in range (n))\n",
    "        return evenCount + oddCount"
   ]
  },
  {
   "cell_type": "markdown",
   "metadata": {},
   "source": [
    "### Solution 3: 1-D DP\n",
    "\n",
    "Manacher's Algorithm\n",
    "\n",
    "1. By inserting '#' between every chars, the length of the string could always be an odd\n",
    "\n",
    "2. \n"
   ]
  },
  {
   "cell_type": "code",
   "execution_count": 18,
   "metadata": {},
   "outputs": [],
   "source": [
    "class Solution:\n",
    "    def countSubstrings(self, s: str) -> int:\n",
    "        s = '^#' + '#'.join(s) + '#$'\n",
    "        dp = [0] * len(s)\n",
    "        center, right = 0, 0\n",
    "        \n",
    "        for i in range(1, len(s) - 1):\n",
    "            if i < right:\n",
    "                dp[i] = min(right - i, dp[2 * center - i]) # after the current palindrome\n",
    "            while s[i + dp[i] + 1] == s[i - dp[i] - 1]: # extend longer\n",
    "                dp[i] += 1\n",
    "            if i + dp[i] > right: \n",
    "                center, right = i, i + dp[i]\n",
    "        return sum((n + 1) // 2 for n in dp) # for longest Palin: max(dp)"
   ]
  },
  {
   "cell_type": "code",
   "execution_count": 19,
   "metadata": {
    "tags": []
   },
   "outputs": [
    {
     "output_type": "stream",
     "name": "stdout",
     "text": "[0, 0, 1, 0, 3, 0, 1, 0, 0]\n"
    },
    {
     "output_type": "execute_result",
     "data": {
      "text/plain": "4"
     },
     "metadata": {},
     "execution_count": 19
    }
   ],
   "source": [
    "Solution.countSubstrings(_, 'aba')"
   ]
  }
 ]
}