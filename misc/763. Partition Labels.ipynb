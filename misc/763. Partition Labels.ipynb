{
 "metadata": {
  "language_info": {
   "codemirror_mode": {
    "name": "ipython",
    "version": 3
   },
   "file_extension": ".py",
   "mimetype": "text/x-python",
   "name": "python",
   "nbconvert_exporter": "python",
   "pygments_lexer": "ipython3",
   "version": "3.8.3-final"
  },
  "orig_nbformat": 2,
  "kernelspec": {
   "name": "python3",
   "display_name": "Python 3"
  }
 },
 "nbformat": 4,
 "nbformat_minor": 2,
 "cells": [
  {
   "source": [
    "### [763\\. Partition Labels](https://leetcode.com/problems/partition-labels/)\n",
    "\n",
    "每個字母只能出現在一個子字串裡面\n",
    "\n",
    "盡量分割成越多子字串越好\n",
    "\n",
    "Solution\n",
    "\n",
    "### Brute Force\n",
    "\n",
    "遍歷矩陣, 從第一次出現此字母, 到最後一次出現此字母, 建立一個範圍\n",
    "\n",
    "如果超過此範圍就擴充它\n",
    "\n",
    "如果走道範圍底, 切割\n",
    "\n",
    "Time: $O(N^2)$\n",
    "\n",
    "### Hash Table\n",
    "\n",
    "使用 hast table 儲存每個字母出現的最後一個位置\n",
    "\n",
    "然後再遍歷矩陣, 如果最後出現的位置大於目前的範圍, 擴充\n",
    "\n",
    "如果遍歷到目前範圍的最後一個座標, 切割"
   ],
   "cell_type": "markdown",
   "metadata": {}
  },
  {
   "cell_type": "code",
   "execution_count": null,
   "metadata": {},
   "outputs": [],
   "source": [
    "class Solution:\n",
    "    def partitionLabels(self, S: str) -> List[int]:\n",
    "        last = {c: i for i, c in enumerate(S)}\n",
    "        \n",
    "        start, end = 0, 0\n",
    "        res = []\n",
    "        for i, c in enumerate(S):\n",
    "            end = max(end, last[c])\n",
    "            if i == end:\n",
    "                res.append(end - start + 1)\n",
    "                start = end+1\n",
    "        return res"
   ]
  }
 ]
}