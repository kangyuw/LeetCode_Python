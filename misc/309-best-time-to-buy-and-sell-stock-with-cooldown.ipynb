{
 "metadata": {
  "language_info": {
   "codemirror_mode": {
    "name": "ipython",
    "version": 3
   },
   "file_extension": ".py",
   "mimetype": "text/x-python",
   "name": "python",
   "nbconvert_exporter": "python",
   "pygments_lexer": "ipython3",
   "version": "3.8.3"
  },
  "orig_nbformat": 2,
  "kernelspec": {
   "name": "python383jvsc74a57bd036ed17dd1754871a4f4bf9f85d4d638e027ad495914797697575b4cc317ebfc6",
   "display_name": "Python 3.8.3 64-bit ('Effective_Python-RW5dYHNe')"
  }
 },
 "nbformat": 4,
 "nbformat_minor": 2,
 "cells": [
  {
   "cell_type": "markdown",
   "metadata": {},
   "source": [
    "### [309\\. Best Time to Buy and Sell Stock with Cooldown](https://leetcode.com/problems/best-time-to-buy-and-sell-stock-with-cooldown/)\n",
    "\n",
    "Difficulty: **Medium**  \n",
    "\n",
    "Related Topics: [Dynamic Programming](https://leetcode.com/tag/dynamic-programming/)\n",
    "\n",
    "\n",
    "Say you have an array for which the _i_<sup>th</sup> element is the price of a given stock on day _i_.\n",
    "\n",
    "Design an algorithm to find the maximum profit. You may complete as many transactions as you like (ie, buy one and sell one share of the stock multiple times) with the following restrictions:\n",
    "\n",
    "*   You may not engage in multiple transactions at the same time (ie, you must sell the stock before you buy again).\n",
    "\n",
    "必須要買了才能賣, 賣掉前不能再買一次\n",
    "\n",
    "*   After you sell your stock, you cannot buy stock on next day. (ie, cooldown 1 day)\n",
    "\n",
    "每次賣出後, 需要等一天才能買入\n",
    "\n",
    "輸出 maximum profit\n",
    "\n",
    "**Example:**\n",
    "\n",
    "\n",
    "```\n",
    "Input: [1,2,3,0,2]\n",
    "Output: 3 \n",
    "Explanation: transactions = [buy, sell, cooldown, buy, sell]\n",
    "```"
   ]
  },
  {
   "cell_type": "markdown",
   "metadata": {},
   "source": [
    "### Solution 1: \n",
    "\n",
    "一開始 state 0, 可以選擇 buy 進入 state 1, 或 idle 保持 state 0\n",
    "\n",
    "buy 了之後 state 1, 可以選擇 sell 進入 state 2, 或 idle 保持 state 1\n",
    "\n",
    "sell 了之後 state 2, 只能 idle 回到 state 0\n",
    "\n",
    "state\\[i]: 第 i 天為該 state 的最大獲益\n",
    "\n",
    "#### state change:\n",
    "\n",
    "每個 state 能產生的獲益如下:\n",
    "\n",
    "```\n",
    "s0[i] = max(s0[i-1], s2[i-1])\n",
    "\n",
    "s1[i] = max(s0[i-1] - prices[i], s1[i-1])\n",
    "\n",
    "s2[i] = s1[i-1]  + prices[i]\n",
    "\n",
    "```\n",
    "\n",
    "#### base case\n",
    "\n",
    "```\n",
    "s0[0] = 0 # 什麼都不做\n",
    "s1[0] = -prices[0] # 第 0 天就 buy 的獲益\n",
    "s2[0] = -inf # 無法第 0 天就 sell\n",
    "```\n",
    "\n",
    "#### return\n",
    "\n",
    "要能得到獲益, 最後只能是 s0\\[-1] 或 s2\\[-1]\n",
    "\n",
    "```\n",
    "return max(s0[-1], s2[-1])\n",
    "```\n",
    "\n",
    "time Complexity: $O(n)$\n",
    "\n",
    "24.07%"
   ]
  },
  {
   "cell_type": "code",
   "execution_count": 1,
   "metadata": {},
   "outputs": [
    {
     "output_type": "error",
     "ename": "NameError",
     "evalue": "name 'List' is not defined",
     "traceback": [
      "\u001b[1;31m---------------------------------------------------------------------------\u001b[0m",
      "\u001b[1;31mNameError\u001b[0m                                 Traceback (most recent call last)",
      "\u001b[1;32m<ipython-input-1-3f98610bdff5>\u001b[0m in \u001b[0;36m<module>\u001b[1;34m\u001b[0m\n\u001b[1;32m----> 1\u001b[1;33m \u001b[1;32mclass\u001b[0m \u001b[0mSolution\u001b[0m\u001b[1;33m:\u001b[0m\u001b[1;33m\u001b[0m\u001b[1;33m\u001b[0m\u001b[0m\n\u001b[0m\u001b[0;32m      2\u001b[0m     \u001b[1;32mdef\u001b[0m \u001b[0mmaxProfit\u001b[0m\u001b[1;33m(\u001b[0m\u001b[0mself\u001b[0m\u001b[1;33m,\u001b[0m \u001b[0mprices\u001b[0m\u001b[1;33m:\u001b[0m \u001b[0mList\u001b[0m\u001b[1;33m[\u001b[0m\u001b[0mint\u001b[0m\u001b[1;33m]\u001b[0m\u001b[1;33m)\u001b[0m \u001b[1;33m->\u001b[0m \u001b[0mint\u001b[0m\u001b[1;33m:\u001b[0m\u001b[1;33m\u001b[0m\u001b[1;33m\u001b[0m\u001b[0m\n\u001b[0;32m      3\u001b[0m         \u001b[0mn\u001b[0m \u001b[1;33m=\u001b[0m \u001b[0mlen\u001b[0m\u001b[1;33m(\u001b[0m\u001b[0mprices\u001b[0m\u001b[1;33m)\u001b[0m\u001b[1;33m\u001b[0m\u001b[1;33m\u001b[0m\u001b[0m\n\u001b[0;32m      4\u001b[0m         \u001b[1;32mif\u001b[0m \u001b[0mn\u001b[0m \u001b[1;33m<=\u001b[0m \u001b[1;36m1\u001b[0m\u001b[1;33m:\u001b[0m\u001b[1;33m\u001b[0m\u001b[1;33m\u001b[0m\u001b[0m\n\u001b[0;32m      5\u001b[0m             \u001b[1;32mreturn\u001b[0m \u001b[1;36m0\u001b[0m\u001b[1;33m\u001b[0m\u001b[1;33m\u001b[0m\u001b[0m\n",
      "\u001b[1;32m<ipython-input-1-3f98610bdff5>\u001b[0m in \u001b[0;36mSolution\u001b[1;34m()\u001b[0m\n\u001b[0;32m      1\u001b[0m \u001b[1;32mclass\u001b[0m \u001b[0mSolution\u001b[0m\u001b[1;33m:\u001b[0m\u001b[1;33m\u001b[0m\u001b[1;33m\u001b[0m\u001b[0m\n\u001b[1;32m----> 2\u001b[1;33m     \u001b[1;32mdef\u001b[0m \u001b[0mmaxProfit\u001b[0m\u001b[1;33m(\u001b[0m\u001b[0mself\u001b[0m\u001b[1;33m,\u001b[0m \u001b[0mprices\u001b[0m\u001b[1;33m:\u001b[0m \u001b[0mList\u001b[0m\u001b[1;33m[\u001b[0m\u001b[0mint\u001b[0m\u001b[1;33m]\u001b[0m\u001b[1;33m)\u001b[0m \u001b[1;33m->\u001b[0m \u001b[0mint\u001b[0m\u001b[1;33m:\u001b[0m\u001b[1;33m\u001b[0m\u001b[1;33m\u001b[0m\u001b[0m\n\u001b[0m\u001b[0;32m      3\u001b[0m         \u001b[0mn\u001b[0m \u001b[1;33m=\u001b[0m \u001b[0mlen\u001b[0m\u001b[1;33m(\u001b[0m\u001b[0mprices\u001b[0m\u001b[1;33m)\u001b[0m\u001b[1;33m\u001b[0m\u001b[1;33m\u001b[0m\u001b[0m\n\u001b[0;32m      4\u001b[0m         \u001b[1;32mif\u001b[0m \u001b[0mn\u001b[0m \u001b[1;33m<=\u001b[0m \u001b[1;36m1\u001b[0m\u001b[1;33m:\u001b[0m\u001b[1;33m\u001b[0m\u001b[1;33m\u001b[0m\u001b[0m\n\u001b[0;32m      5\u001b[0m             \u001b[1;32mreturn\u001b[0m \u001b[1;36m0\u001b[0m\u001b[1;33m\u001b[0m\u001b[1;33m\u001b[0m\u001b[0m\n",
      "\u001b[1;31mNameError\u001b[0m: name 'List' is not defined"
     ]
    }
   ],
   "source": [
    "class Solution:\n",
    "    def maxProfit(self, prices: List[int]) -> int:\n",
    "        n = len(prices)\n",
    "        if n <= 1:\n",
    "            return 0\n",
    "        s0 = [0] * n\n",
    "        s0[0] = 0\n",
    "        s1 = [0] * n\n",
    "        s1[0] = -prices[0]\n",
    "        s2 = [0] * n\n",
    "        s2[0] = -float(\"inf\")\n",
    "\n",
    "        for i in range(1,n):\n",
    "            s0[i] = max(s0[i-1], s2[i-1])\n",
    "            s1[i] = max(s0[i-1] - prices[i], s1[i-1])\n",
    "            s2[i] = s1[i-1]  + prices[i]\n",
    "        return max(s0[-1], s2[-1])\n"
   ]
  },
  {
   "cell_type": "markdown",
   "metadata": {},
   "source": [
    "### Solution 2:\n",
    "\n",
    "實際上並不需要那麼多空間來儲存暫時的狀態\n",
    "\n",
    "使用三個變數, free (s0), have (s1), cool (s2) 即可"
   ]
  },
  {
   "cell_type": "code",
   "execution_count": null,
   "metadata": {},
   "outputs": [],
   "source": [
    "class Solution:\n",
    "    def maxProfit(self, prices: List[int]) -> int:\n",
    "        n = len(prices)\n",
    "        free = 0\n",
    "        have = cool = -float('inf')\n",
    "        for p in prices:\n",
    "            free, have, cool = \\\n",
    "            max(free, cool), \\\n",
    "            max(free - p, have), \\\n",
    "            have + p\n",
    "        return max(free, cool)"
   ]
  }
 ]
}