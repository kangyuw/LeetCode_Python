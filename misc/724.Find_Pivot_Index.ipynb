{
 "cells": [
  {
   "cell_type": "markdown",
   "metadata": {},
   "source": [
    "# [724\\. Find Pivot Index](https://leetcode.com/problems/find-pivot-index/)\n",
    "\n",
    "Difficulty: **Easy**\n",
    "\n",
    "由數字組成的 array,  回傳他的 Pivot (此 index 左邊數字的總和 = 右邊數字的總和), 自己不算\n",
    "\n",
    "沒有這種點 就回傳 -1, 如果有多個這種點 回傳最左邊的 (索引最小的)\n",
    "\n",
    "## 思路 1:\n",
    "\n",
    "一個一個點嘗試 做到找到為止\n",
    "\n",
    "如果左邊加起來已經大於右邊加起來就不用做了\n",
    "\n",
    "$O(N^2)$\n",
    "\n",
    "## 思路2: \n",
    "\n",
    "*沒考慮負數跟零*\n",
    "\n",
    "累加 得到新的 List: sums\n",
    "\n",
    "找到 `sums[idx]` 為大於 `sums[-1] / 2` 的第一個點\n",
    "\n",
    "比較: `sums[idx -1]` 以及 `sums[-1] - sums[idx]`\n",
    "\n",
    "相等回傳 idx 否則 -1\n",
    "\n",
    "$O(2N)$\n",
    "\n",
    "## 思路3: \n",
    "\n",
    "累加 得到新的 List: sums\n",
    "\n",
    "對每個點 比較 `sums[idx - 1]` 跟 `sums[-1] - sums[idx]` 是否一樣\n",
    "\n",
    "Pivot 不能是第一個點 也不會是最後一點\n",
    "\n",
    "$O(2N)$"
   ]
  },
  {
   "cell_type": "code",
   "execution_count": null,
   "metadata": {},
   "outputs": [],
   "source": [
    "def pivotIndex_Fail(nums):\n",
    "   # 沒考慮到負數及零\n",
    "    \"\"\"\n",
    "    :type nums: List[int]\n",
    "    :rtype: int\n",
    "    \"\"\"\n",
    "    if not nums: return -1\n",
    "    idx_max = range(len(nums))\n",
    "    sums = [None] * len(nums)\n",
    "    for idx in idx_max:\n",
    "        sums[idx] = sum(nums[:idx + 1])\n",
    "    print(sums)\n",
    "    if sums[idx] > 0:\n",
    "        for idx in idx_max:\n",
    "            if sums[idx] > sums[-1] / 2:\n",
    "                if sums[-1] and sums[idx - 1] == sums[-1] - sums[idx]:\n",
    "                    return idx\n",
    "    \n",
    "            else: return -1"
   ]
  },
  {
   "cell_type": "code",
   "execution_count": null,
   "metadata": {},
   "outputs": [],
   "source": [
    "# 176 ms, 15 MB\n",
    "def pivotIndex(nums):\n",
    "    \"\"\"\n",
    "    :type nums: List[int]\n",
    "    :rtype: int\n",
    "    \"\"\"\n",
    "    if not nums: return -1\n",
    "    idx_max = len(nums)\n",
    "    sums = [None] * idx_max\n",
    "    \n",
    "    sum_temp = 0\n",
    "    for idx in range(idx_max):\n",
    "        sum_temp += nums[idx]\n",
    "        sums[idx] = sum_temp\n",
    "\n",
    "    for idx in range(0, idx_max):\n",
    "        if idx == 0 or idx == idx_max: # 邊界條件\n",
    "            if sums[-1] - sums[idx] == 0: return idx\n",
    "        if sums[idx-1] == sums[-1] - sums[idx]: return idx\n",
    "    return -1"
   ]
  },
  {
   "cell_type": "code",
   "execution_count": null,
   "metadata": {},
   "outputs": [],
   "source": [
    "print(pivotIndex([4,9,3,5,7,1,6,2]))\n",
    "print(pivotIndex([-1,-1,-1,-1,-1,0]))\n",
    "print(pivotIndex([-1,-1,-1,0,1,1]))"
   ]
  },
  {
   "cell_type": "code",
   "execution_count": null,
   "metadata": {},
   "outputs": [],
   "source": [
    "# 160 ms\n",
    "class Solution:\n",
    "    def pivotIndex(self, nums: List[int]) -> int:\n",
    "        left = 0\n",
    "        right = sum(nums)\n",
    "        for i, num in enumerate(nums): ## 活用 enumerate\n",
    "            right -= num\n",
    "            if left == right:\n",
    "                return i\n",
    "            left += num # 不須要將 sums 先 \n",
    "        return -1"
   ]
  }
 ],
 "metadata": {
  "language_info": {
   "codemirror_mode": {
    "name": "ipython",
    "version": 3
   },
   "file_extension": ".py",
   "mimetype": "text/x-python",
   "name": "python",
   "nbconvert_exporter": "python",
   "pygments_lexer": "ipython3",
   "version": 3
  },
  "orig_nbformat": 2
 },
 "nbformat": 4,
 "nbformat_minor": 2
}