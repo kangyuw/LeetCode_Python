{
 "metadata": {
  "language_info": {
   "codemirror_mode": {
    "name": "ipython",
    "version": 3
   },
   "file_extension": ".py",
   "mimetype": "text/x-python",
   "name": "python",
   "nbconvert_exporter": "python",
   "pygments_lexer": "ipython3",
   "version": 3
  },
  "orig_nbformat": 2
 },
 "nbformat": 4,
 "nbformat_minor": 2,
 "cells": [
  {
   "cell_type": "markdown",
   "metadata": {},
   "source": [
    "# What is Trie\n",
    "[Tushar's Video](https://youtu.be/AXjmTQ8LEoI)\n",
    "\n",
    "專門用來儲存 word 的樹\n",
    "\n",
    "每個節點除了字母本身之外, 還有一個紀錄 endOfWrod 的欄位\n",
    "\n",
    "當此欄位為 True, 代表上一個節點之前是一個 word\n",
    "\n",
    "defaultdict: 在引用不存在的項目時, 直接新增此項目"
   ]
  },
  {
   "cell_type": "code",
   "execution_count": null,
   "metadata": {},
   "outputs": [],
   "source": [
    "class TrieNode:\n",
    "    def  __init__(self):\n",
    "        self.child = collections.defaultdict(TrieNode)\n",
    "        self.endOfWord =False\n",
    "\n",
    "class Trie:\n",
    "\n",
    "    def __init__(self):\n",
    "        \"\"\"\n",
    "        Initialize your data structure here.\n",
    "        \"\"\"\n",
    "        self.root = TrieNode()\n",
    "        \n",
    "        \n",
    "\n",
    "    def insert(self, word):\n",
    "        current = self.root\n",
    "        for char in word:\n",
    "            current = current.child[char] # defaultdic 直接新增此項目\n",
    "        current.endOfWord = True\n",
    "        \n",
    "\n",
    "    def search(self, word):\n",
    "        current = self.root\n",
    "        for char in word:\n",
    "            current = current.child.get(char)\n",
    "            if not current:\n",
    "                return False\n",
    "        return current.endOfWord\n",
    "        \n",
    "\n",
    "    def startsWith(self, word):\n",
    "        current = self.root\n",
    "        for char in word:\n",
    "            current = current.child.get(char)\n",
    "            if not current:\n",
    "                return False\n",
    "        return True"
   ]
  }
 ]
}