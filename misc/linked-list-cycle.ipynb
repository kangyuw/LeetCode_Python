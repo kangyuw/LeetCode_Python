{
 "cells": [
  {
   "cell_type": "markdown",
   "metadata": {},
   "source": [
    "### [141\\. Linked List Cycle](https://leetcode.com/problems/linked-list-cycle/)\n",
    "\n",
    "Difficulty: **Easy**\n",
    "\n",
    "\n",
    "Given a linked list, determine if it has a cycle in it.\n",
    "\n",
    "To represent a cycle in the given linked list, we use an integer `pos` which represents the position (0-indexed) in the linked list where tail connects to. If `pos` is `-1`, then there is no cycle in the linked list.\n",
    "\n",
    "\n",
    "**Example 1:**\n",
    "\n",
    "```\n",
    "Input: head = [3,2,0,-4], pos = 1\n",
    "Output: true\n",
    "Explanation: There is a cycle in the linked list, where tail connects to the second node.\n",
    "```\n",
    "\n",
    "\n",
    "![](https://assets.leetcode.com/uploads/2018/12/07/circularlinkedlist.png)\n",
    "\n",
    "**Example 2:**\n",
    "\n",
    "```\n",
    "Input: head = [1,2], pos = 0\n",
    "Output: true\n",
    "Explanation: There is a cycle in the linked list, where tail connects to the first node.\n",
    "```\n",
    "\n",
    "\n",
    "![](https://assets.leetcode.com/uploads/2018/12/07/circularlinkedlist_test2.png)\n",
    "\n",
    "**Example 3:**\n",
    "\n",
    "```\n",
    "Input: head = [1], pos = -1\n",
    "Output: false\n",
    "Explanation: There is no cycle in the linked list.\n",
    "```\n",
    "\n",
    "\n",
    "![](https://assets.leetcode.com/uploads/2018/12/07/circularlinkedlist_test3.png)\n",
    "\n",
    "**Follow up:**\n",
    "\n",
    "Can you solve it using _O(1)_ (i.e. constant) memory?"
   ]
  },
  {
   "cell_type": "code",
   "execution_count": null,
   "metadata": {},
   "outputs": [],
   "source": [
    "### Set Solution\n",
    "class Solution:\n",
    "    def hasCycle(self, head: ListNode) -> bool:\n",
    "        lookup = set()\n",
    "        ptr = head\n",
    "        while ptr:\n",
    "            if ptr in lookup:\n",
    "                return True\n",
    "            lookup.add(ptr)\n",
    "            ptr = ptr.next\n",
    "        return False"
   ]
  },
  {
   "cell_type": "code",
   "execution_count": null,
   "metadata": {},
   "outputs": [],
   "source": [
    "### Dict Solution\n",
    "class Solution:\n",
    "    def hasCycle(self, head: ListNode) -> bool:\n",
    "        mem = {}\n",
    "        current = head\n",
    "        \n",
    "        while(current and current.next):\n",
    "            if(mem.get(current)):\n",
    "                return True\n",
    "            else:\n",
    "                mem[current] = 1\n",
    "            current = current.next\n",
    "            \n",
    "        return False"
   ]
  }
 ],
 "metadata": {
  "language_info": {
   "codemirror_mode": {
    "name": "ipython",
    "version": 3
   },
   "file_extension": ".py",
   "mimetype": "text/x-python",
   "name": "python",
   "nbconvert_exporter": "python",
   "pygments_lexer": "ipython3",
   "version": 3
  },
  "orig_nbformat": 2
 },
 "nbformat": 4,
 "nbformat_minor": 2
}