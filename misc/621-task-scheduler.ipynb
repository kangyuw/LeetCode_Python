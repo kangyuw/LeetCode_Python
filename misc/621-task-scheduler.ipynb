{
 "metadata": {
  "language_info": {
   "codemirror_mode": {
    "name": "ipython",
    "version": 3
   },
   "file_extension": ".py",
   "mimetype": "text/x-python",
   "name": "python",
   "nbconvert_exporter": "python",
   "pygments_lexer": "ipython3",
   "version": "3.8.3-final"
  },
  "orig_nbformat": 2,
  "kernelspec": {
   "name": "python_defaultSpec_1597892480661",
   "display_name": "Python 3.8.3 64-bit"
  }
 },
 "nbformat": 4,
 "nbformat_minor": 2,
 "cells": [
  {
   "cell_type": "markdown",
   "metadata": {},
   "source": [
    "### [621\\. Task Scheduler](https://leetcode.com/problems/task-scheduler/)\n",
    "\n",
    "Difficulty: **Medium**  \n",
    "\n",
    "Related Topics: [Array](https://leetcode.com/tag/array/), [Greedy](https://leetcode.com/tag/greedy/), [Queue](https://leetcode.com/tag/queue/)\n",
    "\n",
    "\n",
    "You are given a char array representing tasks CPU need to do. It contains capital letters A to Z where each letter represents a different task. Tasks could be done without the original order of the array. Each task is done in one unit of time. For each unit of time, the CPU could complete either one task or just be idle.\n",
    "\n",
    "However, there is a non-negative integer `n` that represents the cooldown period between two **same tasks** (the same letter in the array), that is that there must be at least `n` units of time between any two same tasks.\n",
    "\n",
    "You need to return the **least** number of units of times that the CPU will take to finish all the given tasks.\n",
    "\n",
    "要處理同樣的字母, 必須要等 n 個 CD 時間\n",
    "\n",
    "回傳最短的處理時間\n",
    "\n",
    "**Example 1:**\n",
    "\n",
    "```\n",
    "Input: tasks = [\"A\",\"A\",\"A\",\"B\",\"B\",\"B\"], n = 2\n",
    "Output: 8\n",
    "Explanation: \n",
    "A -> B -> idle -> A -> B -> idle -> A -> B\n",
    "There is at least 2 units of time between any two same tasks.\n",
    "```\n",
    "\n",
    "**Example 2:**\n",
    "\n",
    "```\n",
    "Input: tasks = [\"A\",\"A\",\"A\",\"B\",\"B\",\"B\"], n = 0\n",
    "Output: 6\n",
    "Explanation: On this case any permutation of size 6 would work since n = 0.\n",
    "[\"A\",\"A\",\"A\",\"B\",\"B\",\"B\"]\n",
    "[\"A\",\"B\",\"A\",\"B\",\"A\",\"B\"]\n",
    "[\"B\",\"B\",\"B\",\"A\",\"A\",\"A\"]\n",
    "...\n",
    "And so on.\n",
    "```\n",
    "\n",
    "**Example 3:**\n",
    "\n",
    "```\n",
    "Input: tasks = [\"A\",\"A\",\"A\",\"A\",\"A\",\"A\",\"B\",\"C\",\"D\",\"E\",\"F\",\"G\"], n = 2\n",
    "Output: 16\n",
    "Explanation: \n",
    "One possible solution is\n",
    "A -> B -> C -> A -> D -> E -> A -> F -> G -> A -> idle -> idle -> A -> idle -> idle -> A\n",
    "```\n",
    "\n",
    "**Constraints:**\n",
    "\n",
    "*   The number of tasks is in the range `[1, 10000]`.\n",
    "*   The integer `n` is in the range `[0, 100]`."
   ]
  },
  {
   "cell_type": "markdown",
   "metadata": {},
   "source": [
    "### Solution 1:\n",
    "\n",
    "從重複最多次的字母開始處理, 這樣就可以確定其他字母的間隔是正確的\n",
    "\n",
    "將重複最多次的字母與間隔先安排好 ```(most_freq - 1) * (n + 1) + n_most_freq_elements```\n",
    "\n",
    "most_freq: 最大的出現次數\n",
    "\n",
    "n_most_freq_elements: 出現最多次的字母的個數\n",
    "\n",
    "(most_freq - 1): 最後一組接在尾端\n",
    "\n",
    "(n+1): 一個字母與 idles 組合\n",
    "\n",
    "如果 idles 的數量不夠, 此計算會比 len(tasks) 還要少, 這時候代表最佳安排不會有 idles\n",
    "\n",
    "所以最佳安排即是 tasks 的長度\n"
   ]
  },
  {
   "cell_type": "code",
   "execution_count": null,
   "metadata": {},
   "outputs": [],
   "source": [
    "class Solution:\n",
    "    def leastInterval(self, tasks: List[str], n: int) -> int:\n",
    "        count = Counter(tasks)\n",
    "        _, most_freq = count.most_common(1)[0]\n",
    "        n_most_freq_elements = 0\n",
    "        for e, freq in count.most_common:\n",
    "            if freq == most_freq:\n",
    "                n_most_freq_elements += 1\n",
    "            else:\n",
    "                break\n",
    "        \n",
    "        return max(len(tasks), (most_freq - 1) * (n + 1) + n_most_freq_elements)"
   ]
  },
  {
   "cell_type": "markdown",
   "metadata": {},
   "source": [
    "### Solution 2:\n",
    "\n",
    "所有的安排, 都是字母 + idles 的組合\n",
    "\n",
    "empty spaces: 沒有被出現最多次的字母們占走空格\n",
    "\n",
    "available_tasks: 除了出現最多次字母們以外的字母\n",
    "\n",
    "兩者相減會得到剩下的 idles, 如果此值 < 0, 代表不會有 idles, 最佳長度就是 tasks 的長度"
   ]
  },
  {
   "cell_type": "code",
   "execution_count": null,
   "metadata": {},
   "outputs": [],
   "source": [
    "class Solution:\n",
    "    def leastInterval(self, tasks: List[str], n: int) -> int:\n",
    "        count = Counter(tasks)\n",
    "        most_freq_elements, most_freq = count.most_common(1)[0]\n",
    "        n_most_freq_elements = 0\n",
    "        for e, freq in count.most_common:\n",
    "            if freq == most_freq:\n",
    "                n_most_freq_elements += 1\n",
    "            else:\n",
    "                break\n",
    "        \n",
    "        empty_spaces = (n + 1 - n_most_freq_elements) * (most_freq - 1)\n",
    "        available_tasks = len(tasks) - (n_most_freq_elements * most_freq)\n",
    "        idles = max(0, empty_spaces - available_tasks)\n",
    "        return len(tasks) + idles"
   ]
  }
 ]
}