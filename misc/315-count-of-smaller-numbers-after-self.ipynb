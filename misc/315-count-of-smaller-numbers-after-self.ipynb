{
 "metadata": {
  "language_info": {
   "codemirror_mode": {
    "name": "ipython",
    "version": 3
   },
   "file_extension": ".py",
   "mimetype": "text/x-python",
   "name": "python",
   "nbconvert_exporter": "python",
   "pygments_lexer": "ipython3",
   "version": 3
  },
  "orig_nbformat": 2
 },
 "nbformat": 4,
 "nbformat_minor": 2,
 "cells": [
  {
   "source": [
    "### [315\\. Count of Smaller Numbers After Self](https://leetcode.com/problems/count-of-smaller-numbers-after-self/)\n",
    "\n",
    "Difficulty: **Hard**  \n",
    "\n",
    "Related Topics: [Binary Search](https://leetcode.com/tag/binary-search/), [Divide and Conquer](https://leetcode.com/tag/divide-and-conquer/), [Sort](https://leetcode.com/tag/sort/), [Binary Indexed Tree](https://leetcode.com/tag/binary-indexed-tree/), [Segment Tree](https://leetcode.com/tag/segment-tree/)\n",
    "\n",
    "\n",
    "You are given an integer array _nums_ and you have to return a new _counts_ array. The _counts_ array has the property where `counts[i]` is the number of smaller elements to the right of `nums[i]`.\n",
    "\n",
    "遍歷陣列, 計算右邊有幾個比自己小的元素\n",
    "\n",
    "Time: O(n log n)"
   ],
   "cell_type": "markdown",
   "metadata": {}
  },
  {
   "cell_type": "code",
   "execution_count": null,
   "metadata": {},
   "outputs": [],
   "source": [
    "# Brute Force, O(n^2)\n",
    "class Solution:\n",
    "    def countSmaller(self, nums: List[int]) -> List[int]:\n",
    "        if not nums:\n",
    "            return []\n",
    "        res = []\n",
    "        for i in range(len(nums)-1):\n",
    "            item = 0\n",
    "            for j in range(i+1,len(nums)):\n",
    "                if nums[j] < nums[i]:\n",
    "                    item += 1\n",
    "            res.append(item)\n",
    "        \n",
    "        res.append(0)\n",
    "        \n",
    "        return res"
   ]
  },
  {
   "cell_type": "code",
   "execution_count": null,
   "metadata": {},
   "outputs": [],
   "source": [
    "# Merge Sort, O(n log n)\n",
    "class Solution:\n",
    "    def countSmaller(self, nums: List[int]) -> List[int]:\n",
    "        def sort(ary):\n",
    "            half = len(ary) // 2\n",
    "            if half:\n",
    "                left, right = sort(ary[:half]), sort(ary[half:])\n",
    "                for i in reverse(range(len(ary))):\n",
    "                    if not right or left and left[-1][1] > right[-1][1]:\n",
    "                        smaller[left[-1][0]]"
   ]
  }
 ]
}