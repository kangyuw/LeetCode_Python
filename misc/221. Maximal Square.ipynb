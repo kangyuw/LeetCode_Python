{
 "metadata": {
  "language_info": {
   "codemirror_mode": {
    "name": "ipython",
    "version": 3
   },
   "file_extension": ".py",
   "mimetype": "text/x-python",
   "name": "python",
   "nbconvert_exporter": "python",
   "pygments_lexer": "ipython3",
   "version": 3
  },
  "orig_nbformat": 2
 },
 "nbformat": 4,
 "nbformat_minor": 2,
 "cells": [
  {
   "cell_type": "markdown",
   "metadata": {},
   "source": [
    "### [221\\. Maximal Square](https://leetcode.com/problems/maximal-square/)\n",
    "\n",
    "Difficulty: **Medium**  \n",
    "\n",
    "Related Topics: [Dynamic Programming](https://leetcode.com/tag/dynamic-programming/)\n",
    "\n",
    "\n",
    "Given a 2D binary matrix filled with 0's and 1's, find the largest square containing only 1's and return its area.\n",
    "\n",
    "**Example:**\n",
    "\n",
    "```\n",
    "Input: \n",
    "\n",
    "1 0 1 0 0\n",
    "1 0 1 1 1\n",
    "1 1 1 1 1\n",
    "1 0 0 1 0\n",
    "\n",
    "Output: 4\n",
    "```"
   ]
  },
  {
   "cell_type": "markdown",
   "metadata": {},
   "source": [
    "### Solution: DP\n",
    "\n",
    "dp 表示正方形右下角的最大邊長\n",
    "\n",
    "遍歷矩陣, 如果是 0 沒事; 如果是 1, 比較左, 左上, 上之中最小的邊長 + 1\n",
    "\n",
    "1. base case: 本來就是 0: return 0\n",
    "\n",
    "2. ```dp[i][j] = min(dp[i-1][j], dp[i][j-1], dp[i][j]) + 1```\n",
    "\n",
    "bondary check: ```0 <= i < len(matrix); 0 <= j <= len(matrix[0])```"
   ]
  },
  {
   "cell_type": "code",
   "execution_count": null,
   "metadata": {},
   "outputs": [],
   "source": [
    "class Solution:\n",
    "    def maximalSquare(self, matrix: List[List[str]]) -> int:\n",
    "        if not matrix:\n",
    "            return 0\n",
    "        m, n = len(matrix), len(matrix[0])\n",
    "        dp = [[0 if matrix[i][j] == '0' else 1 for j in range(n)] for i in range(m)]\n",
    "\n",
    "        for i in range(1,n):\n",
    "            for j in range(1,m):\n",
    "                if matrix[i][j] == '1':\n",
    "                    dp[i][j] = min(dp[i-1][j], dp[i][j-1], dp[i-1][j]-1) + 1\n",
    "                else:\n",
    "                    dp[i][j] = 0\n",
    "        res = max(max(row) for row in dp)\n",
    "        return res ** 2"
   ]
  }
 ]
}