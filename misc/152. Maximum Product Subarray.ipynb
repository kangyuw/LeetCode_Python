{
 "metadata": {
  "language_info": {
   "codemirror_mode": {
    "name": "ipython",
    "version": 3
   },
   "file_extension": ".py",
   "mimetype": "text/x-python",
   "name": "python",
   "nbconvert_exporter": "python",
   "pygments_lexer": "ipython3",
   "version": 3
  },
  "orig_nbformat": 2
 },
 "nbformat": 4,
 "nbformat_minor": 2,
 "cells": [
  {
   "cell_type": "markdown",
   "metadata": {},
   "source": [
    "### [152\\. Maximum Product Subarray](https://leetcode.com/problems/maximum-product-subarray/)\n",
    "\n",
    "Difficulty: **Medium**  \n",
    "\n",
    "Related Topics: [Array](https://leetcode.com/tag/array/), [Dynamic Programming](https://leetcode.com/tag/dynamic-programming/)\n",
    "\n",
    "\n",
    "Given an integer array `nums`, find the contiguous subarray within an array (containing at least one number) which has the largest product.\n",
    "\n",
    "**Example 1:**\n",
    "\n",
    "```\n",
    "Input: [2,3,-2,4]\n",
    "Output: 6\n",
    "Explanation: [2,3] has the largest product 6.\n",
    "```\n",
    "\n",
    "**Example 2:**\n",
    "\n",
    "```\n",
    "Input: [-2,0,-1]\n",
    "Output: 0\n",
    "Explanation: The result cannot be 2, because [-2,-1] is not a subarray.\n",
    "```\n"
   ]
  },
  {
   "cell_type": "markdown",
   "metadata": {},
   "source": [
    "### Solution\n",
    "\n",
    "一直相乘就對了\n",
    "\n",
    "只需要紀錄目前最大值及最小值即可\n",
    "\n",
    "而最大值最小值有可能因為乘以負數而翻桌"
   ]
  },
  {
   "cell_type": "code",
   "execution_count": null,
   "metadata": {},
   "outputs": [],
   "source": [
    "class Solution:\n",
    "    def maxProduct(self, nums: List[int]) -> int:\n",
    "        curr_max = nums[0]\n",
    "        curr_min = nums[0]\n",
    "        res = nums[0]\n",
    "        for i in range(1, len(nums)):\n",
    "            prev_max = curr_max\n",
    "            curr_max = max(curr_max * nums[i], curr_min * nums[i], nums[i])\n",
    "            curr_min = min(prev_max * nums[i], curr_min * nums[i], nums[i])\n",
    "            res = max(curr_max, res)\n",
    "        return res"
   ]
  }
 ]
}