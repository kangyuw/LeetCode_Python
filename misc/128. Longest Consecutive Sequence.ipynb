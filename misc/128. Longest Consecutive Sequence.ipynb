{
 "cells": [
  {
   "cell_type": "markdown",
   "metadata": {},
   "source": [
    "### [128\\. Longest Consecutive Sequence](https://leetcode.com/problems/longest-consecutive-sequence/)\n",
    "\n",
    "Difficulty: **Hard**\n",
    "\n",
    "\n",
    "Given an unsorted array of integers, find the length of the longest consecutive elements sequence.\n",
    "\n",
    "Your algorithm should run in O(_n_) complexity.\n",
    "\n",
    "**Example:**\n",
    "\n",
    "```\n",
    "Input: [100, 4, 200, 1, 3, 2]\n",
    "Output: 4\n",
    "Explanation: The longest consecutive elements sequence is [1, 2, 3, 4]. Therefore its length is 4.\n",
    "```"
   ]
  },
  {
   "cell_type": "markdown",
   "metadata": {},
   "source": [
    "### Solution 1:\n",
    "\n",
    "先整理, 再判斷"
   ]
  },
  {
   "cell_type": "code",
   "execution_count": 41,
   "metadata": {},
   "outputs": [],
   "source": [
    "class Solution:\n",
    "    def longestConsecutive(self, nums):\n",
    "        if len(nums) == 0:\n",
    "            return 0\n",
    "        nums = set(nums)\n",
    "        nums = list(nums)\n",
    "        nums.sort()\n",
    "        prev = nums[0]\n",
    "        curr = 1\n",
    "        res = 1\n",
    "        for num in nums[1:]:\n",
    "            if num == prev + 1:\n",
    "                curr += 1\n",
    "            else:\n",
    "                curr = 1\n",
    "            prev = num\n",
    "            res = max(curr, res)\n",
    "        return res"
   ]
  },
  {
   "cell_type": "markdown",
   "metadata": {},
   "source": [
    "### Solution 2: Set\n",
    "\n",
    "直接使用 Set 處理"
   ]
  },
  {
   "cell_type": "code",
   "execution_count": 43,
   "metadata": {},
   "outputs": [],
   "source": [
    "class Solution:\n",
    "    def longestConsecutive(self, nums):\n",
    "        lookup = set(nums)\n",
    "        res = 0\n",
    "        for num in nums:\n",
    "            if num-1 not in lookup:\n",
    "                tmp = 1\n",
    "                while num +1 in lookup:\n",
    "                    tmp += 1\n",
    "                    num += 1\n",
    "                res = max(res, tmp)\n",
    "        return res"
   ]
  },
  {
   "cell_type": "code",
   "execution_count": 44,
   "metadata": {
    "tags": []
   },
   "outputs": [
    {
     "output_type": "execute_result",
     "data": {
      "text/plain": "4"
     },
     "metadata": {},
     "execution_count": 44
    }
   ],
   "source": [
    "nums = [100,4,200,3,1,2]\n",
    "Solution.longestConsecutive(_, nums)"
   ]
  }
 ],
 "metadata": {
  "language_info": {
   "codemirror_mode": {
    "name": "ipython",
    "version": 3
   },
   "file_extension": ".py",
   "mimetype": "text/x-python",
   "name": "python",
   "nbconvert_exporter": "python",
   "pygments_lexer": "ipython3",
   "version": 3
  },
  "orig_nbformat": 2,
  "kernelspec": {
   "name": "python_defaultSpec_1594725069047",
   "display_name": "Python 3.8.3 64-bit"
  }
 },
 "nbformat": 4,
 "nbformat_minor": 2
}