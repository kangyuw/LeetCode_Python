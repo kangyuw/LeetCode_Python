{
 "metadata": {
  "language_info": {
   "codemirror_mode": {
    "name": "ipython",
    "version": 3
   },
   "file_extension": ".py",
   "mimetype": "text/x-python",
   "name": "python",
   "nbconvert_exporter": "python",
   "pygments_lexer": "ipython3",
   "version": "3.8.3-final"
  },
  "orig_nbformat": 2,
  "kernelspec": {
   "name": "python_defaultSpec_1598141811270",
   "display_name": "Python 3.8.3 64-bit"
  }
 },
 "nbformat": 4,
 "nbformat_minor": 2,
 "cells": [
  {
   "cell_type": "markdown",
   "metadata": {},
   "source": [
    "### [560\\. Subarray Sum Equals K](https://leetcode.com/problems/subarray-sum-equals-k/)\n",
    "\n",
    "Difficulty: **Medium**  \n",
    "\n",
    "Related Topics: [Array](https://leetcode.com/tag/array/), [Hash Table](https://leetcode.com/tag/hash-table/)\n",
    "\n",
    "\n",
    "Given an array of integers and an integer **k**, you need to find the total number of continuous subarrays whose sum equals to **k**.\n",
    "\n",
    "有幾個連續子數組總和可以得到 k\n",
    "\n",
    "**Example 1:**\n",
    "\n",
    "```\n",
    "Input:nums = [1,1,1], k = 2\n",
    "Output: 2\n",
    "```\n",
    "\n",
    "**Constraints:**\n",
    "\n",
    "*   The length of the array is in range [1, 20,000].\n",
    "*   The range of numbers in the array is [-1000, 1000] and the range of the integer **k** is [-1e7, 1e7]."
   ]
  },
  {
   "cell_type": "markdown",
   "metadata": {},
   "source": [
    "### Solution 1: Brute Force\n",
    "\n",
    "For every pair (i,j), check the ```sum(nums[i:j+1])```\n",
    "\n",
    "time complexity: $O(n^3)$"
   ]
  },
  {
   "cell_type": "code",
   "execution_count": null,
   "metadata": {},
   "outputs": [],
   "source": [
    "class Solution:\n",
    "    def subarraySum(self, nums: List[int], k: int) -> int:\n",
    "        "
   ]
  },
  {
   "cell_type": "markdown",
   "metadata": {},
   "source": [
    "### Solution 2: Prefix Sum\n",
    "\n",
    "紀錄到 i 之前的總和 prefix sum = ```sum(nums[:i])```\n",
    "\n",
    "這樣一來, ```sum(nums[i:j+1]) = prefixSum[:j+1] - prefixSum[:i]```\n",
    "\n",
    "time complexity: $O(n^2)$"
   ]
  },
  {
   "cell_type": "code",
   "execution_count": null,
   "metadata": {},
   "outputs": [],
   "source": [
    "class Solution:\n",
    "    def subarraySum(self, nums: List[int], k: int) -> int:\n",
    "        "
   ]
  },
  {
   "cell_type": "markdown",
   "metadata": {},
   "source": [
    "### Solution 3: Hash Table\n",
    "\n",
    "hash table 紀錄每個 prefix 的出現頻率\n",
    "\n",
    "```sum = sum(nums[:+1])```\n",
    "\n",
    "從 hash table 中找到有多少個 j 會讓 ```sum(nums[:i+1]) = sum - k```\n",
    "\n",
    "變換項次得到 ```sum(nums[i+1:j+1]) = k``` 有多少個子陣列的總和會得到目標 k\n",
    "\n",
    "Base Case: 當 i = 0, ```prefix[0] = 1```\n",
    "\n",
    "time complexity: $O(n)$"
   ]
  },
  {
   "cell_type": "code",
   "execution_count": null,
   "metadata": {},
   "outputs": [],
   "source": [
    "class Solution:\n",
    "    def subarraySum(self, nums: List[int], k: int) -> int:\n",
    "        n = len(nums)\n",
    "        currSum = 0\n",
    "        prefix = {0:1}\n",
    "        ans = 0\n",
    "        for i in range(n):\n",
    "            currSum += nums[i]\n",
    "            if currSum - k in prefix:\n",
    "                ans += prefix[currSum - k]\n",
    "            if currSum in prefix:\n",
    "                prefix[currSum] += 1\n",
    "            else:\n",
    "                prefix[currSum] = 1\n",
    "        return ans"
   ]
  }
 ]
}