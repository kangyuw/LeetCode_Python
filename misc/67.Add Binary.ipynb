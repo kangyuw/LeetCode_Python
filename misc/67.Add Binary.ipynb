{
 "cells": [
  {
   "cell_type": "markdown",
   "metadata": {},
   "source": [
    "### [67\\. Add Binary](https://leetcode.com/problems/add-binary/)\n",
    "\n",
    "Difficulty: **Easy**\n",
    "\n",
    "\n",
    "Given two binary strings, return their sum (also a binary string).\n",
    "\n",
    "The input strings are both **non-empty** and contains only characters `1` or `0`.\n",
    "\n",
    "**Example 1:**\n",
    "\n",
    "```\n",
    "Input: a = \"11\", b = \"1\"\n",
    "Output: \"100\"\n",
    "```\n",
    "\n",
    "**Example 2:**\n",
    "\n",
    "```\n",
    "Input: a = \"1010\", b = \"1011\"\n",
    "Output: \"10101\"\n",
    "```\n",
    "\n",
    "**Constraints:**\n",
    "\n",
    "*   Each string consists only of `'0'` or `'1'` characters.\n",
    "*   `1 <= a.length, b.length <= 10^4`\n",
    "*   Each string is either `\"0\"` or doesn't contain any leading zero."
   ]
  },
  {
   "cell_type": "markdown",
   "metadata": {},
   "source": [
    "# [Add Binary](https://leetcode.com/explore/learn/card/array-and-string/203/introduction-to-string/1160/)\n",
    "\n",
    "沒意思的作法:\n",
    "\n",
    "轉成二進位加起來在變回string\n",
    "\n",
    "\n",
    "有意思的作法:\n",
    "\n",
    "實現全加法器\n",
    "\n",
    "需要 Carrier"
   ]
  },
  {
   "cell_type": "code",
   "execution_count": null,
   "metadata": {},
   "outputs": [],
   "source": [
    "# iteratively\n",
    "## 20 ms, 11.8 MB\n",
    "def addBinary(a,b):\n",
    "    carrier = 0\n",
    "    res = ''\n",
    "    diff = abs(len(a) - len(b))\n",
    "    if len(a) > len(b):\n",
    "        b = '0' * diff + b\n",
    "    elif len(b) > len(a):\n",
    "        a = '0' * diff + a\n",
    "    while len(a) != 0 or len(b) != 0:\n",
    "        if a[-1] == '1' and b[-1] == '1':\n",
    "            if carrier == 0:\n",
    "                res = '0' + res\n",
    "                carrier = 1\n",
    "            elif carrier == 1:\n",
    "                res = '1' + res\n",
    "        elif a[-1] == '1' or b[-1] == '1':\n",
    "            if carrier == 0:\n",
    "                res = '1' + res\n",
    "            elif carrier == 1:\n",
    "                res = '0' + res\n",
    "                carrier = 1\n",
    "        else:\n",
    "            if carrier == 0:\n",
    "                res = '0' + res\n",
    "            elif carrier == 1:\n",
    "                res = '1' + res\n",
    "                carrier = 0\n",
    "        a = a[:-1]\n",
    "        b = b[:-1]\n",
    "    if carrier == 1: res = '1' + res\n",
    "    return res"
   ]
  },
  {
   "cell_type": "code",
   "execution_count": null,
   "metadata": {},
   "outputs": [],
   "source": [
    "# recursively\n",
    "def addBinary(a, b):\n",
    "    print(a, b)\n",
    "    if len(a)==0: return b\n",
    "    if len(b)==0: return a\n",
    "    if a[-1] == '1' and b[-1] == '1':\n",
    "        return addBinary(addBinary(a[0:-1],b[0:-1]),'1')+'0' # 之後再把 carrier 加上去\n",
    "    if a[-1] == '0' and b[-1] == '0':\n",
    "        return addBinary(a[0:-1],b[0:-1])+'0'\n",
    "    else:\n",
    "        return addBinary(a[0:-1],b[0:-1])+'1'"
   ]
  }
 ],
 "metadata": {
  "language_info": {
   "codemirror_mode": {
    "name": "ipython",
    "version": 3
   },
   "file_extension": ".py",
   "mimetype": "text/x-python",
   "name": "python",
   "nbconvert_exporter": "python",
   "pygments_lexer": "ipython3",
   "version": 3
  },
  "orig_nbformat": 2
 },
 "nbformat": 4,
 "nbformat_minor": 2
}