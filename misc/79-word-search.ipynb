{
 "cells": [
  {
   "cell_type": "markdown",
   "metadata": {},
   "source": [
    "### [79\\. Word Search](https://leetcode.com/problems/word-search/)\n",
    "\n",
    "Difficulty: **Medium**\n",
    "\n",
    "\n",
    "Given a 2D board and a word, find if the word exists in the grid.\n",
    "\n",
    "The word can be constructed from letters of sequentially adjacent cell, where \"adjacent\" cells are those horizontally or vertically neighboring. The same letter cell may not be used more than once.\n",
    "\n",
    "**Example:**\n",
    "\n",
    "```\n",
    "board =\n",
    "[\n",
    "  ['A','B','C','E'],\n",
    "  ['S','F','C','S'],\n",
    "  ['A','D','E','E']\n",
    "]\n",
    "\n",
    "Given word = \"ABCCED\", return true.\n",
    "Given word = \"SEE\", return true.\n",
    "Given word = \"ABCB\", return false.\n",
    "```\n",
    "\n",
    "**Constraints:**\n",
    "\n",
    "*   `board` and `word` consists only of lowercase and uppercase English letters.\n",
    "*   `1 <= board.length <= 200`\n",
    "*   `1 <= board[i].length <= 200`\n",
    "*   `1 <= word.length <= 10^3`"
   ]
  },
  {
   "cell_type": "markdown",
   "metadata": {},
   "source": [
    "在矩陣中尋找連續相鄰的字串\n",
    "\n",
    "相鄰: 上下左右\n",
    "\n",
    "## Solution 1: DFS\n",
    "\n",
    "53.48%\n",
    "\n",
    "遍歷字串找開頭, 找到後找相鄰的, 必須要有遍歷過的紀錄\n",
    "\n",
    "Complexity: $O(m^2n^2)$\n",
    "\n",
    "類似走迷宮\n",
    "\n",
    "只要 true 的上下左右還有 true 就可以\n",
    "\n",
    "最終目標是找到與 word 一樣長的 true"
   ]
  },
  {
   "cell_type": "code",
   "execution_count": 41,
   "metadata": {},
   "outputs": [],
   "source": [
    "class Solution:\n",
    "    \n",
    "    def exist(self, board, word):\n",
    "        \n",
    "        def dfs(board, i, j, word):\n",
    "            if len(word) == 0:\n",
    "                return True\n",
    "            if i < 0 or i >= len(board) or \\\n",
    "            j < 0 or j >= len(board[0]) or \\\n",
    "            word[0] != board[i][j]:\n",
    "                return False\n",
    "            \n",
    "            tmp = board[i][j]\n",
    "            board[i][j] = '#'\n",
    "            res = dfs(board, i+1, j, word[1:]) or \\\n",
    "                dfs(board, i, j+1, word[1:]) or \\\n",
    "                dfs(board, i-1, j, word[1:]) or \\\n",
    "                dfs(board, i, j-1, word[1:])\n",
    "            board[i][j] = tmp\n",
    "            return res\n",
    "        \n",
    "        if not board:\n",
    "            return False\n",
    "        for i in range(len(board)):\n",
    "            for j in range(len(board[0])):\n",
    "                if dfs(board, i, j, word):\n",
    "                    return True\n",
    "        return False\n",
    "\n",
    "    "
   ]
  },
  {
   "cell_type": "code",
   "execution_count": 42,
   "metadata": {},
   "outputs": [],
   "source": [
    "board = [\n",
    "  ['A','B','C','E'],\n",
    "  ['S','F','C','S'],\n",
    "  ['A','D','E','E'] ]"
   ]
  },
  {
   "cell_type": "markdown",
   "metadata": {},
   "source": [
    "## Solution 2: Backtracking\n",
    "\n"
   ]
  },
  {
   "cell_type": "code",
   "execution_count": null,
   "metadata": {},
   "outputs": [],
   "source": [
    "class Solution:\n",
    "    def exist(self, board: List[List[str]], word: str) -> bool:\n",
    "        #https://leetcode.com/problems/word-search/discuss/632608/Python-DFS-solution-beats-99.11\n",
    "        \n",
    "        row = len(board)\n",
    "        column = len(board[0])\n",
    "        \n",
    "        def backtracking(board, word, i, j, c):\n",
    "            if not word: \n",
    "                return True\n",
    "            board[i][j] = '.'\n",
    "            nextc=word[0]\n",
    "            # print(board[i][j],i,j,word)\n",
    "            if i-1>=0 and board[i-1][j]==word[0]:\n",
    "                if backtracking(board, word[1:], i-1, j,nextc): return True\n",
    "            if i+1<row and board[i+1][j]==word[0]:\n",
    "                if backtracking(board, word[1:], i+1, j,nextc): return True\n",
    "            if j-1>=0 and board[i][j-1]==word[0]:\n",
    "                if backtracking(board, word[1:], i, j-1,nextc): return True\n",
    "            if j+1<column and board[i][j+1]==word[0]:\n",
    "                if backtracking(board, word[1:], i, j+1,nextc): return True\n",
    "            board[i][j] = c\n",
    "            return False\n",
    "\n",
    "        for i in range(0,row):\n",
    "            for j in range(0,column):\n",
    "                if board[i][j] == word[0]:\n",
    "                    res = backtracking(board,word[1:],i,j,word[0])\n",
    "                    if res: return res\n",
    "                        \n",
    "        return False"
   ]
  }
 ],
 "metadata": {
  "language_info": {
   "codemirror_mode": {
    "name": "ipython",
    "version": 3
   },
   "file_extension": ".py",
   "mimetype": "text/x-python",
   "name": "python",
   "nbconvert_exporter": "python",
   "pygments_lexer": "ipython3",
   "version": "3.7.4-final"
  },
  "orig_nbformat": 2,
  "kernelspec": {
   "name": "python37432bitleetcodepipenve0a86c91897b47168bafc77adf197e07",
   "display_name": "Python 3.7.4 32-bit ('LeetCode': pipenv)"
  }
 },
 "nbformat": 4,
 "nbformat_minor": 2
}