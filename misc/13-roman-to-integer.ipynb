{
 "cells": [
  {
   "cell_type": "markdown",
   "metadata": {},
   "source": [
    "# [13. Roman to Integer](https://leetcode.com/problems/roman-to-integer/)\n",
    "\n",
    "將羅馬數字轉換成 int\n",
    "\n",
    "M > D > C > L > X > V > I\n",
    "\n",
    "特例: CM: 900, CD: 400, XC: 90,  XL: 40,  IX: 9, IV: 4\n",
    "\n",
    "### 思路1: 失敗\n",
    "\n",
    "從右到左遍歷, 兩兩一對, 查表看是不是特例, 不是就直接轉換 (也是查表)\n",
    "\n",
    "失敗: 因為會切到特殊組合\n",
    "\n"
   ]
  },
  {
   "cell_type": "code",
   "execution_count": 1,
   "metadata": {},
   "outputs": [],
   "source": [
    "## 失敗\n",
    "def romanToInt_failed(s):\n",
    "        res = 0\n",
    "        while(s):\n",
    "            if len(s) == 1:\n",
    "                res += dict_norm[s]\n",
    "                s = ''\n",
    "            else:\n",
    "                s, pair = s[:-2], s[-2:]\n",
    "                print(s, pair)\n",
    "                if pair in dict_spec:\n",
    "                    res += dict_spec[pair]\n",
    "                else:\n",
    "                    res = res + dict_norm[pair[0]] + dict_norm[pair[1]]\n",
    "        return res"
   ]
  },
  {
   "cell_type": "markdown",
   "metadata": {},
   "source": [
    "\n",
    "### 思路2: 失敗\n",
    "\n",
    "先把特殊組合找出來, 移除, 接下來只要計算個別數字加起來就好\n",
    "\n",
    "每次都要遍歷 dict_spec 時間複雜度太高\n",
    "\n",
    "### 思路3: 95%\n",
    "\n",
    "從左到右, 抓一對\n",
    "\n",
    "是特殊組合, 結算後消一對\n",
    "\n",
    "不是, 結算, 消除一項"
   ]
  },
  {
   "cell_type": "code",
   "execution_count": null,
   "metadata": {},
   "outputs": [],
   "source": [
    "class Solution:\n",
    "    def romanToInt(self, s: str) -> int:\n",
    "        dict_spec = {'CM': 900, 'CD': 400,\n",
    "                     'XC': 90, 'XL': 40, 'IX': 9, 'IV': 4}\n",
    "        dict_norm = {'M': 1000, 'D': 500, 'C': 100,\n",
    "                     'L': 50, 'X': 10, 'V': 5, 'I': 1}\n",
    "        res = 0\n",
    "        while(s):\n",
    "            if len(s) == 1:\n",
    "                res += dict_norm[s]\n",
    "                return res\n",
    "            else:\n",
    "                pair = s[:2]\n",
    "                if pair in dict_spec:\n",
    "                    res += dict_spec[pair]\n",
    "                    s = s[2:]\n",
    "                else:\n",
    "                    res = res + dict_norm[pair[0]]\n",
    "                    s = s[1:]\n",
    "        return res"
   ]
  },
  {
   "cell_type": "markdown",
   "metadata": {},
   "source": [
    "### 思路4: 99%\n",
    "把所有特殊組合代換成正常的東西, 計算每個字母的數量就好"
   ]
  },
  {
   "cell_type": "code",
   "execution_count": null,
   "metadata": {},
   "outputs": [],
   "source": [
    "s = s.replace('CM', 'DCCCC').replace('CD', 'CCCC').replace('XC', 'LXXXX')\n",
    "             .replace('XL', 'XXXX').replace('IX', 'VIIII').replace('IV', 'IIII')\n",
    "        res = 0\n",
    "        for cha in s:\n",
    "            res += dict_norm[cha]\n",
    "        return res"
   ]
  }
 ],
 "metadata": {
  "language_info": {
   "codemirror_mode": {
    "name": "ipython",
    "version": 3
   },
   "file_extension": ".py",
   "mimetype": "text/x-python",
   "name": "python",
   "nbconvert_exporter": "python",
   "pygments_lexer": "ipython3",
   "version": "3.7.4-final"
  },
  "orig_nbformat": 2,
  "kernelspec": {
   "name": "python37432bitleetcodepipenve0a86c91897b47168bafc77adf197e07",
   "display_name": "Python 3.7.4 32-bit ('LeetCode': pipenv)"
  }
 },
 "nbformat": 4,
 "nbformat_minor": 2
}