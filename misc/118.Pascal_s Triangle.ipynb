{
 "cells": [
  {
   "cell_type": "markdown",
   "metadata": {},
   "source": [
    "### [118\\. Pascal's Triangle](https://leetcode.com/problems/pascals-triangle/)\n",
    "\n",
    "Difficulty: **Easy**\n",
    "\n",
    "\n",
    "Given a non-negative integer _numRows_, generate the first _numRows_ of Pascal's triangle.\n",
    "\n",
    "![](https://upload.wikimedia.org/wikipedia/commons/0/0d/PascalTriangleAnimated2.gif)  \n",
    "<small style=\"display: inline;\">In Pascal's triangle, each number is the sum of the two numbers directly above it.</small>\n",
    "\n",
    "**Example:**\n",
    "\n",
    "```\n",
    "Input: 5\n",
    "Output:\n",
    "[\n",
    "     [1],\n",
    "    [1,1],\n",
    "   [1,2,1],\n",
    "  [1,3,3,1],\n",
    " [1,4,6,4,1]\n",
    "]\n",
    "```"
   ]
  },
  {
   "cell_type": "markdown",
   "metadata": {},
   "source": [
    "# [Pascal's Triangle](https://leetcode.com/explore/learn/card/array-and-string/202/introduction-to-2d-array/1170/)\n",
    "\n",
    "思路1:\n",
    "\n",
    "舉第 X 列為例:\n",
    "\n",
    "pascal[x][0] = 1\n",
    "\n",
    "pascal[x][i] = pascal[x-1][0] + pascal[x-1][1]\n",
    "\n",
    "pascal[x][-1] = 1\n",
    "\n",
    "思路2:\n",
    "\n"
   ]
  },
  {
   "cell_type": "code",
   "execution_count": null,
   "metadata": {},
   "outputs": [],
   "source": [
    "def generate(numRows):\n",
    "    if numRows == 0: return []\n",
    "    if numRows == 1: return [[1]]\n",
    "    if numRows == 2: return [[1],[1,1]]\n",
    "    pascal = [[1], [1,1]]\n",
    "    for row in range(2, numRows):\n",
    "            level = [1]\n",
    "            for i in range(1, row):\n",
    "                level.append(pascal[row-1][i-1] + pascal[row-1][i])\n",
    "                \n",
    "            level.append(1)\n",
    "            pascal.append(level)\n",
    "    return pascal"
   ]
  }
 ],
 "metadata": {
  "language_info": {
   "codemirror_mode": {
    "name": "ipython",
    "version": 3
   },
   "file_extension": ".py",
   "mimetype": "text/x-python",
   "name": "python",
   "nbconvert_exporter": "python",
   "pygments_lexer": "ipython3",
   "version": 3
  },
  "orig_nbformat": 2
 },
 "nbformat": 4,
 "nbformat_minor": 2
}