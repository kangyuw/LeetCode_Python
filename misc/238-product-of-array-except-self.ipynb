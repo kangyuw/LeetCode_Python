{
 "metadata": {
  "language_info": {
   "codemirror_mode": {
    "name": "ipython",
    "version": 3
   },
   "file_extension": ".py",
   "mimetype": "text/x-python",
   "name": "python",
   "nbconvert_exporter": "python",
   "pygments_lexer": "ipython3",
   "version": 3
  },
  "orig_nbformat": 2
 },
 "nbformat": 4,
 "nbformat_minor": 2,
 "cells": [
  {
   "cell_type": "markdown",
   "metadata": {},
   "source": [
    "### [238\\. Product of Array Except Self](https://leetcode.com/problems/product-of-array-except-self/)\n",
    "\n",
    "Difficulty: **Medium**  \n",
    "\n",
    "Related Topics: [Array](https://leetcode.com/tag/array/)\n",
    "\n",
    "\n",
    "Given an array `nums` of _n_ integers where _n_ > 1,  return an array `output` such that `output[i]` is equal to the product of all the elements of `nums` except `nums[i]`.\n",
    "\n",
    "輸出的每項是其他數字的乘積\n",
    "\n",
    "**Example:**\n",
    "\n",
    "```\n",
    "Input:  [1,2,3,4]\n",
    "Output: [24,12,8,6]\n",
    "```\n",
    "\n",
    "**Constraint:** It's guaranteed that the product of the elements of any prefix or suffix of the array (including the whole array) fits in a 32 bit integer.\n",
    "\n",
    "**Note:** Please solve it **without division** and in O(_n_).\n",
    "\n",
    "不可以使用除法\n",
    "\n",
    "**Follow up:**  \n",
    "Could you solve it with constant space complexity? (The output array **does not** count as extra space for the purpose of space complexity analysis.)"
   ]
  },
  {
   "cell_type": "markdown",
   "metadata": {},
   "source": [
    "### Solution 1: 2 Arrays\n",
    "\n",
    "Array L with L\\[i] is the product of all numbers in the left of i\n",
    "\n",
    "Array R with R\\[i] is the product of all numbers in the right of i\n",
    "\n",
    "The result is the product of L and R\n",
    "\n",
    "Time Complexity: $O(N)$, 83.53%\n"
   ]
  },
  {
   "cell_type": "code",
   "execution_count": null,
   "metadata": {},
   "outputs": [],
   "source": [
    "class Solution:\n",
    "    def productExceptSelf(self, nums: List[int]) -> List[int]:\n",
    "        n = len(nums)\n",
    "        L = [0] * n\n",
    "        L[0] = 1\n",
    "        R = [0] * n\n",
    "        R[-1] = 1\n",
    "        for i in range(1,n):\n",
    "            L[i] = L[i-1] * nums[i-1]\n",
    "        for i in reversed(range(n-1)):\n",
    "            R[i] = R[i+1] * nums[i+1]\n",
    "        return [R[i] * L[i] for i in range(n)]"
   ]
  },
  {
   "cell_type": "markdown",
   "metadata": {},
   "source": [
    "### Solution 2: O(1) Space Complexity\n",
    "\n",
    "1. Array left where left\\[i] is the product of all the numbers to the left of i.\n",
    "\n",
    "2. using variable to replace array R"
   ]
  },
  {
   "cell_type": "code",
   "execution_count": null,
   "metadata": {},
   "outputs": [],
   "source": [
    "class Solution:\n",
    "    def productExceptSelf(self, nums: List[int]) -> List[int]:\n",
    "        n = len(nums)\n",
    "        # creating L\n",
    "        L = [0] * n\n",
    "        L[0] = 1\n",
    "        for i in range(1,n):\n",
    "            L[i] = L[i-1] * nums[i-1]\n",
    "        R = 1\n",
    "        for i in range(n-1, -1, -1):\n",
    "            L[i] *= R\n",
    "            R *= nums[i]\n",
    "        return L"
   ]
  }
 ]
}