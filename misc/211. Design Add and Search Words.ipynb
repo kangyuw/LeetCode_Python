{
 "metadata": {
  "language_info": {
   "codemirror_mode": {
    "name": "ipython",
    "version": 3
   },
   "file_extension": ".py",
   "mimetype": "text/x-python",
   "name": "python",
   "nbconvert_exporter": "python",
   "pygments_lexer": "ipython3",
   "version": 3
  },
  "orig_nbformat": 2
 },
 "nbformat": 4,
 "nbformat_minor": 2,
 "cells": [
  {
   "source": [
    "[211. Design Add and Search Words Data Structure](https://leetcode.com/problems/design-add-and-search-words-data-structure/)\n",
    "\n",
    "+ search: . 可以當作任何字元\n",
    "\n",
    "### Data Structure Trie\n",
    "\n",
    "+ prefix tree\n",
    "\n",
    "+ used for the efficient dynamic add/search operations with the strings\n",
    "\n",
    "### 如果用 hashmap 解\n",
    "\n",
    "雖然很快 $O(M \\cdot N)$, M is the length of word to find, N is the number of inseted words\n",
    "\n",
    "但是無法滿足以下功能\n",
    "\n",
    "+ 找到所有有共同 prefix 的字\n",
    "+ 根據字典順序查找\n",
    "+ Scaling: 當 hash table 太大, hash collision 增加, search 的時間複雜度接近 $O(M \\cdot N^2)$\n",
    "\n",
    "使用 Trie 不但可以排序, 時間複雜度也一直會是 $O(M \\cdot N)$"
   ],
   "cell_type": "markdown",
   "metadata": {}
  },
  {
   "cell_type": "code",
   "execution_count": null,
   "metadata": {},
   "outputs": [],
   "source": [
    "# Hash table\n",
    "from collections import defaultdict\n",
    "class WordDictionary:\n",
    "    def __init__(self):\n",
    "        self.d = defaultdict(set)\n",
    "        \n",
    "\n",
    "    def addWord(self, word: str) -> None:\n",
    "        self.d[len(word)].add(word)\n",
    "        \n",
    "\n",
    "    def search(self, word: str) -> bool:\n",
    "        m = len(word)\n",
    "        for dict_word in self.d[m]:\n",
    "            i = 0\n",
    "            while i < m and (dict_word[i] == word[i] or word[i] == '.'):\n",
    "                i += 1\n",
    "            if i == m:\n",
    "                return True\n",
    "        return False"
   ]
  },
  {
   "source": [
    "search_in_node: dfs in trie\n",
    "\n",
    "如果 word 不包含 . : 找 trie 中下一個字對應的 node\n",
    "\n",
    "如果 word 包含 . : 所有該階層的 node 都該被考慮"
   ],
   "cell_type": "markdown",
   "metadata": {}
  },
  {
   "cell_type": "code",
   "execution_count": null,
   "metadata": {},
   "outputs": [],
   "source": [
    "# Trie\n",
    "from collections import defaultdict\n",
    "class WordDictionary:\n",
    "    def __init__(self):\n",
    "        self.trie = {}\n",
    "        \n",
    "\n",
    "    def addWord(self, word: str) -> None:\n",
    "        node = self.trie\n",
    "\n",
    "        for char in word:\n",
    "            if not char in node:\n",
    "                node[char] = {}\n",
    "            node = node[char]\n",
    "        node['$'] = True # Label the end of word\n",
    "        \n",
    "\n",
    "    def search(self, word: str) -> bool:\n",
    "        def search_in_node(word, node):\n",
    "            for i, char in enumerate(word):\n",
    "                if char not in node:\n",
    "                    # check all node in this level\n",
    "                    if char == '.':\n",
    "                        for x in node:\n",
    "                            if x != '$' and search_in_node(word[i+1:], node[x]):\n",
    "                                return True\n",
    "                    # no node lead to answer\n",
    "                    return False\n",
    "                else:\n",
    "                    node = node[char]\n",
    "            return '$' in node\n",
    "        return search_in_node(word, self.trie)"
   ]
  }
 ]
}