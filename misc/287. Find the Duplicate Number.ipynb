{
 "metadata": {
  "language_info": {
   "codemirror_mode": {
    "name": "ipython",
    "version": 3
   },
   "file_extension": ".py",
   "mimetype": "text/x-python",
   "name": "python",
   "nbconvert_exporter": "python",
   "pygments_lexer": "ipython3",
   "version": 3
  },
  "orig_nbformat": 2
 },
 "nbformat": 4,
 "nbformat_minor": 2,
 "cells": [
  {
   "cell_type": "markdown",
   "metadata": {},
   "source": [
    "### [287\\. Find the Duplicate Number](https://leetcode.com/problems/find-the-duplicate-number/)\n",
    "\n",
    "Difficulty: **Medium**  \n",
    "\n",
    "Related Topics: [Array](https://leetcode.com/tag/array/), [Two Pointers](https://leetcode.com/tag/two-pointers/), [Binary Search](https://leetcode.com/tag/binary-search/)\n",
    "\n",
    "\n",
    "Given an array _nums_ containing _n_ + 1 integers where each integer is between 1 and _n_ (inclusive), prove that at least one duplicate number must exist. Assume that there is only one duplicate number, find the duplicate one.\n",
    "\n",
    "**Example 1:**\n",
    "\n",
    "```\n",
    "Input: [1,3,4,2,2]\n",
    "Output: 2\n",
    "```\n",
    "\n",
    "**Example 2:**\n",
    "\n",
    "```\n",
    "Input: [3,1,3,4,2]\n",
    "Output: 3\n",
    "```\n",
    "\n",
    "**Note:**\n",
    "\n",
    "1.  You **must not** modify the array (assume the array is read only).\n",
    "2.  You must use only constant, _O_(1) extra space.\n",
    "3.  Your runtime complexity should be less than _O_(_n_<sup>2</sup>).\n",
    "4.  There is only one duplicate number in the array, but it could be repeated more than once."
   ]
  },
  {
   "cell_type": "markdown",
   "metadata": {},
   "source": [
    "### Solution\n",
    "\n",
    "使用 sort 跟 lookup set 都無法滿足條件\n",
    "\n",
    "sort 的 time complexity: $O(nlogn)$\n",
    "\n",
    "lookup set 的 space complexity: $O(n)$\n",
    "\n"
   ]
  },
  {
   "cell_type": "code",
   "execution_count": null,
   "metadata": {},
   "outputs": [],
   "source": [
    "class Solution:\n",
    "    def findDuplicate(self, nums: List[int]) -> int:\n",
    "        nums.sort()\n",
    "        for i in range(1, len(nums)):\n",
    "            if nums[i-1] == nums[i]:\n",
    "                return nums[i]"
   ]
  },
  {
   "cell_type": "code",
   "execution_count": null,
   "metadata": {},
   "outputs": [],
   "source": [
    "class Solution:\n",
    "    def findDuplicate(self, nums: List[int]) -> int:\n",
    "        lookup = set()\n",
    "        for num in nums:\n",
    "            if num in lookup:\n",
    "                return num\n",
    "            lookup.add(num)"
   ]
  },
  {
   "cell_type": "markdown",
   "metadata": {},
   "source": [
    "### Cycle Detection\n",
    "\n",
    "[142. Linked List Cycle II](https://leetcode.com/problems/linked-list-cycle-ii/)\n",
    "\n",
    "#### Cycle 從哪裡來?\n",
    "\n",
    "遍歷的順序是跳到該數字的 index 去\n",
    "\n",
    "如果有重複的數字 就會跳到同一個 index\n",
    "\n",
    "這就會造成 cycle\n",
    "\n",
    "#### Floyed's Algorithm\n",
    "\n",
    "龜兔賽跑\n",
    "\n",
    "就會造成 cycle\n",
    "\n",
    "#### Floyed's Algorithm\n",
    "\n",
    "龜兔賽跑\n",
    "\n",
    "1. ```hare = nums[nums[hare]]``` 要比 ```tortoise = nums[tortoise]``` 還要快兩倍。所以兔子會先進迴圈中。當兔子第一次碰到烏龜(交會點), 進入下一階段。\n",
    "\n",
    "2. 兔子從交會點出發, 烏龜從起點出發, 但這次雙方的速度一樣都是```hare = nums[hare]```, 第二次碰到的點, 就是迴圈的起點, 也就是重複的數字\n"
   ]
  },
  {
   "cell_type": "code",
   "execution_count": null,
   "metadata": {},
   "outputs": [],
   "source": [
    "class Solution:\n",
    "    def findDuplicate(self, nums: List[int]) -> int:\n",
    "        tortoise = hare = nums[0]\n",
    "        while True:\n",
    "            tortoise = nums[tortoise]\n",
    "            hare = nums[nums[hare]]\n",
    "            if tortoise == hare:\n",
    "                break\n",
    "        tortoise = nums[0]\n",
    "        while tortoise != hare:\n",
    "            tortoise = nums[tortoise]\n",
    "            hare = nums[hare]\n",
    "        return hare"
   ]
  }
 ]
}