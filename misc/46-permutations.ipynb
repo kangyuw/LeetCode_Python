{
 "cells": [
  {
   "cell_type": "markdown",
   "metadata": {},
   "source": [
    "### [46\\. Permutations](https://leetcode.com/problems/permutations/)\n",
    "\n",
    "Difficulty: **Medium**\n",
    "\n",
    "\n",
    "Given a collection of **distinct** integers, return all possible permutations.\n",
    "\n",
    "**Example:**\n",
    "\n",
    "```\n",
    "Input: [1,2,3]\n",
    "Output:\n",
    "[\n",
    "  [1,2,3],\n",
    "  [1,3,2],\n",
    "  [2,1,3],\n",
    "  [2,3,1],\n",
    "  [3,1,2],\n",
    "  [3,2,1]\n",
    "]\n",
    "```"
   ]
  },
  {
   "cell_type": "markdown",
   "metadata": {},
   "source": [
    "## Solution 1: Backtracking\n",
    "\n",
    "Choice: 要不要選擇這個數字\n",
    "\n",
    "Constraints: 不能重複\n",
    "\n",
    "Goal: 組成一定長度的陣列\n",
    "\n",
    "70%"
   ]
  },
  {
   "cell_type": "code",
   "execution_count": 45,
   "metadata": {},
   "outputs": [],
   "source": [
    "class Solution:\n",
    "    def permute(self, nums):\n",
    "        res = []\n",
    "        if not nums: return res\n",
    "        \n",
    "        def backtracking(res, item, nums):\n",
    "            if len(item) == len(nums):  # Goal\n",
    "                res.append(item)\n",
    "                return\n",
    "            for i in range(len(nums)):\n",
    "                if nums[i] in item: continue  # Constrain\n",
    "                item.append(nums[i])\n",
    "                backtracking(res, item.copy(), nums)\n",
    "                item.pop()  # outside loop will remain the value of i\n",
    "                            # recursive loop can loop again\n",
    "\n",
    "        backtracking(res, [], nums)\n",
    "        return res\n",
    "                "
   ]
  },
  {
   "cell_type": "code",
   "execution_count": 47,
   "metadata": {},
   "outputs": [
    {
     "output_type": "stream",
     "name": "stdout",
     "text": "[1, 2, 4]\n[1, 2]\n[1, 2, 8]\n[1, 2]\n[1]\n[1, 4, 2]\n[1, 4]\n[1, 4, 8]\n[1, 4]\n[1]\n[1, 8, 2]\n[1, 8]\n[1, 8, 4]\n[1, 8]\n[1]\n[]\n[2, 1, 4]\n[2, 1]\n[2, 1, 8]\n[2, 1]\n[2]\n[2, 4, 1]\n[2, 4]\n[2, 4, 8]\n[2, 4]\n[2]\n[2, 8, 1]\n[2, 8]\n[2, 8, 4]\n[2, 8]\n[2]\n[]\n[4, 1, 2]\n[4, 1]\n[4, 1, 8]\n[4, 1]\n[4]\n[4, 2, 1]\n[4, 2]\n[4, 2, 8]\n[4, 2]\n[4]\n[4, 8, 1]\n[4, 8]\n[4, 8, 2]\n[4, 8]\n[4]\n[]\n[8, 1, 2]\n[8, 1]\n[8, 1, 4]\n[8, 1]\n[8]\n[8, 2, 1]\n[8, 2]\n[8, 2, 4]\n[8, 2]\n[8]\n[8, 4, 1]\n[8, 4]\n[8, 4, 2]\n[8, 4]\n[8]\n[]\n"
    },
    {
     "output_type": "execute_result",
     "data": {
      "text/plain": "[[1, 2, 4, 8],\n [1, 2, 8, 4],\n [1, 4, 2, 8],\n [1, 4, 8, 2],\n [1, 8, 2, 4],\n [1, 8, 4, 2],\n [2, 1, 4, 8],\n [2, 1, 8, 4],\n [2, 4, 1, 8],\n [2, 4, 8, 1],\n [2, 8, 1, 4],\n [2, 8, 4, 1],\n [4, 1, 2, 8],\n [4, 1, 8, 2],\n [4, 2, 1, 8],\n [4, 2, 8, 1],\n [4, 8, 1, 2],\n [4, 8, 2, 1],\n [8, 1, 2, 4],\n [8, 1, 4, 2],\n [8, 2, 1, 4],\n [8, 2, 4, 1],\n [8, 4, 1, 2],\n [8, 4, 2, 1]]"
     },
     "metadata": {},
     "execution_count": 47
    }
   ],
   "source": [
    "nums = [1,2,4,8]\n",
    "Solution.permute(_, nums)"
   ]
  }
 ],
 "metadata": {
  "language_info": {
   "codemirror_mode": {
    "name": "ipython",
    "version": 3
   },
   "file_extension": ".py",
   "mimetype": "text/x-python",
   "name": "python",
   "nbconvert_exporter": "python",
   "pygments_lexer": "ipython3",
   "version": "3.7.4-final"
  },
  "orig_nbformat": 2,
  "kernelspec": {
   "name": "python37432bitleetcodepipenve0a86c91897b47168bafc77adf197e07",
   "display_name": "Python 3.7.4 32-bit ('LeetCode': pipenv)"
  }
 },
 "nbformat": 4,
 "nbformat_minor": 2
}