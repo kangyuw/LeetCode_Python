{
 "metadata": {
  "language_info": {
   "codemirror_mode": {
    "name": "ipython",
    "version": 3
   },
   "file_extension": ".py",
   "mimetype": "text/x-python",
   "name": "python",
   "nbconvert_exporter": "python",
   "pygments_lexer": "ipython3",
   "version": 3
  },
  "orig_nbformat": 2
 },
 "nbformat": 4,
 "nbformat_minor": 2,
 "cells": [
  {
   "source": [
    "### [84\\. Largest Rectangle in Histogram](https://leetcode.com/problems/largest-rectangle-in-histogram/)\n",
    "\n",
    "Solution: 2 Stack\n",
    "\n",
    "[Video](https://youtu.be/VNbkzsnllsU)\n",
    "\n",
    "stack 儲存位置\n",
    "\n",
    "遍歷矩陣, 如果現在高度比 stack 頂還要小, 代表有個長方形完成了\n",
    "\n",
    "高度 = stack 頂的高度\n",
    "\n",
    "寬度 = 現在位置 - stack 頂 + 1\n",
    "\n",
    "遇到小於等於的高度, 將其位置推進 stack 中\n",
    "\n",
    "\n",
    "\n",
    "."
   ],
   "cell_type": "markdown",
   "metadata": {}
  },
  {
   "cell_type": "code",
   "execution_count": null,
   "metadata": {},
   "outputs": [],
   "source": [
    "class Solution:\n",
    "    def largestRectangleArea(self, heights: List[int]) -> int:\n",
    "        heights.append(0) # prevent out of range\n",
    "        stack = [-1] # store index\n",
    "        res = 0\n",
    "        for i in range(len(heights)):\n",
    "            while heights[i] < heights[stack[-1]]:\n",
    "                h = heights[stack.pop()]\n",
    "                w = i - stack[-1] -1\n",
    "                res = max(res, h * w)\n",
    "            stack.append(i)\n",
    "        heights.pop()\n",
    "        return res"
   ]
  },
  {
   "source": [
    "### [85\\. Maximal Rectangle](https://leetcode.com/problems/maximal-rectangle/)\n",
    "\n",
    "Difficulty: **Hard**\n",
    "\n",
    "Given a `rows x cols` binary `matrix` filled with `0`'s and `1`'s, find the largest rectangle containing only `1`'s and return _its area_.\n",
    "\n",
    "\n",
    "Solution: DP\n",
    "\n",
    "[中文解說](https://youtu.be/9NZuhGL0SlU)\n",
    "\n",
    "[英文解說](https://www.youtube.com/watch?v=g8bSdXCG-lA)\n",
    "\n",
    "將每一行當成底部, 並將整個圖視作 histogram, 計算最大的面積\n",
    "\n",
    "遍歷每一行的元素\n",
    "\n",
    "hist\\[j]: 儲存現在 histogram 的矩陣\n",
    "\n",
    "+ 如果是 1, hist\\[j] += 1\n",
    "\n",
    "+ 如果是 0, hist\\[j] = 0\n",
    "\n",
    "Time: O(MN), M 行, N 列\n",
    "\n"
   ],
   "cell_type": "markdown",
   "metadata": {}
  },
  {
   "cell_type": "code",
   "execution_count": null,
   "metadata": {},
   "outputs": [],
   "source": [
    "class Solution:\n",
    "    def largestHist(self, heights: List[int]) -> int:\n",
    "        heights.append(0) # prevent out of range\n",
    "        stack = [-1] # store index\n",
    "        res = 0\n",
    "        for i in range(len(heights)):\n",
    "            while heights[i] < heights[stack[-1]]:\n",
    "                h = heights[stack.pop()]\n",
    "                w = i - stack[-1] -1\n",
    "                res = max(res, h * w)\n",
    "            stack.append(i)\n",
    "        heights.pop()\n",
    "        return res\n",
    "        \n",
    "    def maximalRectangle(self, matrix: List[List[str]]) -> int:\n",
    "        if not matrix:\n",
    "            return 0\n",
    "        m, n = len(matrix), len(matrix[0])\n",
    "        hist = [0 for j in range(n)]\n",
    "        res = 0\n",
    "        for i in range(m):\n",
    "            for j in range(n):\n",
    "                if matrix[i][j] == \"1\":\n",
    "                    hist[j] += 1\n",
    "                else:\n",
    "                    hist[j] = 0\n",
    "            res = max(res, self.largestHist(hist))\n",
    "        return res"
   ]
  }
 ]
}