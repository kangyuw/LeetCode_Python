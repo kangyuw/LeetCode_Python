{
 "metadata": {
  "language_info": {
   "codemirror_mode": {
    "name": "ipython",
    "version": 3
   },
   "file_extension": ".py",
   "mimetype": "text/x-python",
   "name": "python",
   "nbconvert_exporter": "python",
   "pygments_lexer": "ipython3",
   "version": "3.8.3-final"
  },
  "orig_nbformat": 2,
  "kernelspec": {
   "name": "python_defaultSpec_1597723288909",
   "display_name": "Python 3.8.3 64-bit"
  }
 },
 "nbformat": 4,
 "nbformat_minor": 2,
 "cells": [
  {
   "cell_type": "markdown",
   "metadata": {},
   "source": [
    "### [337\\. House Robber III](https://leetcode.com/problems/house-robber-iii/)\n",
    "\n",
    "Difficulty: **Medium**  \n",
    "\n",
    "Related Topics: [Tree](https://leetcode.com/tag/tree/), [Depth-first Search](https://leetcode.com/tag/depth-first-search/)\n",
    "\n",
    "\n",
    "The thief has found himself a new place for his thievery again. There is only one entrance to this area, called the \"root.\" Besides the root, each house has one and only one parent house. After a tour, the smart thief realized that \"all houses in this place forms a binary tree\". It will automatically contact the police if two directly-linked houses were broken into on the same night.\n",
    "\n",
    "如果碰到直接相連的節點, 就會觸發警報\n",
    "\n",
    "尋找最大值\n",
    "\n",
    "Determine the maximum amount of money the thief can rob tonight without alerting the police.\n",
    "\n",
    "**Example 1:**\n",
    "\n",
    "```\n",
    "Input: [3,2,3,null,3,null,1]\n",
    "\n",
    "     3\n",
    "    / \\\n",
    "   2   3\n",
    "    \\   \\ \n",
    "     3   1\n",
    "\n",
    "Output: 7 \n",
    "Explanation: Maximum amount of money the thief can rob = 3 + 3 + 1 = 7.\n",
    "```\n",
    "\n",
    "**Example 2:**\n",
    "\n",
    "```\n",
    "Input: [3,4,5,1,3,null,1]\n",
    "\n",
    "     3\n",
    "    / \\\n",
    "   4   5\n",
    "  / \\   \\ \n",
    " 1   3   1\n",
    "\n",
    "Output: 9\n",
    "Explanation: Maximum amount of money the thief can rob = 4 + 5 = 9.\n",
    "```"
   ]
  },
  {
   "cell_type": "markdown",
   "metadata": {},
   "source": [
    "### Solution 1: Failed\n",
    "\n",
    "DFS Preorder 遍歷二元樹, 之後照著 198. House Robber 的作法\n",
    "\n",
    "Failed: 因為樹的形狀, 產生的 preorder 陣列不一定能反應層級的關係\n"
   ]
  },
  {
   "cell_type": "code",
   "execution_count": null,
   "metadata": {},
   "outputs": [],
   "source": [
    "class Solution:\n",
    "    def rob(self, root: TreeNode) -> int:\n",
    "        def preOrder(root):\n",
    "            res, stack = [], [root]\n",
    "            while stack:\n",
    "                node = stack.pop()\n",
    "                if node:\n",
    "                    stack.append(node.right)\n",
    "                    stack.append(node.left)\n",
    "                    res.append(node.val)\n",
    "            return res\n",
    "        \n",
    "        nums = preOrder(root)\n",
    "        \n",
    "        if len(nums) == 0:\n",
    "            return 0\n",
    "        elif len(nums) <= 2:\n",
    "            return max(nums)\n",
    "        elif len(nums) == 3:\n",
    "            return max(nums[0], nums[1] + nums[2])\n",
    "        \n",
    "        pre1 = pre2 = 0\n",
    "        \n",
    "        for num in nums:\n",
    "            temp = pre1\n",
    "            pre1 = max(pre2 + num, pre1)\n",
    "            pre2 = temp\n",
    "        \n",
    "        return pre1"
   ]
  },
  {
   "cell_type": "markdown",
   "metadata": {},
   "source": [
    "### [循序漸進](https://leetcode.com/problems/house-robber-iii/discuss/79330/Step-by-step-tackling-of-the-problem)\n",
    "\n",
    "#### 1. 遞迴 Subtree\n",
    "\n",
    "```rob(root)```會回傳以 root 為起點最大的結果, 而```rob(root)```又可以從```rob(root.left)```及```rob(root.right)```的結果中得到\n",
    "\n",
    "遞迴\n",
    "\n",
    "1. base case: 當 root 為空即可停止\n",
    "2. 遞迴關係: 兩種狀況, root 有被搶或沒有。如果 root 被搶了那接下來可行的點就是 4 個孫輩的 subtrees (```root.right.right, root.right.left, root.left.right, root.left.left```)。如果 root 沒有被\n",
    "搶, 接下來就是 2 個子輩的 subtrees (```root.right, root.left```)\n",
    "\n",
    "time complexity: $O(n^2)$\n",
    "\n",
    "TLE"
   ]
  },
  {
   "cell_type": "code",
   "execution_count": null,
   "metadata": {},
   "outputs": [],
   "source": [
    "class Solution:\n",
    "    def rob(self, root: TreeNode) -> int:\n",
    "        if not root:\n",
    "            return 0\n",
    "        val = 0\n",
    "        if root.left:\n",
    "            val += self.rob(root.left.left) + self.rob(root.left.right)\n",
    "        if root.right:\n",
    "            val += self.rob(root.right.left) + self.rob(root.right.right)\n",
    "        \n",
    "        return max(val + root.val, rob(root.left) + rob(root.right))"
   ]
  },
  {
   "cell_type": "markdown",
   "metadata": {},
   "source": [
    "2. 紀錄重複計算\n",
    "\n",
    "單純遞迴會有許多重複計算, 只要用記錄下來, 就能實現 DP\n",
    "\n",
    "所謂 DP 就是: optimal substructure + overlapping of subproblems\n",
    "\n",
    "time complexity: O(n)\n",
    "\n",
    "58.56% "
   ]
  },
  {
   "cell_type": "code",
   "execution_count": null,
   "metadata": {},
   "outputs": [],
   "source": [
    "class Solution:\n",
    "    def rob(self, root: TreeNode) -> int:\n",
    "        def robSub(root, lookup):\n",
    "            if not root:\n",
    "                return 0\n",
    "            if root in lookup:\n",
    "                return lookup[root]\n",
    "            val = 0\n",
    "\n",
    "            if root.left:\n",
    "                val += robSub(root.left.left, lookup) + robSub(root.left.right, lookup)\n",
    "            \n",
    "            if root.right:\n",
    "                val += robSub(root.right.left, lookup) + robSub(root.right.right, lookup)\n",
    "            \n",
    "            val = max(val + root.val, robSub(root.left) + robSub(root.right))\n",
    "\n",
    "            lookup[root] = val\n",
    "\n",
    "            return val\n",
    "\n",
    "        \n",
    "        return robSub(root, {})"
   ]
  },
  {
   "cell_type": "markdown",
   "metadata": {},
   "source": [
    "3. 退後一步\n",
    "\n",
    "為何會有重疊的 subproblem: 因為遞迴的過程中 ```rob(root)``` 的狀態沒有被記錄下來\n",
    "\n",
    "如果可以在一開始就把 root 有沒有被搶過的狀態記錄下來, 就可以避免產生重複的 subproblem\n",
    "\n",
    "只需要兩個變數: now: 如果這個 root 有被搶; later: 如果這個 root 沒有被搶"
   ]
  },
  {
   "cell_type": "code",
   "execution_count": null,
   "metadata": {},
   "outputs": [],
   "source": [
    "class Solution:\n",
    "    def rob(self, root: TreeNode) -> int:\n",
    "        \n",
    "        def robSub(root):\n",
    "            if not root:\n",
    "                return 0\n",
    "            \n",
    "            left, right = robSub(root.left), robSub(root.right)\n",
    "\n",
    "            now = root.val + left[1] + right[1]\n",
    "            later = max(left) + max(right)\n",
    "\n",
    "            return (now, later)\n",
    "        \n",
    "        return max(robSub(root))\n",
    "        "
   ]
  },
  {
   "cell_type": "code",
   "execution_count": null,
   "metadata": {},
   "outputs": [],
   "source": [
    "class Solution:\n",
    "    def rob(self, root: TreeNode) -> int:\n",
    "        def dfs(node):\n",
    "            if not node:\n",
    "                return [0, 0]\n",
    "            left, right = dfs(node.left), dfs(node.right)\n",
    "            return [max(left) + max(right), node.val + left[0] + right[0]]\n",
    "        return max(dfs(root))"
   ]
  }
 ]
}