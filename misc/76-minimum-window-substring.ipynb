{
 "metadata": {
  "language_info": {
   "codemirror_mode": {
    "name": "ipython",
    "version": 3
   },
   "file_extension": ".py",
   "mimetype": "text/x-python",
   "name": "python",
   "nbconvert_exporter": "python",
   "pygments_lexer": "ipython3",
   "version": 3
  },
  "orig_nbformat": 2
 },
 "nbformat": 4,
 "nbformat_minor": 2,
 "cells": [
  {
   "cell_type": "markdown",
   "metadata": {},
   "source": [
    "### [76\\. Minimum Window Substring](https://leetcode.com/problems/minimum-window-substring/)\n",
    "\n",
    "Difficulty: **Hard**\n",
    "\n",
    "[Video](https://youtu.be/eS6PZLjoaq8)\n",
    "\n",
    "Related Topics: [Hash Table](https://leetcode.com/tag/hash-table/), [Two Pointers](https://leetcode.com/tag/two-pointers/), [String](https://leetcode.com/tag/string/), [Sliding Window](https://leetcode.com/tag/sliding-window/)\n",
    "\n",
    "\n",
    "Given a string S and a string T, find the minimum window in S which will contain all the characters in T in complexity O(n).\n",
    "\n",
    "**Example:**\n",
    "\n",
    "```\n",
    "Input: S = \"ADOBECODEBANC\", T = \"ABC\"\n",
    "Output: \"BANC\"\n",
    "```\n",
    "\n",
    "找到 S 之中, 能包含 T 的最小子字串\n",
    "\n",
    "**Note:**\n",
    "\n",
    "*   If there is no such window in S that covers all characters in T, return the empty string `\"\"`.\n",
    "*   If there is such window, you are guaranteed that there will always be only one unique minimum window in S."
   ]
  },
  {
   "cell_type": "markdown",
   "metadata": {},
   "source": [
    "### 思路 1: Brute Force\n",
    "\n",
    "越後面的元素會有越多次重複計算\n",
    "\n",
    "time: $O(n^2)$"
   ]
  },
  {
   "cell_type": "code",
   "execution_count": null,
   "metadata": {},
   "outputs": [],
   "source": [
    "class Solution:\n",
    "    def minWindow(self, s: str, t: str) -> str:\n",
    "        for i in range(len(s), len(s) - len(t)):\n",
    "            for j in range(i + len(t) - 1, len(s) - len(t)):\n",
    "                check"
   ]
  },
  {
   "cell_type": "markdown",
   "metadata": {},
   "source": [
    "### 思路 2: 2 pointers\n",
    "\n",
    "將 right 往後移動直到滿足 t 為止\n",
    "\n",
    "滿足後, 將 left 往後移動直到不滿足 t 為止, 並記錄目前長度及內容\n",
    "\n",
    "不滿足後, 再將 right 往後移動直到滿足 t 為止\n",
    "\n",
    "一直做到 right 已經碰底, 且 left 已經在 t 的長度之前\n",
    "\n",
    "#### 判斷滿足\n",
    "\n",
    "如果要另外寫個 function 判斷滿足, 也會有許多重複計算\n",
    "\n",
    "不如直接移動 right 來判斷\n",
    "\n",
    "另外需要 counter 計算已經消耗掉的元素\n",
    "\n",
    "當 counter 為零, 代表 t 已經被包含在其中"
   ]
  },
  {
   "cell_type": "code",
   "execution_count": null,
   "metadata": {},
   "outputs": [],
   "source": [
    "class Solution:\n",
    "    def minWindow(self, s: str, t: str) -> str:\n",
    "        # 2 pointers\n",
    "        # move \"right\" until t is included, and record current length and slice\n",
    "        # move \"left\" until t is not included\n",
    "        # once t is not included, move \"right\" again\n",
    "        # repeat until \"right\" at the end and \"left\" at lenT ahead\n",
    "        \n",
    "        lenS = len(s)\n",
    "        lenT = counter = len(t)\n",
    "        lenMin = lenS + 1\n",
    "        left = right = head = 0\n",
    "        res = ''\n",
    "        \n",
    "        table = dict()\n",
    "        for cha in t:\n",
    "            if cha in table:\n",
    "                table[cha] += 1\n",
    "            else:\n",
    "                table[cha] = 1\n",
    "        \n",
    "        while right < lenS:\n",
    "            if s[right] in table:\n",
    "                if table[s[right]] > 0:\n",
    "                    counter -= 1\n",
    "                table[s[right]] -= 1    \n",
    "            right += 1\n",
    "            \n",
    "            # t is included\n",
    "            while counter == 0:\n",
    "                if right - left < lenMin:\n",
    "                    lenMin = right - left\n",
    "                    head = left\n",
    "                if s[left] in table:\n",
    "                    table[s[left]] += 1\n",
    "                    if table[s[left]] > 0:\n",
    "                        counter += 1\n",
    "                left += 1\n",
    "        if lenMin == lenS + 1: # not included\n",
    "            return ''\n",
    "        return s[head : head + lenMin]"
   ]
  }
 ]
}