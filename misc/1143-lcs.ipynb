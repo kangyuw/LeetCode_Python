{
 "cells": [
  {
   "cell_type": "markdown",
   "metadata": {},
   "source": [
    "### [1143\\. Longest Common Subsequence](https://leetcode.com/problems/longest-common-subsequence/)\n",
    "\n",
    "Difficulty: **Medium**\n",
    "\n",
    "\n",
    "Given two strings `text1` and `text2`, return the length of their longest common subsequence.\n",
    "\n",
    "A _subsequence_ of a string is a new string generated from the original string with some characters(can be none) deleted without changing the relative order of the remaining characters. (eg, \"ace\" is a subsequence of \"abcde\" while \"aec\" is not). A _common subsequence_ of two strings is a subsequence that is common to both strings.\n",
    "\n",
    "If there is no common subsequence, return 0.\n",
    "\n",
    "**Example 1:**\n",
    "\n",
    "```\n",
    "Input: text1 = \"abcde\", text2 = \"ace\" \n",
    "Output: 3  \n",
    "Explanation: The longest common subsequence is \"ace\" and its length is 3.\n",
    "```\n",
    "\n",
    "**Example 2:**\n",
    "\n",
    "```\n",
    "Input: text1 = \"abc\", text2 = \"abc\"\n",
    "Output: 3\n",
    "Explanation: The longest common subsequence is \"abc\" and its length is 3.\n",
    "```\n",
    "\n",
    "**Example 3:**\n",
    "\n",
    "```\n",
    "Input: text1 = \"abc\", text2 = \"def\"\n",
    "Output: 0\n",
    "Explanation: There is no such common subsequence, so the result is 0.\n",
    "```\n",
    "\n",
    "**Constraints:**\n",
    "\n",
    "*   `1 <= text1.length <= 1000`\n",
    "*   `1 <= text2.length <= 1000`\n",
    "*   The input strings consist of lowercase English characters only."
   ]
  },
  {
   "cell_type": "markdown",
   "metadata": {},
   "source": [
    "[參考](https://leetcode.com/problems/longest-common-subsequence/discuss/351689/JavaPython-3-Two-DP-codes-of-O(mn)-and-O(min(m-n))-spaces-w-picture-and-analysis)\n",
    "\n",
    "### 2D Matrix DP\n",
    "\n",
    "Time: O(MN)\n",
    "\n",
    "Space: O(MN)\n",
    "\n",
    "DP\\[i]\\[j]: 字串1到第i個字, 以及字串2到第j個字 兩者的LCS\n",
    "\n",
    "Initial: 第0行/列 = 0\n",
    "\n",
    "Transition:\n",
    "```\n",
    "相同: LCS[i][j] = LCS[i-1][j-1] + 1\n",
    "不相同: LCS[i][j] = max(LCS[i-1][j], LCS[i][j-1])\n",
    "```"
   ]
  },
  {
   "cell_type": "code",
   "execution_count": null,
   "metadata": {},
   "outputs": [],
   "source": [
    "class Solution:\n",
    "    def longestCommonSubsequence(self, text1: str, text2: str) -> int:\n",
    "        m, n = len(text1), len(text2)\n",
    "        # DP value Table\n",
    "        LCS = [[None] * (n+1) for i in range(m+1)]\n",
    "        \n",
    "        for i in range(m+1):\n",
    "            for j in range(n+1):\n",
    "                if i == 0 or j == 0:\n",
    "                    LCS[i][j] = 0\n",
    "                elif text1[i-1] == text2[j-1]:\n",
    "                    LCS[i][j] = LCS[i-1][j-1] + 1\n",
    "                else:\n",
    "                    LCS[i][j] = max(LCS[i-1][j], LCS[i][j-1])\n",
    "        \n",
    "        return LCS[m][n]"
   ]
  },
  {
   "cell_type": "code",
   "execution_count": null,
   "metadata": {},
   "outputs": [],
   "source": [
    "def longestCommonSubsequence(self, text1: str, text2: str) -> int:\n",
    "    dp = [[0] * (len(text2) + 1) for _ in range(len(text1) + 1)]\n",
    "    for i, c in enumerate(text1):\n",
    "        for j, d in enumerate(text2):\n",
    "            dp[i + 1][j + 1] = 1 + dp[i][j] if c == d else max(dp[i][j + 1], dp[i + 1][j])\n",
    "    return dp[-1][-1]"
   ]
  },
  {
   "cell_type": "markdown",
   "metadata": {},
   "source": [
    "### 1D DP Solution"
   ]
  },
  {
   "cell_type": "code",
   "execution_count": null,
   "metadata": {},
   "outputs": [],
   "source": [
    "def longestCommonSubsequence(self, text1: str, text2: str) -> int:\n",
    "    m, n = map(len, (text1, text2))\n",
    "    if m < n:\n",
    "        return self.longestCommonSubsequence(text2, text1)\n",
    "    dp = [0] * (n + 1)\n",
    "    for c in text1:\n",
    "        prevRow, prevRowPrevCol = 0, 0\n",
    "        for j, d in enumerate(text2):\n",
    "            prevRow, prevRowPrevCol = dp[j + 1], prevRow\n",
    "            dp[j + 1] = prevRowPrevCol + 1 if c == d else max(dp[j], prevRow)\n",
    "    return dp[-1]"
   ]
  }
 ],
 "metadata": {
  "language_info": {
   "codemirror_mode": {
    "name": "ipython",
    "version": 3
   },
   "file_extension": ".py",
   "mimetype": "text/x-python",
   "name": "python",
   "nbconvert_exporter": "python",
   "pygments_lexer": "ipython3",
   "version": 3
  },
  "orig_nbformat": 2
 },
 "nbformat": 4,
 "nbformat_minor": 2
}