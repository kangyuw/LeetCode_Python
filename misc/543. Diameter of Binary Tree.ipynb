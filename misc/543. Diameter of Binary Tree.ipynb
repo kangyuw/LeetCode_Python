{
 "metadata": {
  "language_info": {
   "codemirror_mode": {
    "name": "ipython",
    "version": 3
   },
   "file_extension": ".py",
   "mimetype": "text/x-python",
   "name": "python",
   "nbconvert_exporter": "python",
   "pygments_lexer": "ipython3",
   "version": 3
  },
  "orig_nbformat": 2
 },
 "nbformat": 4,
 "nbformat_minor": 2,
 "cells": [
  {
   "cell_type": "markdown",
   "metadata": {},
   "source": [
    "### [543\\. Diameter of Binary Tree](https://leetcode.com/problems/diameter-of-binary-tree/)\n",
    "\n",
    "Difficulty: **Easy**  \n",
    "\n",
    "Related Topics: [Tree](https://leetcode.com/tag/tree/)\n",
    "\n",
    "\n",
    "Given a binary tree, you need to compute the length of the diameter of the tree. The diameter of a binary tree is the length of the **longest** path between any two nodes in a tree. This path may or may not pass through the root.\n",
    "\n",
    "**Example:**  \n",
    "Given a binary tree  \n",
    "\n",
    "```\n",
    "          1\n",
    "         / \\\n",
    "        2   3\n",
    "       / \\     \n",
    "      4   5    \n",
    "```\n",
    "\n",
    "Return **3**, which is the length of the path [4,2,1,3] or [5,2,1,3].\n",
    "\n",
    "**Note:** The length of path between two nodes is represented by the number of edges between them."
   ]
  },
  {
   "cell_type": "markdown",
   "metadata": {},
   "source": [
    "### 思路1 DFS:\n",
    "\n",
    "對某個 node 而言, 其 diameter 就是左邊最長 + 右邊最長 + 1 (自己) 的結果"
   ]
  },
  {
   "cell_type": "code",
   "execution_count": null,
   "metadata": {},
   "outputs": [],
   "source": [
    "class Solution:\n",
    "    def diameterOfBinaryTree(self, root: TreeNode) -> int:\n",
    "        self.res = 1\n",
    "        def height(node):\n",
    "            if not node:\n",
    "                return 0\n",
    "            else:\n",
    "                l = height(node.left)\n",
    "                r = height(node.right)\n",
    "                self.res = max(self.res, l + r + 1)\n",
    "                return max(l, r) + 1\n",
    "        height(root)\n",
    "        return self.res - 1"
   ]
  }
 ]
}