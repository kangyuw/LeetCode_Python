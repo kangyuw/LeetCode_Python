{
 "cells": [
  {
   "cell_type": "markdown",
   "metadata": {},
   "source": [
    "# Topological Sort\n",
    "\n",
    "sort edges of directed acyclic graph, such that, for any edge (u, v), u comes before v"
   ]
  },
  {
   "cell_type": "code",
   "execution_count": null,
   "metadata": {},
   "outputs": [],
   "source": [
    "# topological sort by BFS\n",
    "from collections import deque\n",
    "\n",
    "# edges: an array indicate how many edge direct into the node (indegree)\n",
    "# neighbors: a Hashmap indicate the neighbors of the node\n",
    "def topological_sort_bfs(edges, neighbors):\n",
    "    queue = deque([])\n",
    "    for i in edges:\n",
    "        if edges[i] == 0:\n",
    "            queue.append(i)\n",
    "    while queue:\n",
    "        node = queue.pop()\n",
    "        for nei in neighbors[node]:\n",
    "            edges[nei] -= 1\n",
    "            if edges[nei] == 0:\n",
    "                queue.append(nei)"
   ]
  },
  {
   "cell_type": "code",
   "execution_count": null,
   "metadata": {},
   "outputs": [],
   "source": [
    "# topological sort by DFS\n",
    "def topological_sort_dfs(nodes, neighbors):\n",
    "    visited = set()\n",
    "    res = []\n",
    "    def dfs(node):\n",
    "        visited.add(node)\n",
    "        for nei in neighbors[node]:\n",
    "            dfs(node)\n",
    "        res = [node] + res\n",
    "\n",
    "    for node in nodes:\n",
    "        if node not in visited:\n",
    "            dfs(node)"
   ]
  },
  {
   "cell_type": "code",
   "execution_count": null,
   "metadata": {},
   "outputs": [],
   "source": [
    "# 207. Course Schedule\n",
    "def canFinish(self, numCourses: int, prerequisites: List[List[int]]) -> bool:\n",
    "    graph = collections.defaultdict(list)\n",
    "    edges = [0] * numCourses\n",
    "    for j, i in prerequisites:\n",
    "        graph[i].append(j)\n",
    "        edges[j] += 1\n",
    "    queue = collections.deque([i for i in range(numCourses) if edges[i] == 0])\n",
    "    visited = set()\n",
    "    while queue:\n",
    "        node = queue.pop()\n",
    "        visited.add(node)\n",
    "        for nei in graph[node]:\n",
    "            edges[nei] -= 1\n",
    "            if edges[nei] == 0:\n",
    "                if nei not in visited:\n",
    "                    queue.append(nei)\n",
    "    return len(visited) == numCourses"
   ]
  },
  {
   "cell_type": "code",
   "execution_count": null,
   "metadata": {},
   "outputs": [],
   "source": [
    "# 210. Course Schedule II\n",
    "def findOrder(self, numCourses: int, prerequisites: List[List[int]]) -> bool:\n",
    "    graph = collections.defaultdict(list)\n",
    "    edges = [0] * numCourses\n",
    "    for j, i in prerequisites:\n",
    "        graph[i].append(j)\n",
    "        edges[j] += 1\n",
    "    queue = collections.deque([i for i in range(numCourses) if edges[i] == 0])\n",
    "    visited = set()\n",
    "    res = []\n",
    "    while queue:\n",
    "        node = queue.pop()\n",
    "        visited.add(node)\n",
    "        res.append(node)\n",
    "        for nei in graph[node]:\n",
    "            edges[nei] -= 1\n",
    "            if edges[nei] == 0:\n",
    "                if nei not in visited:\n",
    "                    queue.append(nei)\n",
    "    return res if len(visited) == numCourses else []"
   ]
  },
  {
   "cell_type": "code",
   "execution_count": null,
   "metadata": {},
   "outputs": [],
   "source": [
    "class Solution:\n",
    "    def alienOrder(self, words: List[str]) -> str:\n",
    "        # build graph\n",
    "        graph = defaultdict(list)\n",
    "        in_degrees = {c: 0 for word in words for c in word}\n",
    "        for w1, w2 in zip(words, words[1:]):\n",
    "            for c1, c2 in zip(w1, w2):\n",
    "                if c1!=c2:\n",
    "                    graph[c1].append(c2)\n",
    "                    in_degrees[c2]+=1\n",
    "                    break\n",
    "            else:\n",
    "                if len(w1)>len(w2):\n",
    "                    return ''\n",
    "\n",
    "        # initialize queue (node without in edges)\n",
    "        queue = []\n",
    "        for c, count in in_degrees.items():\n",
    "            if count == 0:\n",
    "                queue.append(c)\n",
    "\n",
    "        # topological sort by BFS\n",
    "        i = 0\n",
    "        while i<len(queue):\n",
    "            node = queue[i]\n",
    "            for nei in graph[node]:\n",
    "                in_degrees[nei]-=1 # remove in edge\n",
    "                if in_degrees[nei]==0:\n",
    "                    queue.append(nei)\n",
    "            i+=1\n",
    "\n",
    "        if len(queue) == len(in_degrees):\n",
    "            return ''.join(queue)\n",
    "        else:\n",
    "            return ''"
   ]
  }
 ],
 "metadata": {
  "language_info": {
   "name": "python"
  },
  "orig_nbformat": 4
 },
 "nbformat": 4,
 "nbformat_minor": 2
}
