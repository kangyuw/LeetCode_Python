{
 "metadata": {
  "language_info": {
   "codemirror_mode": {
    "name": "ipython",
    "version": 3
   },
   "file_extension": ".py",
   "mimetype": "text/x-python",
   "name": "python",
   "nbconvert_exporter": "python",
   "pygments_lexer": "ipython3",
   "version": "3.8.3-final"
  },
  "orig_nbformat": 2,
  "kernelspec": {
   "name": "python3",
   "display_name": "Python 3"
  }
 },
 "nbformat": 4,
 "nbformat_minor": 2,
 "cells": [
  {
   "source": [
    "## [3. Longest Substring Without Repeating Characters](https://leetcode.com/problems/longest-substring-without-repeating-characters/)\n",
    "\n",
    "find the longest unrepeated string\n",
    "\n",
    "遍歷字串\n",
    "\n",
    "head 指著要檢查的子字串開頭\n",
    "\n",
    "遇到重複的字元, 將 head 跳到重覆位置的下一個字元去 head = lookup\\[c]+1\n",
    "\n",
    "將當前字元存進 hashtable\n",
    "\n"
   ],
   "cell_type": "markdown",
   "metadata": {}
  },
  {
   "cell_type": "code",
   "execution_count": null,
   "metadata": {},
   "outputs": [],
   "source": [
    "class Solution:\n",
    "    def lengthOfLongestSubstring(self, s: str) -> int:\n",
    "        n = len(s)\n",
    "        if n <= 1:\n",
    "            return n\n",
    "        head = max_len = 0\n",
    "        lookup = dict()\n",
    "        for i, c in enumerate(s):\n",
    "            # forgot to check where the head is\n",
    "            if c in lookup and head <= lookup[c]:\n",
    "                head = lookup[c] + 1\n",
    "            else:\n",
    "                max_len = max(max_len, i - head + 1)\n",
    "            lookup[c] = i\n",
    "        return max_len\n",
    "    "
   ]
  },
  {
   "source": [
    "## [76. Minimum Window Substring](https://leetcode.com/problems/minimum-window-substring/)\n",
    "\n",
    "在字串 s 之中找到包含字串 t 中所有字元的最短子字串\n",
    "\n",
    "2 pointers: left, right\n",
    "\n",
    "counter: 紀錄 t 是不是被完全包含 (==0)\n",
    "\n",
    "head: 紀錄最短子字串的開頭\n",
    "\n",
    "使用 hashtable 紀錄 t 的狀況\n",
    "\n",
    "移動 right, 直到 t 全部被包含進去, 紀錄當前長度\n",
    "\n",
    "+ 只有符合 t 還沒被包含的字母時 (```if table[s[right]] > 0```), counter 才會減一\n",
    "\n",
    "移動 left, 直到 t 沒有被全部包含, 然後再接著移動 right\n",
    "\n",
    "直到 right 走到底且 left 在 -len(t) 的位置\n"
   ],
   "cell_type": "markdown",
   "metadata": {}
  },
  {
   "cell_type": "code",
   "execution_count": 14,
   "metadata": {},
   "outputs": [],
   "source": [
    "class Solution:\n",
    "    def minWindow(self, s: str, t: str) -> str:\n",
    "        lenS = len(s)\n",
    "        # counter: checking whether t is fully included\n",
    "        lenT = counter = len(t)\n",
    "        lenMin = lenS + 1\n",
    "        left = right = head = 0\n",
    "        res = ''\n",
    "        \n",
    "        # making table for checking t\n",
    "        table = dict()\n",
    "        for cha in t:\n",
    "            if cha in table:\n",
    "                table[cha] += 1\n",
    "            else:\n",
    "                table[cha] = 1\n",
    "        # iterative right till the end\n",
    "        while right < lenS:\n",
    "            if s[right] in table:\n",
    "                # only if t still left the certain char to match\n",
    "                if table[s[right]] > 0:\n",
    "                    counter -= 1\n",
    "                table[s[right]] -= 1\n",
    "            right += 1\n",
    "            \n",
    "            # t is fully included\n",
    "            while counter == 0:\n",
    "                if right - left < lenMin:\n",
    "                    lenMin = right - left\n",
    "                    head = left\n",
    "                if s[left] in table:\n",
    "                    table[s[left]] += 1\n",
    "                    # current substring does not contain all required chars\n",
    "                    if table[s[left]] > 0:\n",
    "                        counter += 1\n",
    "                left += 1\n",
    "        if lenMin == lenS + 1: # not included\n",
    "            return ''\n",
    "        return s[head : head + lenMin]"
   ]
  },
  {
   "cell_type": "code",
   "execution_count": 15,
   "metadata": {},
   "outputs": [
    {
     "output_type": "execute_result",
     "data": {
      "text/plain": [
       "'GCA'"
      ]
     },
     "metadata": {},
     "execution_count": 15
    }
   ],
   "source": [
    "Solution.minWindow(_, 'ABCDCDACDGCA', 'ACG')"
   ]
  },
  {
   "source": [
    "## [239. Sliding Window Maximum](https://leetcode.com/problems/sliding-window-maximum/)\n",
    "\n",
    "在數字陣列 num 之中找到, 長度 k 的子字串中最大的數字\n",
    "\n",
    "使用 queue 儲存可能為最大值的座標\n",
    "\n",
    "最大值的座標總是在 queue\\[0]\n",
    "\n",
    "當目前的最大值要離開 window 了, popleft\n",
    "\n",
    "檢查新的值 nums\\[i], 把所有比這個小的值 pop 掉\n",
    "\n",
    "將新的座標放進 queue 中\n",
    "\n",
    "如果已經遍歷到長度 k 之後, 將 nums\\[queue\\[0]] 放進答案中"
   ],
   "cell_type": "markdown",
   "metadata": {}
  },
  {
   "cell_type": "code",
   "execution_count": null,
   "metadata": {},
   "outputs": [],
   "source": [
    "from collections import deque\n",
    "class Solution:\n",
    "    def maxSlidingWindow(self, nums: List[int], k: int) -> List[int]:\n",
    "        \n",
    "        ans = []\n",
    "        queue = deque()\n",
    "        \n",
    "        for i in range(len(nums)):\n",
    "            # the max index leave the window\n",
    "            if queue and i - queue[0] == k:\n",
    "                queue.popleft()\n",
    "            \n",
    "            # clear smaller index in queue\n",
    "            while queue and nums[i] >= nums[queue[-1]]:\n",
    "                queue.pop()\n",
    "            queue.append(i)\n",
    "            \n",
    "            if i >= k-1:\n",
    "                ans.append(nums[queue[0]])\n",
    "        \n",
    "        return ans"
   ]
  }
 ]
}