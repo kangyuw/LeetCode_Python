{
 "metadata": {
  "language_info": {
   "codemirror_mode": {
    "name": "ipython",
    "version": 3
   },
   "file_extension": ".py",
   "mimetype": "text/x-python",
   "name": "python",
   "nbconvert_exporter": "python",
   "pygments_lexer": "ipython3",
   "version": 3
  },
  "orig_nbformat": 2
 },
 "nbformat": 4,
 "nbformat_minor": 2,
 "cells": [
  {
   "source": [
    "[1. Two Sum](https://leetcode.com/problems/two-sum/)\n",
    "\n",
    "用 hash table 紀錄 hash {target - value: index}"
   ],
   "cell_type": "markdown",
   "metadata": {}
  },
  {
   "cell_type": "code",
   "execution_count": null,
   "metadata": {},
   "outputs": [],
   "source": [
    "class Solution:\n",
    "    def twoSum(self, nums: List[int], target: int) -> List[int]:\n",
    "        n = len(nums)\n",
    "        lookup = dict()\n",
    "        if n <= 2:\n",
    "            return [0, 1]\n",
    "        for i, v in enumerate(nums):\n",
    "            if v in lookup:\n",
    "                return [lookup[v], i]\n",
    "            else:\n",
    "                lookup[target - v] = i"
   ]
  },
  {
   "source": [
    "```cpp=\n",
    "class Solution {\n",
    "public:\n",
    "    vector<int> twoSum(vector<int>& nums, int target) {\n",
    "        // target - value: index\n",
    "        unordered_map<int, int> hash;\n",
    "        vector <int> result;\n",
    "        int n = nums.size();\n",
    "        if (n <= 2)\n",
    "            return {0, 1};\n",
    "        for (int i=0; i < nums.size(); i++){\n",
    "            if (hash.find(nums[i]) != hash.end()){\n",
    "                result.push_back(hash[nums[i]]);\n",
    "                result.push_back(i);\n",
    "                return result;\n",
    "            } else {\n",
    "                hash[target - nums[i]] = i;\n",
    "            }\n",
    "        }\n",
    "        return result;\n",
    "    }\n",
    "};\n",
    "```"
   ],
   "cell_type": "markdown",
   "metadata": {}
  },
  {
   "source": [
    "[167. Two Sum II - Input array is sorted](https://leetcode.com/problems/two-sum-ii-input-array-is-sorted/)\n",
    "\n",
    "2 pointers, 當總和較大, right 往中間; 較小 left 往中間"
   ],
   "cell_type": "markdown",
   "metadata": {}
  },
  {
   "cell_type": "code",
   "execution_count": null,
   "metadata": {},
   "outputs": [],
   "source": [
    "class Solution:\n",
    "    def twoSum(self, numbers: List[int], target: int) -> List[int]:\n",
    "        left, right = 0, len(numbers) - 1\n",
    "        while left < right:\n",
    "            comb = numbers[left] + numbers[right]\n",
    "            if comb == target:\n",
    "                return [left + 1, right + 1]\n",
    "            elif comb < target:\n",
    "                left += 1\n",
    "            else:\n",
    "                right -= 1"
   ]
  },
  {
   "source": [
    "[170. Two Sum III - Data structure design](https://leetcode.com/problems/two-sum-iii-data-structure-design/)\n",
    "\n",
    "建立 defaultdic 儲存數字, 要注意可能有重複數字相加的狀況"
   ],
   "cell_type": "markdown",
   "metadata": {}
  },
  {
   "cell_type": "code",
   "execution_count": null,
   "metadata": {},
   "outputs": [],
   "source": [
    "from collections import defaultdict\n",
    "\n",
    "class TwoSum:\n",
    "\n",
    "    def __init__(self):\n",
    "        \"\"\"\n",
    "        Initialize your data structure here.\n",
    "        \"\"\"\n",
    "        self.table = defaultdict(int)\n",
    "\n",
    "    def add(self, number: int) -> None:\n",
    "        \"\"\"\n",
    "        Add the number to an internal data structure..\n",
    "        \"\"\"\n",
    "        self.table[number] += 1\n",
    "\n",
    "    def find(self, value: int) -> bool:\n",
    "        \"\"\"\n",
    "        Find if there exists any pair of numbers which sum is equal to the value.\n",
    "        \"\"\"\n",
    "        for num in self.table.keys():\n",
    "            # Two Sum\n",
    "            if value - num != num:\n",
    "                if value - num in self.table:\n",
    "                    return True\n",
    "            # add two same number\n",
    "            elif self.table[num] > 1:\n",
    "                return True\n",
    "            \n",
    "        return False\n",
    "\n",
    "\n",
    "# Your TwoSum object will be instantiated and called as such:\n",
    "# obj = TwoSum()\n",
    "# obj.add(number)\n",
    "# param_2 = obj.find(value)"
   ]
  },
  {
   "source": [
    "[653. Two Sum IV - Input is a BST](https://leetcode.com/problems/two-sum-iv-input-is-a-bst/)\n",
    "\n",
    "queue 遍歷 BST, BFS\n",
    "\n",
    "檢查 queue\\[0] 在不在 hash table 中\n",
    "\n",
    "沒有的話 pop 出來繼續遍歷"
   ],
   "cell_type": "markdown",
   "metadata": {}
  },
  {
   "cell_type": "code",
   "execution_count": null,
   "metadata": {},
   "outputs": [],
   "source": [
    "class Solution:\n",
    "    def findTarget(self, root: TreeNode, k: int) -> bool:\n",
    "        lookup = {}\n",
    "        queue = [root]\n",
    "        while (len(queue) > 0):\n",
    "            if queue[0].left:\n",
    "                queue.append(queue[0].left)\n",
    "            if queue[0].right:\n",
    "                queue.append(queue[0].right)\n",
    "            \n",
    "            if (k - queue[0].val in lookup):\n",
    "                return True\n",
    "            else:\n",
    "                lookup[queue[0].val] = 1\n",
    "            queue.pop(0)\n",
    "        return False"
   ]
  },
  {
   "source": [
    "[1099. Two Sum Less Than K](https://leetcode.com/problems/two-sum-less-than-k/)\n",
    "\n",
    "2 pointers, 先 sort 後, 找小於 K 的組合"
   ],
   "cell_type": "markdown",
   "metadata": {}
  },
  {
   "cell_type": "code",
   "execution_count": null,
   "metadata": {},
   "outputs": [],
   "source": [
    "class Solution:\n",
    "    def twoSumLessThanK(self, A: List[int], K: int) -> int:\n",
    "        A.sort()\n",
    "        left, right = 0, len(A)-1\n",
    "        ans = -1\n",
    "        while left < right:\n",
    "            comb = A[left] + A[right]\n",
    "            if comb < K:\n",
    "                left += 1\n",
    "                ans = max(ans, comb)\n",
    "            else:\n",
    "                right -= 1\n",
    "        return ans"
   ]
  },
  {
   "source": [
    "[560. Subarray Sum Equals K](https://leetcode.com/problems/subarray-sum-equals-k/)\n",
    "\n",
    "hash table 紀錄總和, 將當前總和 - K 的 value 加進 ans 中, 再來將當前總和紀錄下來\n",
    "\n",
    "sum([:j]) - sum([:i]) = sum [i:j]\n"
   ],
   "cell_type": "markdown",
   "metadata": {}
  },
  {
   "cell_type": "code",
   "execution_count": null,
   "metadata": {},
   "outputs": [],
   "source": [
    "class Solution:\n",
    "    def subarraySum(self, nums: List[int], k: int) -> int:\n",
    "        n = len(nums)\n",
    "        currSum = 0\n",
    "        sumTable = {0:1}\n",
    "        ans = 0\n",
    "        for i in range(n):\n",
    "            currSum += nums[i]\n",
    "            if currSum - k in sumTable:\n",
    "                ans += sumTable[currSum - k]\n",
    "            if currSum in sumTable:\n",
    "                sumTable[currSum] += 1\n",
    "            else:\n",
    "                sumTable[currSum] = 1\n",
    "        return ans"
   ]
  },
  {
   "source": [
    "[3Sum](https://leetcode.com/problems/3sum/)\n",
    "\n",
    "遍歷矩陣, 對後面的項目進行 sorted two sum"
   ],
   "cell_type": "markdown",
   "metadata": {}
  },
  {
   "cell_type": "code",
   "execution_count": null,
   "metadata": {},
   "outputs": [],
   "source": [
    "class Solution:\n",
    "    def threeSum(self, nums: List[int]) -> List[List[int]]:\n",
    "        # find three numbers combine to 0\n",
    "        # first acquire one number then operate two sum\n",
    "        res = []\n",
    "        nums.sort()\n",
    "        n = len(nums)\n",
    "        for i in range(n-2):\n",
    "            # afterward its all positive\n",
    "            if nums[i] > 0:\n",
    "                break\n",
    "            if i > 0 and nums[i] == nums[i-1]:\n",
    "                continue\n",
    "            left, right = i+1, n-1\n",
    "            # sorted twoSum\n",
    "            while left < right:\n",
    "                comb = nums[i] + nums[left] + nums[right]\n",
    "                if comb < 0:\n",
    "                    left += 1\n",
    "                elif comb > 0:\n",
    "                    right -= 1\n",
    "                else:\n",
    "                    res.append([nums[i], nums[left], nums[right]])\n",
    "                    # prevent repeat\n",
    "                    while left < right and nums[left] == nums[left+1]:\n",
    "                        left += 1\n",
    "                    while left < right and nums[right] == nums[right-1]:\n",
    "                        right -= 1\n",
    "                    left += 1\n",
    "                    right -= 1\n",
    "        \n",
    "        return res"
   ]
  },
  {
   "source": [
    "[16. 3Sum Closest](https://leetcode.com/problems/3sum-closest/)\n",
    "\n",
    "多一個判斷最近總和的變數"
   ],
   "cell_type": "markdown",
   "metadata": {}
  },
  {
   "cell_type": "code",
   "execution_count": null,
   "metadata": {},
   "outputs": [],
   "source": [
    "class Solution:\n",
    "    def threeSumClosest(self, nums: List[int], target: int) -> int:\n",
    "        # very similar to 3sum\n",
    "        # require one more variable for measuring abs between comb and target\n",
    "        # return the comb\n",
    "        res = 0\n",
    "        nums.sort()\n",
    "        n = len(nums)\n",
    "        diff = float('inf') # the only different between 3sum\n",
    "        for i in range(n-2):\n",
    "            # if i > 0 and nums[i] == nums[i-1]:\n",
    "            #     continue\n",
    "            left, right = i + 1, n - 1\n",
    "            # sorted twoSum\n",
    "            while left < right:\n",
    "                comb  = nums[i] + nums[right] + nums[left]\n",
    "                if abs(comb - target) < diff:\n",
    "                    diff = abs(comb - target)\n",
    "                    res = comb\n",
    "                if comb < target:\n",
    "                    left += 1\n",
    "                elif comb > target:\n",
    "                    right -= 1\n",
    "                else:\n",
    "                    return comb\n",
    "        return res"
   ]
  },
  {
   "source": [
    "[259. 3Sum Smaller](https://leetcode.com/problems/3sum-smaller/)\n",
    "\n",
    "找到所有較小的組合\n",
    "\n",
    "找到較小的組合後, 結果加上 right - left, 因為之間所有的組合都是比較小的"
   ],
   "cell_type": "markdown",
   "metadata": {}
  },
  {
   "cell_type": "code",
   "execution_count": null,
   "metadata": {},
   "outputs": [],
   "source": [
    "class Solution:\n",
    "    def threeSumSmaller(self, nums: List[int], target: int) -> int:\n",
    "        res = 0\n",
    "        nums.sort()\n",
    "        n = len(nums)\n",
    "        if n == 0:\n",
    "            return res\n",
    "        for i in range(n-2):\n",
    "            left, right = i+1, n-1\n",
    "            while left < right:\n",
    "                comb = nums[i] + nums[left] + nums[right]\n",
    "                if comb < target:\n",
    "                    res += right - left\n",
    "                    left += 1\n",
    "                else:\n",
    "                    right -= 1\n",
    "        \n",
    "        return res"
   ]
  },
  {
   "source": [
    "4 Sum\n",
    "\n",
    "遍歷矩陣, 對後面的項目進行 3Sum"
   ],
   "cell_type": "markdown",
   "metadata": {}
  },
  {
   "cell_type": "code",
   "execution_count": null,
   "metadata": {},
   "outputs": [],
   "source": [
    "class Solution:\n",
    "    def fourSum(self, nums: List[int], target: int) -> List[List[int]]:\n",
    "        \n",
    "        def kSum(nums: List[int], target, k):\n",
    "            res = []\n",
    "            # print(nums)\n",
    "            if len(nums) == 0 or nums[0] * k > target or nums[-1] * k < target:\n",
    "                return res\n",
    "            if k == 2:\n",
    "                return twoSum(nums, target)\n",
    "            for i in range(len(nums)):\n",
    "                if i == 0 or nums[i-1] != nums[i]:\n",
    "                    for _, subSet in enumerate(kSum(nums[i+1:], target - nums[i], k-1)):\n",
    "                        res.append([nums[i]] + subSet)\n",
    "            return res\n",
    "        \n",
    "        def twoSum(nums, target):\n",
    "            res = []\n",
    "            left, right = 0, len(nums)-1\n",
    "            while left < right:\n",
    "                comb = nums[left] + nums[right]\n",
    "                if comb < target:\n",
    "                    left += 1\n",
    "                elif comb > target:\n",
    "                    right -= 1\n",
    "                else:\n",
    "                    res.append([nums[left], nums[right]])\n",
    "                    # prevent repeat\n",
    "                    while left < right and nums[left] == nums[left+1]:\n",
    "                        left += 1\n",
    "                    while left < right and nums[right] == nums[right-1]:\n",
    "                        right -= 1\n",
    "                    left += 1\n",
    "                    right -= 1\n",
    "            return res\n",
    "        \n",
    "        \n",
    "        res = []\n",
    "        nums.sort()\n",
    "        # print(nums)\n",
    "        return kSum(nums, 0, 4)"
   ]
  },
  {
   "source": [
    "[4Sum II](https://leetcode.com/problems/4sum-ii/solution/)\n",
    "\n",
    "無法使用 2 pointers\n",
    "\n",
    "hashmap: (a+b) == -(c+d)\n",
    "\n",
    "變成兩個 two Sum"
   ],
   "cell_type": "markdown",
   "metadata": {}
  },
  {
   "cell_type": "code",
   "execution_count": null,
   "metadata": {},
   "outputs": [],
   "source": [
    "class Solution:\n",
    "    def fourSumCount(self, A: List[int], B: List[int], C: List[int], D: List[int]) -> int:\n",
    "        ans = 0\n",
    "        table = collections.defaultdict(int)\n",
    "        for a in A:\n",
    "            for b in B:\n",
    "                table[a+b] += 1\n",
    "        for c in C:\n",
    "            for d in D:\n",
    "                ans += table[-(c+d)]\n",
    "        return ans"
   ]
  }
 ]
}