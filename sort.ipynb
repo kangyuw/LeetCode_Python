{
 "metadata": {
  "language_info": {
   "codemirror_mode": {
    "name": "ipython",
    "version": 3
   },
   "file_extension": ".py",
   "mimetype": "text/x-python",
   "name": "python",
   "nbconvert_exporter": "python",
   "pygments_lexer": "ipython3",
   "version": 3
  },
  "orig_nbformat": 2
 },
 "nbformat": 4,
 "nbformat_minor": 2,
 "cells": [
  {
   "source": [
    "## [56\\. Merge Intervals](https://leetcode.com/problems/merge-intervals/)\n",
    "\n",
    "將重疊的範圍聯合起來\n",
    "\n",
    "sort, 根據開頭排序\n",
    "\n",
    "遍歷 intervals\n",
    "\n",
    "如果目前的開頭比之前一項的結尾小或等於, 代表有重疊, 將之前項目的結尾改成較大的結尾\n",
    "\n",
    "如果目前的開頭比之前一項的結尾大, 沒有重疊, 直接貼上\n",
    "\n",
    "Time: O(n log n)"
   ],
   "cell_type": "markdown",
   "metadata": {}
  },
  {
   "cell_type": "code",
   "execution_count": null,
   "metadata": {},
   "outputs": [],
   "source": [
    "class Solution:\n",
    "    def merge(self, intervals: List[List[int]]) -> List[List[int]]:\n",
    "        res = []\n",
    "        intervals.sort()\n",
    "        for inter in intervals:\n",
    "            if len(res) == 0 or inter[0] > res[-1][1]:\n",
    "                res.append(cur)\n",
    "            else:\n",
    "                res[-1][1] = max(res[-1][1], inter[1])\n",
    "        return res\n"
   ]
  },
  {
   "source": [
    "## [973\\. K Closest Points to Origin](https://leetcode.com/problems/k-closest-points-to-origin/)\n",
    "\n",
    "將點根據距離整理好後, 回傳 K 個點\n",
    "\n",
    "Time: O(n log n)"
   ],
   "cell_type": "markdown",
   "metadata": {}
  },
  {
   "cell_type": "code",
   "execution_count": null,
   "metadata": {},
   "outputs": [],
   "source": [
    "class Solution:\n",
    "    def kClosest(self, points: List[List[int]], K: int) -> List[List[int]]:\n",
    "        points.sort(key=lambda p: p[0]**2+p[1]**2)\n",
    "        return points[:K]"
   ]
  },
  {
   "source": [
    "## [253\\. Meeting Rooms II](https://leetcode.com/problems/meeting-rooms-ii/)\n",
    "\n",
    "Given an array of meeting time intervals consisting of start and end times `[[s1,e1],[s2,e2],...]` (s<sub style=\"display: inline;\">i</sub> < e<sub style=\"display: inline;\">i</sub>), find the minimum number of conference rooms required.\n",
    "\n",
    "陣列是開始時間跟結束時間, 回傳最少需要幾個會議室\n",
    "\n",
    "有重疊才會需要額外的會議室\n",
    "\n",
    "根據開始時間排序\n",
    "\n",
    "將結束時間放進 minHeap 中\n",
    "\n",
    "遍歷 intervals 如果開始時間已經超過 heap 開頭的結束時間, heappop\n",
    "\n",
    "最後回傳 heap 的長度\n",
    "\n",
    "Time: O(n log n)\n",
    "\n",
    "+ sort: O(n log n)\n",
    "+ heappop, heappush: O(log n) 遍歷 n 次"
   ],
   "cell_type": "markdown",
   "metadata": {}
  },
  {
   "cell_type": "code",
   "execution_count": null,
   "metadata": {},
   "outputs": [],
   "source": [
    "import heapq\n",
    "class Solution:\n",
    "    def minMeetingRooms(self, intervals: List[List[int]]) -> int:\n",
    "        if not intervals:\n",
    "            return 0\n",
    "        # sort by start time\n",
    "        intervals.sort()\n",
    "        heap = []\n",
    "        # push end time in the minHeap\n",
    "        heapq.heappush(heap, intervals[0][1])\n",
    "        for inter in intervals[1:]:\n",
    "            if heap[0] <= inter[0]:\n",
    "                heappop(heap)\n",
    "            heapq.heappush(heap, inter[1])\n",
    "        return len(heap)"
   ]
  },
  {
   "source": [
    "## [1235. Maximum Profit in Job Scheduling](https://leetcode.com/problems/maximum-profit-in-job-scheduling/)\n",
    "\n",
    "找到最大 profit 的組合: DP\n",
    "\n",
    "根據 end time 排序\n",
    "\n",
    "dp\\[i]: 判斷完 jobs\\[i] 後可以產生的最大 profit\n",
    "\n",
    "base case: d\\[0] = 0\n",
    "\n",
    "遍歷 jobs, binary search\n",
    "\n",
    "在 jobs 之中找 endTime 在現在 job 的 startTime 之前的工作, 代表會做此工作\n",
    "\n",
    "transition: dp\\[i] = max(pr, dp\\[i-1])\n",
    "\n",
    "沒有就別做\n",
    "\n",
    "Time: O(n log n), for * binary search"
   ],
   "cell_type": "markdown",
   "metadata": {}
  },
  {
   "cell_type": "code",
   "execution_count": null,
   "metadata": {},
   "outputs": [],
   "source": [
    "class Solution:\n",
    "    def jobScheduling(self, startTime: List[int], endTime: List[int], profit: List[int]) -> int:\n",
    "        # sort jobs according to endTime\n",
    "        jobs = sorted(zip(startTime, endTime, profit), key=lambda job: job[1])\n",
    "        dp = [0] * len(jobs)\n",
    "        dp[0] = jobs[0][2]\n",
    "        print(dp)\n",
    "        for i in range(1, len(jobs)):\n",
    "            pr = jobs[i][2]\n",
    "            idx = self.search(jobs, i)\n",
    "            if (idx != -1):\n",
    "                pr += dp[idx]\n",
    "            dp[i] = max(pr, dp[i-1])\n",
    "        \n",
    "        return dp[-1]\n",
    "    \n",
    "    def search(self, jobs, index):\n",
    "        lo, hi = 0, index - 1\n",
    "\n",
    "        while lo <= hi:\n",
    "            mid = (lo+hi) // 2\n",
    "            # find previous job endTime before startTime of current job \n",
    "            if jobs[mid][1] <= jobs[index][0]:\n",
    "                # if the next job happend before current job as well\n",
    "                if jobs[mid+1][1] <= jobs[index][0]:\n",
    "                    lo = mid + 1\n",
    "                else:\n",
    "                    return mid\n",
    "            else:\n",
    "                hi = mid - 1\n",
    "        \n",
    "        # faild to find any job\n",
    "        return -1"
   ]
  },
  {
   "source": [
    "## [1152. Analyze User Website Visit Pattern](https://leetcode.com/problems/analyze-user-website-visit-pattern/)\n",
    "\n",
    "找出對於個別使用者, 最常使用的三個字串\n",
    "\n",
    "先針對 timestamp 排序, 使用 defaultdict 儲存每個使用者的紀錄\n",
    "\n",
    "對於每個使用者, 使用 combinations 找到他的三字串組合, 並放進 Counter 中計算頻率\n",
    "\n",
    "回傳頻率最高, 且字母順序最前面的三字串\n",
    "\n",
    "Time: O(n log n)"
   ],
   "cell_type": "markdown",
   "metadata": {}
  },
  {
   "cell_type": "code",
   "execution_count": null,
   "metadata": {},
   "outputs": [],
   "source": [
    "from collections import Counter, defaultdict\n",
    "from itertools import combinations\n",
    "\n",
    "class Solution:\n",
    "    def mostVisitedPattern(self, username: List[str], timestamp: List[int], website: List[str]) -> List[str]:\n",
    "        \n",
    "        user_table = defaultdict(list)\n",
    "        for t, u, w in sorted(zip(timestamp, username, website)):\n",
    "            user_table[u].append(w)\n",
    "            \n",
    "        cnt = Counter()\n",
    "        for websites in user_table.values():\n",
    "            cnt += Counter(set(combinations(websites, 3)))\n",
    "        \n",
    "        return min(cnt, key=lambda k: (-cnt[k], k)) # the biggest number, the smallest charcters"
   ]
  }
 ]
}